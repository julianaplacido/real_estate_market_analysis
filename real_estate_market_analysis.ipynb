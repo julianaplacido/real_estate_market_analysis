{
 "cells": [
  {
   "cell_type": "markdown",
   "metadata": {},
   "source": [
    "### House Pricing\n",
    "\n",
    "In this project we'll try to apply different techniques (Data Transformation, Hyperparameter Optimization, Advanced Models, etc.) to create a model with a great behavior capable of predicting different house prices.\n",
    "\n",
    "\n",
    "The project has three parts:\n",
    "\n",
    "PART A - Data Transformation\n",
    "\n",
    "-Imputation of missing values\n",
    "\n",
    "-Detection and elimination of outliers\n",
    "\n",
    "-Encoding\n",
    "\n",
    "-Data Scaling\n",
    "\n",
    "We'll create a benchmark with the transformed data.\n",
    "\n",
    "PART B - Advanced models\n",
    "\n",
    "PART C - Interpretation of the models\n",
    "\n",
    "Try to answer different questions like:\n",
    "\n",
    "-Which variables were relevant for the model?\n",
    "\n",
    "-Which variables were not?\n",
    "\n",
    "-Were is the model failing? Why?\n"
   ]
  },
  {
   "cell_type": "code",
   "execution_count": 1,
   "metadata": {},
   "outputs": [],
   "source": [
    "import pandas as pd\n",
    "import numpy as np\n",
    "import matplotlib.pyplot as plt\n",
    "import seaborn as sns"
   ]
  },
  {
   "cell_type": "code",
   "execution_count": 3,
   "metadata": {},
   "outputs": [
    {
     "name": "stdout",
     "output_type": "stream",
     "text": [
      "(146660, 19)\n"
     ]
    },
    {
     "data": {
      "text/html": [
       "<div>\n",
       "<style scoped>\n",
       "    .dataframe tbody tr th:only-of-type {\n",
       "        vertical-align: middle;\n",
       "    }\n",
       "\n",
       "    .dataframe tbody tr th {\n",
       "        vertical-align: top;\n",
       "    }\n",
       "\n",
       "    .dataframe thead th {\n",
       "        text-align: right;\n",
       "    }\n",
       "</style>\n",
       "<table border=\"1\" class=\"dataframe\">\n",
       "  <thead>\n",
       "    <tr style=\"text-align: right;\">\n",
       "      <th></th>\n",
       "      <th>start_date</th>\n",
       "      <th>end_date</th>\n",
       "      <th>created_on</th>\n",
       "      <th>lat</th>\n",
       "      <th>lon</th>\n",
       "      <th>l1</th>\n",
       "      <th>l2</th>\n",
       "      <th>l3</th>\n",
       "      <th>rooms</th>\n",
       "      <th>bedrooms</th>\n",
       "      <th>bathrooms</th>\n",
       "      <th>surface_total</th>\n",
       "      <th>surface_covered</th>\n",
       "      <th>price</th>\n",
       "      <th>currency</th>\n",
       "      <th>title</th>\n",
       "      <th>description</th>\n",
       "      <th>property_type</th>\n",
       "      <th>operation_type</th>\n",
       "    </tr>\n",
       "  </thead>\n",
       "  <tbody>\n",
       "    <tr>\n",
       "      <th>0</th>\n",
       "      <td>2019-10-17</td>\n",
       "      <td>2019-12-23</td>\n",
       "      <td>2019-10-17</td>\n",
       "      <td>-34.605880</td>\n",
       "      <td>-58.384949</td>\n",
       "      <td>Argentina</td>\n",
       "      <td>Capital Federal</td>\n",
       "      <td>San Cristobal</td>\n",
       "      <td>7.0</td>\n",
       "      <td>7.0</td>\n",
       "      <td>2.0</td>\n",
       "      <td>140.0</td>\n",
       "      <td>140.0</td>\n",
       "      <td>153000.0</td>\n",
       "      <td>USD</td>\n",
       "      <td>***Venta semipiso centro, ideal hostel*****</td>\n",
       "      <td>DESCRIPCION DE LA PROPIEDAD: Departamento de 1...</td>\n",
       "      <td>Departamento</td>\n",
       "      <td>Venta</td>\n",
       "    </tr>\n",
       "    <tr>\n",
       "      <th>1</th>\n",
       "      <td>2019-10-17</td>\n",
       "      <td>2019-11-21</td>\n",
       "      <td>2019-10-17</td>\n",
       "      <td>-34.624056</td>\n",
       "      <td>-58.412110</td>\n",
       "      <td>Argentina</td>\n",
       "      <td>Capital Federal</td>\n",
       "      <td>Boedo</td>\n",
       "      <td>2.0</td>\n",
       "      <td>1.0</td>\n",
       "      <td>2.0</td>\n",
       "      <td>70.0</td>\n",
       "      <td>58.0</td>\n",
       "      <td>159000.0</td>\n",
       "      <td>USD</td>\n",
       "      <td>Espectacular PH reciclado en Boedo sin expensas.</td>\n",
       "      <td>PH reciclado en Boedo a una cuadra de la plaz...</td>\n",
       "      <td>PH</td>\n",
       "      <td>Venta</td>\n",
       "    </tr>\n",
       "    <tr>\n",
       "      <th>2</th>\n",
       "      <td>2019-10-17</td>\n",
       "      <td>2019-11-01</td>\n",
       "      <td>2019-10-17</td>\n",
       "      <td>-34.593569</td>\n",
       "      <td>-58.427474</td>\n",
       "      <td>Argentina</td>\n",
       "      <td>Capital Federal</td>\n",
       "      <td>Palermo</td>\n",
       "      <td>2.0</td>\n",
       "      <td>1.0</td>\n",
       "      <td>1.0</td>\n",
       "      <td>45.0</td>\n",
       "      <td>45.0</td>\n",
       "      <td>125000.0</td>\n",
       "      <td>USD</td>\n",
       "      <td>Depto.tipo casa de 2 ambientes en Venta en Pal...</td>\n",
       "      <td>2 ambienets amplio , excelente estado , patio ...</td>\n",
       "      <td>PH</td>\n",
       "      <td>Venta</td>\n",
       "    </tr>\n",
       "    <tr>\n",
       "      <th>3</th>\n",
       "      <td>2019-10-17</td>\n",
       "      <td>2019-12-23</td>\n",
       "      <td>2019-10-17</td>\n",
       "      <td>-34.581294</td>\n",
       "      <td>-58.436754</td>\n",
       "      <td>Argentina</td>\n",
       "      <td>Capital Federal</td>\n",
       "      <td>Palermo</td>\n",
       "      <td>2.0</td>\n",
       "      <td>1.0</td>\n",
       "      <td>1.0</td>\n",
       "      <td>85.0</td>\n",
       "      <td>50.0</td>\n",
       "      <td>295000.0</td>\n",
       "      <td>USD</td>\n",
       "      <td>COSTA RICA 5800 / PALERMO HOLLYWOOD / VENTA PH...</td>\n",
       "      <td>HERMOSO PH EN PALERMO!!!2 AMBIENTES TOTALMENTE...</td>\n",
       "      <td>PH</td>\n",
       "      <td>Venta</td>\n",
       "    </tr>\n",
       "    <tr>\n",
       "      <th>4</th>\n",
       "      <td>2019-10-17</td>\n",
       "      <td>2020-03-11</td>\n",
       "      <td>2019-10-17</td>\n",
       "      <td>-34.914194</td>\n",
       "      <td>-57.938219</td>\n",
       "      <td>Argentina</td>\n",
       "      <td>Bs.As. G.B.A. Zona Sur</td>\n",
       "      <td>La Plata</td>\n",
       "      <td>2.0</td>\n",
       "      <td>1.0</td>\n",
       "      <td>1.0</td>\n",
       "      <td>50.0</td>\n",
       "      <td>35.0</td>\n",
       "      <td>40000.0</td>\n",
       "      <td>USD</td>\n",
       "      <td>58 entre 1 y 2  Venta de departamento en ph.1 ...</td>\n",
       "      <td>58 entre 1 y 2  Venta de departamento en PH. P...</td>\n",
       "      <td>PH</td>\n",
       "      <td>Venta</td>\n",
       "    </tr>\n",
       "  </tbody>\n",
       "</table>\n",
       "</div>"
      ],
      "text/plain": [
       "   start_date    end_date  created_on        lat        lon         l1  \\\n",
       "0  2019-10-17  2019-12-23  2019-10-17 -34.605880 -58.384949  Argentina   \n",
       "1  2019-10-17  2019-11-21  2019-10-17 -34.624056 -58.412110  Argentina   \n",
       "2  2019-10-17  2019-11-01  2019-10-17 -34.593569 -58.427474  Argentina   \n",
       "3  2019-10-17  2019-12-23  2019-10-17 -34.581294 -58.436754  Argentina   \n",
       "4  2019-10-17  2020-03-11  2019-10-17 -34.914194 -57.938219  Argentina   \n",
       "\n",
       "                       l2             l3  rooms  bedrooms  bathrooms  \\\n",
       "0         Capital Federal  San Cristobal    7.0       7.0        2.0   \n",
       "1         Capital Federal          Boedo    2.0       1.0        2.0   \n",
       "2         Capital Federal        Palermo    2.0       1.0        1.0   \n",
       "3         Capital Federal        Palermo    2.0       1.0        1.0   \n",
       "4  Bs.As. G.B.A. Zona Sur       La Plata    2.0       1.0        1.0   \n",
       "\n",
       "   surface_total  surface_covered     price currency  \\\n",
       "0          140.0            140.0  153000.0      USD   \n",
       "1           70.0             58.0  159000.0      USD   \n",
       "2           45.0             45.0  125000.0      USD   \n",
       "3           85.0             50.0  295000.0      USD   \n",
       "4           50.0             35.0   40000.0      USD   \n",
       "\n",
       "                                               title  \\\n",
       "0        ***Venta semipiso centro, ideal hostel*****   \n",
       "1   Espectacular PH reciclado en Boedo sin expensas.   \n",
       "2  Depto.tipo casa de 2 ambientes en Venta en Pal...   \n",
       "3  COSTA RICA 5800 / PALERMO HOLLYWOOD / VENTA PH...   \n",
       "4  58 entre 1 y 2  Venta de departamento en ph.1 ...   \n",
       "\n",
       "                                         description property_type  \\\n",
       "0  DESCRIPCION DE LA PROPIEDAD: Departamento de 1...  Departamento   \n",
       "1   PH reciclado en Boedo a una cuadra de la plaz...            PH   \n",
       "2  2 ambienets amplio , excelente estado , patio ...            PH   \n",
       "3  HERMOSO PH EN PALERMO!!!2 AMBIENTES TOTALMENTE...            PH   \n",
       "4  58 entre 1 y 2  Venta de departamento en PH. P...            PH   \n",
       "\n",
       "  operation_type  \n",
       "0          Venta  \n",
       "1          Venta  \n",
       "2          Venta  \n",
       "3          Venta  \n",
       "4          Venta  "
      ]
     },
     "execution_count": 3,
     "metadata": {},
     "output_type": "execute_result"
    }
   ],
   "source": [
    "pr = pd.read_csv('DS_Proyecto_01_Datos_Properati.csv')\n",
    "\n",
    "print(pr.shape)\n",
    "\n",
    "pr.head() \n"
   ]
  },
  {
   "cell_type": "code",
   "execution_count": 4,
   "metadata": {},
   "outputs": [
    {
     "data": {
      "text/html": [
       "<div>\n",
       "<style scoped>\n",
       "    .dataframe tbody tr th:only-of-type {\n",
       "        vertical-align: middle;\n",
       "    }\n",
       "\n",
       "    .dataframe tbody tr th {\n",
       "        vertical-align: top;\n",
       "    }\n",
       "\n",
       "    .dataframe thead th {\n",
       "        text-align: right;\n",
       "    }\n",
       "</style>\n",
       "<table border=\"1\" class=\"dataframe\">\n",
       "  <thead>\n",
       "    <tr style=\"text-align: right;\">\n",
       "      <th></th>\n",
       "      <th>start_date</th>\n",
       "      <th>end_date</th>\n",
       "      <th>created_on</th>\n",
       "      <th>lat</th>\n",
       "      <th>lon</th>\n",
       "      <th>l1</th>\n",
       "      <th>l2</th>\n",
       "      <th>l3</th>\n",
       "      <th>rooms</th>\n",
       "      <th>bedrooms</th>\n",
       "      <th>bathrooms</th>\n",
       "      <th>surface_total</th>\n",
       "      <th>surface_covered</th>\n",
       "      <th>price</th>\n",
       "      <th>currency</th>\n",
       "      <th>title</th>\n",
       "      <th>description</th>\n",
       "      <th>property_type</th>\n",
       "      <th>operation_type</th>\n",
       "    </tr>\n",
       "  </thead>\n",
       "  <tbody>\n",
       "    <tr>\n",
       "      <th>0</th>\n",
       "      <td>False</td>\n",
       "      <td>False</td>\n",
       "      <td>False</td>\n",
       "      <td>False</td>\n",
       "      <td>False</td>\n",
       "      <td>False</td>\n",
       "      <td>False</td>\n",
       "      <td>False</td>\n",
       "      <td>False</td>\n",
       "      <td>False</td>\n",
       "      <td>False</td>\n",
       "      <td>False</td>\n",
       "      <td>False</td>\n",
       "      <td>False</td>\n",
       "      <td>False</td>\n",
       "      <td>False</td>\n",
       "      <td>False</td>\n",
       "      <td>False</td>\n",
       "      <td>False</td>\n",
       "    </tr>\n",
       "    <tr>\n",
       "      <th>1</th>\n",
       "      <td>False</td>\n",
       "      <td>False</td>\n",
       "      <td>False</td>\n",
       "      <td>False</td>\n",
       "      <td>False</td>\n",
       "      <td>False</td>\n",
       "      <td>False</td>\n",
       "      <td>False</td>\n",
       "      <td>False</td>\n",
       "      <td>False</td>\n",
       "      <td>False</td>\n",
       "      <td>False</td>\n",
       "      <td>False</td>\n",
       "      <td>False</td>\n",
       "      <td>False</td>\n",
       "      <td>False</td>\n",
       "      <td>False</td>\n",
       "      <td>False</td>\n",
       "      <td>False</td>\n",
       "    </tr>\n",
       "    <tr>\n",
       "      <th>2</th>\n",
       "      <td>False</td>\n",
       "      <td>False</td>\n",
       "      <td>False</td>\n",
       "      <td>False</td>\n",
       "      <td>False</td>\n",
       "      <td>False</td>\n",
       "      <td>False</td>\n",
       "      <td>False</td>\n",
       "      <td>False</td>\n",
       "      <td>False</td>\n",
       "      <td>False</td>\n",
       "      <td>False</td>\n",
       "      <td>False</td>\n",
       "      <td>False</td>\n",
       "      <td>False</td>\n",
       "      <td>False</td>\n",
       "      <td>False</td>\n",
       "      <td>False</td>\n",
       "      <td>False</td>\n",
       "    </tr>\n",
       "    <tr>\n",
       "      <th>3</th>\n",
       "      <td>False</td>\n",
       "      <td>False</td>\n",
       "      <td>False</td>\n",
       "      <td>False</td>\n",
       "      <td>False</td>\n",
       "      <td>False</td>\n",
       "      <td>False</td>\n",
       "      <td>False</td>\n",
       "      <td>False</td>\n",
       "      <td>False</td>\n",
       "      <td>False</td>\n",
       "      <td>False</td>\n",
       "      <td>False</td>\n",
       "      <td>False</td>\n",
       "      <td>False</td>\n",
       "      <td>False</td>\n",
       "      <td>False</td>\n",
       "      <td>False</td>\n",
       "      <td>False</td>\n",
       "    </tr>\n",
       "    <tr>\n",
       "      <th>4</th>\n",
       "      <td>False</td>\n",
       "      <td>False</td>\n",
       "      <td>False</td>\n",
       "      <td>False</td>\n",
       "      <td>False</td>\n",
       "      <td>False</td>\n",
       "      <td>False</td>\n",
       "      <td>False</td>\n",
       "      <td>False</td>\n",
       "      <td>False</td>\n",
       "      <td>False</td>\n",
       "      <td>False</td>\n",
       "      <td>False</td>\n",
       "      <td>False</td>\n",
       "      <td>False</td>\n",
       "      <td>False</td>\n",
       "      <td>False</td>\n",
       "      <td>False</td>\n",
       "      <td>False</td>\n",
       "    </tr>\n",
       "    <tr>\n",
       "      <th>...</th>\n",
       "      <td>...</td>\n",
       "      <td>...</td>\n",
       "      <td>...</td>\n",
       "      <td>...</td>\n",
       "      <td>...</td>\n",
       "      <td>...</td>\n",
       "      <td>...</td>\n",
       "      <td>...</td>\n",
       "      <td>...</td>\n",
       "      <td>...</td>\n",
       "      <td>...</td>\n",
       "      <td>...</td>\n",
       "      <td>...</td>\n",
       "      <td>...</td>\n",
       "      <td>...</td>\n",
       "      <td>...</td>\n",
       "      <td>...</td>\n",
       "      <td>...</td>\n",
       "      <td>...</td>\n",
       "    </tr>\n",
       "    <tr>\n",
       "      <th>146655</th>\n",
       "      <td>False</td>\n",
       "      <td>False</td>\n",
       "      <td>False</td>\n",
       "      <td>False</td>\n",
       "      <td>False</td>\n",
       "      <td>False</td>\n",
       "      <td>False</td>\n",
       "      <td>False</td>\n",
       "      <td>False</td>\n",
       "      <td>False</td>\n",
       "      <td>False</td>\n",
       "      <td>False</td>\n",
       "      <td>False</td>\n",
       "      <td>False</td>\n",
       "      <td>False</td>\n",
       "      <td>False</td>\n",
       "      <td>False</td>\n",
       "      <td>False</td>\n",
       "      <td>False</td>\n",
       "    </tr>\n",
       "    <tr>\n",
       "      <th>146656</th>\n",
       "      <td>False</td>\n",
       "      <td>False</td>\n",
       "      <td>False</td>\n",
       "      <td>False</td>\n",
       "      <td>False</td>\n",
       "      <td>False</td>\n",
       "      <td>False</td>\n",
       "      <td>False</td>\n",
       "      <td>False</td>\n",
       "      <td>False</td>\n",
       "      <td>False</td>\n",
       "      <td>False</td>\n",
       "      <td>False</td>\n",
       "      <td>False</td>\n",
       "      <td>False</td>\n",
       "      <td>False</td>\n",
       "      <td>False</td>\n",
       "      <td>False</td>\n",
       "      <td>False</td>\n",
       "    </tr>\n",
       "    <tr>\n",
       "      <th>146657</th>\n",
       "      <td>False</td>\n",
       "      <td>False</td>\n",
       "      <td>False</td>\n",
       "      <td>False</td>\n",
       "      <td>False</td>\n",
       "      <td>False</td>\n",
       "      <td>False</td>\n",
       "      <td>False</td>\n",
       "      <td>False</td>\n",
       "      <td>False</td>\n",
       "      <td>False</td>\n",
       "      <td>False</td>\n",
       "      <td>False</td>\n",
       "      <td>False</td>\n",
       "      <td>False</td>\n",
       "      <td>False</td>\n",
       "      <td>False</td>\n",
       "      <td>False</td>\n",
       "      <td>False</td>\n",
       "    </tr>\n",
       "    <tr>\n",
       "      <th>146658</th>\n",
       "      <td>False</td>\n",
       "      <td>False</td>\n",
       "      <td>False</td>\n",
       "      <td>False</td>\n",
       "      <td>False</td>\n",
       "      <td>False</td>\n",
       "      <td>False</td>\n",
       "      <td>False</td>\n",
       "      <td>False</td>\n",
       "      <td>False</td>\n",
       "      <td>False</td>\n",
       "      <td>False</td>\n",
       "      <td>False</td>\n",
       "      <td>False</td>\n",
       "      <td>False</td>\n",
       "      <td>False</td>\n",
       "      <td>False</td>\n",
       "      <td>False</td>\n",
       "      <td>False</td>\n",
       "    </tr>\n",
       "    <tr>\n",
       "      <th>146659</th>\n",
       "      <td>False</td>\n",
       "      <td>False</td>\n",
       "      <td>False</td>\n",
       "      <td>False</td>\n",
       "      <td>False</td>\n",
       "      <td>False</td>\n",
       "      <td>False</td>\n",
       "      <td>False</td>\n",
       "      <td>False</td>\n",
       "      <td>False</td>\n",
       "      <td>False</td>\n",
       "      <td>False</td>\n",
       "      <td>False</td>\n",
       "      <td>False</td>\n",
       "      <td>False</td>\n",
       "      <td>False</td>\n",
       "      <td>False</td>\n",
       "      <td>False</td>\n",
       "      <td>False</td>\n",
       "    </tr>\n",
       "  </tbody>\n",
       "</table>\n",
       "<p>146660 rows × 19 columns</p>\n",
       "</div>"
      ],
      "text/plain": [
       "        start_date  end_date  created_on    lat    lon     l1     l2     l3  \\\n",
       "0            False     False       False  False  False  False  False  False   \n",
       "1            False     False       False  False  False  False  False  False   \n",
       "2            False     False       False  False  False  False  False  False   \n",
       "3            False     False       False  False  False  False  False  False   \n",
       "4            False     False       False  False  False  False  False  False   \n",
       "...            ...       ...         ...    ...    ...    ...    ...    ...   \n",
       "146655       False     False       False  False  False  False  False  False   \n",
       "146656       False     False       False  False  False  False  False  False   \n",
       "146657       False     False       False  False  False  False  False  False   \n",
       "146658       False     False       False  False  False  False  False  False   \n",
       "146659       False     False       False  False  False  False  False  False   \n",
       "\n",
       "        rooms  bedrooms  bathrooms  surface_total  surface_covered  price  \\\n",
       "0       False     False      False          False            False  False   \n",
       "1       False     False      False          False            False  False   \n",
       "2       False     False      False          False            False  False   \n",
       "3       False     False      False          False            False  False   \n",
       "4       False     False      False          False            False  False   \n",
       "...       ...       ...        ...            ...              ...    ...   \n",
       "146655  False     False      False          False            False  False   \n",
       "146656  False     False      False          False            False  False   \n",
       "146657  False     False      False          False            False  False   \n",
       "146658  False     False      False          False            False  False   \n",
       "146659  False     False      False          False            False  False   \n",
       "\n",
       "        currency  title  description  property_type  operation_type  \n",
       "0          False  False        False          False           False  \n",
       "1          False  False        False          False           False  \n",
       "2          False  False        False          False           False  \n",
       "3          False  False        False          False           False  \n",
       "4          False  False        False          False           False  \n",
       "...          ...    ...          ...            ...             ...  \n",
       "146655     False  False        False          False           False  \n",
       "146656     False  False        False          False           False  \n",
       "146657     False  False        False          False           False  \n",
       "146658     False  False        False          False           False  \n",
       "146659     False  False        False          False           False  \n",
       "\n",
       "[146660 rows x 19 columns]"
      ]
     },
     "execution_count": 4,
     "metadata": {},
     "output_type": "execute_result"
    }
   ],
   "source": [
    "#Are there any missing values?\n",
    "pr.isna() "
   ]
  },
  {
   "cell_type": "code",
   "execution_count": 5,
   "metadata": {},
   "outputs": [],
   "source": [
    "def missing_values():\n",
    "    temp_dict = dict()\n",
    "    for i in pr.columns:\n",
    "        if pr[i].isnull().sum() > 0: \n",
    "            temp_dict[i] = pr[i].isnull().sum()\n",
    "    return temp_dict"
   ]
  },
  {
   "cell_type": "code",
   "execution_count": 6,
   "metadata": {},
   "outputs": [
    {
     "data": {
      "text/plain": [
       "{'lat': 9925,\n",
       " 'lon': 9959,\n",
       " 'bathrooms': 5957,\n",
       " 'surface_total': 20527,\n",
       " 'surface_covered': 21614}"
      ]
     },
     "execution_count": 6,
     "metadata": {},
     "output_type": "execute_result"
    }
   ],
   "source": [
    "missing_values()"
   ]
  },
  {
   "cell_type": "code",
   "execution_count": 7,
   "metadata": {},
   "outputs": [
    {
     "data": {
      "text/html": [
       "<div>\n",
       "<style scoped>\n",
       "    .dataframe tbody tr th:only-of-type {\n",
       "        vertical-align: middle;\n",
       "    }\n",
       "\n",
       "    .dataframe tbody tr th {\n",
       "        vertical-align: top;\n",
       "    }\n",
       "\n",
       "    .dataframe thead th {\n",
       "        text-align: right;\n",
       "    }\n",
       "</style>\n",
       "<table border=\"1\" class=\"dataframe\">\n",
       "  <thead>\n",
       "    <tr style=\"text-align: right;\">\n",
       "      <th></th>\n",
       "      <th>lat</th>\n",
       "      <th>lon</th>\n",
       "      <th>rooms</th>\n",
       "      <th>bedrooms</th>\n",
       "      <th>bathrooms</th>\n",
       "      <th>surface_total</th>\n",
       "      <th>surface_covered</th>\n",
       "      <th>price</th>\n",
       "    </tr>\n",
       "  </thead>\n",
       "  <tbody>\n",
       "    <tr>\n",
       "      <th>lat</th>\n",
       "      <td>1.000000</td>\n",
       "      <td>-0.975578</td>\n",
       "      <td>-0.010933</td>\n",
       "      <td>0.007618</td>\n",
       "      <td>0.019923</td>\n",
       "      <td>-0.019598</td>\n",
       "      <td>-0.004156</td>\n",
       "      <td>0.013393</td>\n",
       "    </tr>\n",
       "    <tr>\n",
       "      <th>lon</th>\n",
       "      <td>-0.975578</td>\n",
       "      <td>1.000000</td>\n",
       "      <td>-0.006931</td>\n",
       "      <td>-0.016905</td>\n",
       "      <td>-0.028612</td>\n",
       "      <td>-0.049097</td>\n",
       "      <td>-0.014388</td>\n",
       "      <td>0.009368</td>\n",
       "    </tr>\n",
       "    <tr>\n",
       "      <th>rooms</th>\n",
       "      <td>-0.010933</td>\n",
       "      <td>-0.006931</td>\n",
       "      <td>1.000000</td>\n",
       "      <td>0.869769</td>\n",
       "      <td>0.613308</td>\n",
       "      <td>0.081044</td>\n",
       "      <td>0.075012</td>\n",
       "      <td>0.351025</td>\n",
       "    </tr>\n",
       "    <tr>\n",
       "      <th>bedrooms</th>\n",
       "      <td>0.007618</td>\n",
       "      <td>-0.016905</td>\n",
       "      <td>0.869769</td>\n",
       "      <td>1.000000</td>\n",
       "      <td>0.588527</td>\n",
       "      <td>0.079229</td>\n",
       "      <td>0.072627</td>\n",
       "      <td>0.316192</td>\n",
       "    </tr>\n",
       "    <tr>\n",
       "      <th>bathrooms</th>\n",
       "      <td>0.019923</td>\n",
       "      <td>-0.028612</td>\n",
       "      <td>0.613308</td>\n",
       "      <td>0.588527</td>\n",
       "      <td>1.000000</td>\n",
       "      <td>0.061159</td>\n",
       "      <td>0.069361</td>\n",
       "      <td>0.556861</td>\n",
       "    </tr>\n",
       "    <tr>\n",
       "      <th>surface_total</th>\n",
       "      <td>-0.019598</td>\n",
       "      <td>-0.049097</td>\n",
       "      <td>0.081044</td>\n",
       "      <td>0.079229</td>\n",
       "      <td>0.061159</td>\n",
       "      <td>1.000000</td>\n",
       "      <td>0.430887</td>\n",
       "      <td>0.038727</td>\n",
       "    </tr>\n",
       "    <tr>\n",
       "      <th>surface_covered</th>\n",
       "      <td>-0.004156</td>\n",
       "      <td>-0.014388</td>\n",
       "      <td>0.075012</td>\n",
       "      <td>0.072627</td>\n",
       "      <td>0.069361</td>\n",
       "      <td>0.430887</td>\n",
       "      <td>1.000000</td>\n",
       "      <td>0.049136</td>\n",
       "    </tr>\n",
       "    <tr>\n",
       "      <th>price</th>\n",
       "      <td>0.013393</td>\n",
       "      <td>0.009368</td>\n",
       "      <td>0.351025</td>\n",
       "      <td>0.316192</td>\n",
       "      <td>0.556861</td>\n",
       "      <td>0.038727</td>\n",
       "      <td>0.049136</td>\n",
       "      <td>1.000000</td>\n",
       "    </tr>\n",
       "  </tbody>\n",
       "</table>\n",
       "</div>"
      ],
      "text/plain": [
       "                      lat       lon     rooms  bedrooms  bathrooms  \\\n",
       "lat              1.000000 -0.975578 -0.010933  0.007618   0.019923   \n",
       "lon             -0.975578  1.000000 -0.006931 -0.016905  -0.028612   \n",
       "rooms           -0.010933 -0.006931  1.000000  0.869769   0.613308   \n",
       "bedrooms         0.007618 -0.016905  0.869769  1.000000   0.588527   \n",
       "bathrooms        0.019923 -0.028612  0.613308  0.588527   1.000000   \n",
       "surface_total   -0.019598 -0.049097  0.081044  0.079229   0.061159   \n",
       "surface_covered -0.004156 -0.014388  0.075012  0.072627   0.069361   \n",
       "price            0.013393  0.009368  0.351025  0.316192   0.556861   \n",
       "\n",
       "                 surface_total  surface_covered     price  \n",
       "lat                  -0.019598        -0.004156  0.013393  \n",
       "lon                  -0.049097        -0.014388  0.009368  \n",
       "rooms                 0.081044         0.075012  0.351025  \n",
       "bedrooms              0.079229         0.072627  0.316192  \n",
       "bathrooms             0.061159         0.069361  0.556861  \n",
       "surface_total         1.000000         0.430887  0.038727  \n",
       "surface_covered       0.430887         1.000000  0.049136  \n",
       "price                 0.038727         0.049136  1.000000  "
      ]
     },
     "execution_count": 7,
     "metadata": {},
     "output_type": "execute_result"
    }
   ],
   "source": [
    "#Study the correlation of the variables\n",
    "pr.corr()"
   ]
  },
  {
   "cell_type": "code",
   "execution_count": 8,
   "metadata": {},
   "outputs": [],
   "source": [
    "#We'll delete lat and long because we want to predict the price and the correlation with this variable is not significant\n",
    "\n",
    "del(pr['lat'])\n",
    "del(pr['lon'])"
   ]
  },
  {
   "cell_type": "code",
   "execution_count": 9,
   "metadata": {},
   "outputs": [
    {
     "data": {
      "text/plain": [
       "Text(0.5, 1.0, 'Real estate by region')"
      ]
     },
     "execution_count": 9,
     "metadata": {},
     "output_type": "execute_result"
    },
    {
     "data": {
      "image/png": "[encoded data removed]",
      "text/plain": [
       "<Figure size 432x288 with 1 Axes>"
      ]
     },
     "metadata": {
      "needs_background": "light"
     },
     "output_type": "display_data"
    }
   ],
   "source": [
    "#What can we find in the l2 column?\n",
    "sns.countplot(y = 'l2', data = pr, order = pr['l2'].value_counts().index) \n",
    "plt.title('Real estate by region')"
   ]
  },
  {
   "cell_type": "code",
   "execution_count": 11,
   "metadata": {},
   "outputs": [
    {
     "data": {
      "text/plain": [
       "Text(0.5, 1.0, 'Country')"
      ]
     },
     "execution_count": 11,
     "metadata": {},
     "output_type": "execute_result"
    },
    {
     "data": {
      "image/png": "[encoded data removed]",
      "text/plain": [
       "<Figure size 432x288 with 1 Axes>"
      ]
     },
     "metadata": {
      "needs_background": "light"
     },
     "output_type": "display_data"
    }
   ],
   "source": [
    "#Where is the data from?\n",
    "sns.countplot(y = 'l1', data = pr, order = pr['l1'].value_counts().index)\n",
    "plt.title('Country')"
   ]
  },
  {
   "cell_type": "code",
   "execution_count": 12,
   "metadata": {},
   "outputs": [],
   "source": [
    "#We now know that all the data is from Argentina so we delete this column:\n",
    "del(pr['l1'])"
   ]
  },
  {
   "cell_type": "code",
   "execution_count": 13,
   "metadata": {},
   "outputs": [
    {
     "data": {
      "text/plain": [
       "Text(0.5, 1.0, 'Currency')"
      ]
     },
     "execution_count": 13,
     "metadata": {},
     "output_type": "execute_result"
    },
    {
     "data": {
      "image/png": "[encoded data removed]",
      "text/plain": [
       "<Figure size 432x288 with 1 Axes>"
      ]
     },
     "metadata": {
      "needs_background": "light"
     },
     "output_type": "display_data"
    }
   ],
   "source": [
    "sns.countplot(y = 'currency', data = pr, order = pr['currency'].value_counts().index) \n",
    "plt.title('Currency')"
   ]
  },
  {
   "cell_type": "code",
   "execution_count": 16,
   "metadata": {},
   "outputs": [
    {
     "data": {
      "text/plain": [
       "Text(0.5, 1.0, 'Operation Type')"
      ]
     },
     "execution_count": 16,
     "metadata": {},
     "output_type": "execute_result"
    },
    {
     "data": {
      "image/png": "[encoded data removed]",
      "text/plain": [
       "<Figure size 432x288 with 1 Axes>"
      ]
     },
     "metadata": {
      "needs_background": "light"
     },
     "output_type": "display_data"
    }
   ],
   "source": [
    "sns.countplot(y = 'operation_type', data = pr, order = pr['operation_type'].value_counts().index) \n",
    "plt.title('Operation Type')"
   ]
  },
  {
   "cell_type": "code",
   "execution_count": 17,
   "metadata": {},
   "outputs": [],
   "source": [
    "#Drop all the columns we won't need\n",
    "pr1 = pr.drop(['start_date', 'end_date', 'created_on', 'currency', 'description', 'operation_type'], axis=1, inplace = True)"
   ]
  },
  {
   "cell_type": "code",
   "execution_count": 18,
   "metadata": {},
   "outputs": [
    {
     "data": {
      "text/html": [
       "<div>\n",
       "<style scoped>\n",
       "    .dataframe tbody tr th:only-of-type {\n",
       "        vertical-align: middle;\n",
       "    }\n",
       "\n",
       "    .dataframe tbody tr th {\n",
       "        vertical-align: top;\n",
       "    }\n",
       "\n",
       "    .dataframe thead th {\n",
       "        text-align: right;\n",
       "    }\n",
       "</style>\n",
       "<table border=\"1\" class=\"dataframe\">\n",
       "  <thead>\n",
       "    <tr style=\"text-align: right;\">\n",
       "      <th></th>\n",
       "      <th>l2</th>\n",
       "      <th>l3</th>\n",
       "      <th>rooms</th>\n",
       "      <th>bedrooms</th>\n",
       "      <th>bathrooms</th>\n",
       "      <th>surface_total</th>\n",
       "      <th>surface_covered</th>\n",
       "      <th>price</th>\n",
       "      <th>title</th>\n",
       "      <th>property_type</th>\n",
       "    </tr>\n",
       "  </thead>\n",
       "  <tbody>\n",
       "    <tr>\n",
       "      <th>0</th>\n",
       "      <td>Capital Federal</td>\n",
       "      <td>San Cristobal</td>\n",
       "      <td>7.0</td>\n",
       "      <td>7.0</td>\n",
       "      <td>2.0</td>\n",
       "      <td>140.0</td>\n",
       "      <td>140.0</td>\n",
       "      <td>153000.0</td>\n",
       "      <td>***Venta semipiso centro, ideal hostel*****</td>\n",
       "      <td>Departamento</td>\n",
       "    </tr>\n",
       "    <tr>\n",
       "      <th>1</th>\n",
       "      <td>Capital Federal</td>\n",
       "      <td>Boedo</td>\n",
       "      <td>2.0</td>\n",
       "      <td>1.0</td>\n",
       "      <td>2.0</td>\n",
       "      <td>70.0</td>\n",
       "      <td>58.0</td>\n",
       "      <td>159000.0</td>\n",
       "      <td>Espectacular PH reciclado en Boedo sin expensas.</td>\n",
       "      <td>PH</td>\n",
       "    </tr>\n",
       "    <tr>\n",
       "      <th>2</th>\n",
       "      <td>Capital Federal</td>\n",
       "      <td>Palermo</td>\n",
       "      <td>2.0</td>\n",
       "      <td>1.0</td>\n",
       "      <td>1.0</td>\n",
       "      <td>45.0</td>\n",
       "      <td>45.0</td>\n",
       "      <td>125000.0</td>\n",
       "      <td>Depto.tipo casa de 2 ambientes en Venta en Pal...</td>\n",
       "      <td>PH</td>\n",
       "    </tr>\n",
       "    <tr>\n",
       "      <th>3</th>\n",
       "      <td>Capital Federal</td>\n",
       "      <td>Palermo</td>\n",
       "      <td>2.0</td>\n",
       "      <td>1.0</td>\n",
       "      <td>1.0</td>\n",
       "      <td>85.0</td>\n",
       "      <td>50.0</td>\n",
       "      <td>295000.0</td>\n",
       "      <td>COSTA RICA 5800 / PALERMO HOLLYWOOD / VENTA PH...</td>\n",
       "      <td>PH</td>\n",
       "    </tr>\n",
       "    <tr>\n",
       "      <th>4</th>\n",
       "      <td>Bs.As. G.B.A. Zona Sur</td>\n",
       "      <td>La Plata</td>\n",
       "      <td>2.0</td>\n",
       "      <td>1.0</td>\n",
       "      <td>1.0</td>\n",
       "      <td>50.0</td>\n",
       "      <td>35.0</td>\n",
       "      <td>40000.0</td>\n",
       "      <td>58 entre 1 y 2  Venta de departamento en ph.1 ...</td>\n",
       "      <td>PH</td>\n",
       "    </tr>\n",
       "  </tbody>\n",
       "</table>\n",
       "</div>"
      ],
      "text/plain": [
       "                       l2             l3  rooms  bedrooms  bathrooms  \\\n",
       "0         Capital Federal  San Cristobal    7.0       7.0        2.0   \n",
       "1         Capital Federal          Boedo    2.0       1.0        2.0   \n",
       "2         Capital Federal        Palermo    2.0       1.0        1.0   \n",
       "3         Capital Federal        Palermo    2.0       1.0        1.0   \n",
       "4  Bs.As. G.B.A. Zona Sur       La Plata    2.0       1.0        1.0   \n",
       "\n",
       "   surface_total  surface_covered     price  \\\n",
       "0          140.0            140.0  153000.0   \n",
       "1           70.0             58.0  159000.0   \n",
       "2           45.0             45.0  125000.0   \n",
       "3           85.0             50.0  295000.0   \n",
       "4           50.0             35.0   40000.0   \n",
       "\n",
       "                                               title property_type  \n",
       "0        ***Venta semipiso centro, ideal hostel*****  Departamento  \n",
       "1   Espectacular PH reciclado en Boedo sin expensas.            PH  \n",
       "2  Depto.tipo casa de 2 ambientes en Venta en Pal...            PH  \n",
       "3  COSTA RICA 5800 / PALERMO HOLLYWOOD / VENTA PH...            PH  \n",
       "4  58 entre 1 y 2  Venta de departamento en ph.1 ...            PH  "
      ]
     },
     "execution_count": 18,
     "metadata": {},
     "output_type": "execute_result"
    }
   ],
   "source": [
    "pr.head()"
   ]
  },
  {
   "cell_type": "code",
   "execution_count": 20,
   "metadata": {},
   "outputs": [
    {
     "data": {
      "text/plain": [
       "Text(0.5, 1.0, 'property type')"
      ]
     },
     "execution_count": 20,
     "metadata": {},
     "output_type": "execute_result"
    },
    {
     "data": {
      "image/png": "[encoded data removed]",
      "text/plain": [
       "<Figure size 432x288 with 1 Axes>"
      ]
     },
     "metadata": {
      "needs_background": "light"
     },
     "output_type": "display_data"
    }
   ],
   "source": [
    "#We want to see the property type\n",
    "sns.countplot(y = 'property_type', data = pr, order = pr['property_type'].value_counts().index) \n",
    "plt.title('property type')"
   ]
  },
  {
   "cell_type": "code",
   "execution_count": 21,
   "metadata": {},
   "outputs": [],
   "source": [
    "#We will work with the three first property types because are very bigger than the others\n",
    "#Create different masks\n",
    "casa = pr['property_type'] == 'Casa' \n",
    "dpto = pr['property_type'] == 'Departamento'\n",
    "ph = pr['property_type'] == 'PH'"
   ]
  },
  {
   "cell_type": "code",
   "execution_count": 23,
   "metadata": {},
   "outputs": [],
   "source": [
    "df2 = pr[casa] #Create a df with each mask  \n",
    "df3 = pr[dpto]\n",
    "df4 = pr[ph]\n"
   ]
  },
  {
   "cell_type": "code",
   "execution_count": 24,
   "metadata": {},
   "outputs": [],
   "source": [
    "df = pd.concat([df2, df3, df4])"
   ]
  },
  {
   "cell_type": "markdown",
   "metadata": {},
   "source": [
    "### Part A"
   ]
  },
  {
   "cell_type": "markdown",
   "metadata": {},
   "source": [
    "#### Missing Values"
   ]
  },
  {
   "cell_type": "code",
   "execution_count": 25,
   "metadata": {},
   "outputs": [],
   "source": [
    "#Now that we modify the original dataset, we need to know if we still have missing values\n",
    "\n",
    "def missing_values1():\n",
    "    temp_dict = dict()\n",
    "    for i in df.columns:\n",
    "        if df[i].isnull().sum() > 0: \n",
    "            temp_dict[i] = df[i].isnull().sum()\n",
    "    return temp_dict"
   ]
  },
  {
   "cell_type": "code",
   "execution_count": 26,
   "metadata": {},
   "outputs": [
    {
     "data": {
      "text/plain": [
       "{'bathrooms': 4211, 'surface_total': 18623, 'surface_covered': 18909}"
      ]
     },
     "execution_count": 26,
     "metadata": {},
     "output_type": "execute_result"
    }
   ],
   "source": [
    "missing_values1()"
   ]
  },
  {
   "cell_type": "code",
   "execution_count": 27,
   "metadata": {},
   "outputs": [
    {
     "name": "stdout",
     "output_type": "stream",
     "text": [
      "count    138934.000000\n",
      "mean          1.597715\n",
      "std           0.885980\n",
      "min           1.000000\n",
      "25%           1.000000\n",
      "50%           1.000000\n",
      "75%           2.000000\n",
      "max          14.000000\n",
      "Name: bathrooms, dtype: float64\n"
     ]
    }
   ],
   "source": [
    "#see \"bathrooms\" distribution\n",
    "\n",
    "print(df[\"bathrooms\"].describe())"
   ]
  },
  {
   "cell_type": "code",
   "execution_count": 32,
   "metadata": {},
   "outputs": [
    {
     "name": "stdout",
     "output_type": "stream",
     "text": [
      "The median is 1.0\n"
     ]
    }
   ],
   "source": [
    "#We impute the values by their median because this is not a normal distribution. We also know that up to 75% of the data, bathrooms do not exceed 2 \n",
    "#If we use the mean, the number must be 1.6 and we can't have 1.6 bathrooms in one house (that's not possible).\n",
    "print('The median is', df.bathrooms.median())\n"
   ]
  },
  {
   "cell_type": "code",
   "execution_count": 33,
   "metadata": {},
   "outputs": [
    {
     "data": {
      "text/plain": [
       "<AxesSubplot:xlabel='bathrooms', ylabel='price'>"
      ]
     },
     "execution_count": 33,
     "metadata": {},
     "output_type": "execute_result"
    },
    {
     "data": {
      "image/png": "[encoded data removed]",
      "text/plain": [
       "<Figure size 1152x864 with 1 Axes>"
      ]
     },
     "metadata": {
      "needs_background": "light"
     },
     "output_type": "display_data"
    }
   ],
   "source": [
    "plt.figure(figsize=(16, 12))\n",
    "sns.boxplot(x=\"bathrooms\", y=\"price\", data=pr)"
   ]
  },
  {
   "cell_type": "code",
   "execution_count": 34,
   "metadata": {},
   "outputs": [
    {
     "data": {
      "text/plain": [
       "count    124522.000000\n",
       "mean        182.381089\n",
       "std        1436.708405\n",
       "min          10.000000\n",
       "25%          52.000000\n",
       "50%          78.000000\n",
       "75%         138.000000\n",
       "max      169000.000000\n",
       "Name: surface_total, dtype: float64"
      ]
     },
     "execution_count": 34,
     "metadata": {},
     "output_type": "execute_result"
    }
   ],
   "source": [
    "#Surfaces\n",
    "df[\"surface_total\"].describe()"
   ]
  },
  {
   "cell_type": "code",
   "execution_count": 35,
   "metadata": {},
   "outputs": [
    {
     "data": {
      "text/plain": [
       "count    124236.000000\n",
       "mean        112.374159\n",
       "std         919.025616\n",
       "min           1.000000\n",
       "25%          47.000000\n",
       "50%          68.000000\n",
       "75%         108.000000\n",
       "max      126062.000000\n",
       "Name: surface_covered, dtype: float64"
      ]
     },
     "execution_count": 35,
     "metadata": {},
     "output_type": "execute_result"
    }
   ],
   "source": [
    "df[\"surface_covered\"].describe()"
   ]
  },
  {
   "cell_type": "code",
   "execution_count": 38,
   "metadata": {},
   "outputs": [],
   "source": [
    "#Impute the values by their median again (this is not a normal distribution and the median has sense)\n",
    "df.bathrooms.fillna(df.bathrooms.median(), inplace = True)"
   ]
  },
  {
   "cell_type": "code",
   "execution_count": 39,
   "metadata": {},
   "outputs": [
    {
     "data": {
      "text/plain": [
       "count    143145.000000\n",
       "mean          1.580132\n",
       "std           0.878675\n",
       "min           1.000000\n",
       "25%           1.000000\n",
       "50%           1.000000\n",
       "75%           2.000000\n",
       "max          14.000000\n",
       "Name: bathrooms, dtype: float64"
      ]
     },
     "execution_count": 39,
     "metadata": {},
     "output_type": "execute_result"
    }
   ],
   "source": [
    "df[\"bathrooms\"].describe()"
   ]
  },
  {
   "cell_type": "code",
   "execution_count": 40,
   "metadata": {},
   "outputs": [],
   "source": [
    "#After the imputation, the distribution doesn't change"
   ]
  },
  {
   "cell_type": "code",
   "execution_count": 41,
   "metadata": {},
   "outputs": [
    {
     "data": {
      "text/plain": [
       "{'surface_total': 18623, 'surface_covered': 18909}"
      ]
     },
     "execution_count": 41,
     "metadata": {},
     "output_type": "execute_result"
    }
   ],
   "source": [
    "missing_values1()"
   ]
  },
  {
   "cell_type": "code",
   "execution_count": 42,
   "metadata": {},
   "outputs": [],
   "source": [
    "#We follow the same line to be consistent with out analysis. We impute the different values by their median.\n",
    "df.surface_covered.fillna(df.surface_covered.median(), inplace = True)\n",
    "df.surface_total.fillna(df.surface_total.median(), inplace = True)"
   ]
  },
  {
   "cell_type": "code",
   "execution_count": 43,
   "metadata": {},
   "outputs": [
    {
     "name": "stdout",
     "output_type": "stream",
     "text": [
      "True     141113\n",
      "False      2032\n",
      "dtype: int64\n"
     ]
    }
   ],
   "source": [
    "df1 = df['surface_covered'] <= df['surface_total']  #Delete the rows where surface covered is bigger than total surface (It doesn't make sense)\n",
    "\n",
    "print(df1.value_counts())\n",
    "\n",
    "df = df[df1]"
   ]
  },
  {
   "cell_type": "markdown",
   "metadata": {},
   "source": [
    "#### Work with outliers"
   ]
  },
  {
   "cell_type": "code",
   "execution_count": 45,
   "metadata": {},
   "outputs": [
    {
     "data": {
      "image/png": "[encoded data removed]",
      "text/plain": [
       "<Figure size 432x288 with 1 Axes>"
      ]
     },
     "metadata": {
      "needs_background": "light"
     },
     "output_type": "display_data"
    }
   ],
   "source": [
    "#Relation with price and surface\n",
    "plt.scatter(df[\"surface_total\"], df[\"price\"])\n",
    "plt.xlabel(\"Total Surface\")\n",
    "plt.ylabel(\"Price\")\n",
    "plt.show()"
   ]
  },
  {
   "cell_type": "code",
   "execution_count": 46,
   "metadata": {},
   "outputs": [
    {
     "data": {
      "text/html": [
       "<div>\n",
       "<style scoped>\n",
       "    .dataframe tbody tr th:only-of-type {\n",
       "        vertical-align: middle;\n",
       "    }\n",
       "\n",
       "    .dataframe tbody tr th {\n",
       "        vertical-align: top;\n",
       "    }\n",
       "\n",
       "    .dataframe thead th {\n",
       "        text-align: right;\n",
       "    }\n",
       "</style>\n",
       "<table border=\"1\" class=\"dataframe\">\n",
       "  <thead>\n",
       "    <tr style=\"text-align: right;\">\n",
       "      <th></th>\n",
       "      <th>rooms</th>\n",
       "      <th>bedrooms</th>\n",
       "      <th>bathrooms</th>\n",
       "      <th>surface_total</th>\n",
       "      <th>surface_covered</th>\n",
       "      <th>price</th>\n",
       "    </tr>\n",
       "  </thead>\n",
       "  <tbody>\n",
       "    <tr>\n",
       "      <th>count</th>\n",
       "      <td>141113.000000</td>\n",
       "      <td>141113.000000</td>\n",
       "      <td>141113.000000</td>\n",
       "      <td>141113.000000</td>\n",
       "      <td>141113.000000</td>\n",
       "      <td>1.411130e+05</td>\n",
       "    </tr>\n",
       "    <tr>\n",
       "      <th>mean</th>\n",
       "      <td>3.089609</td>\n",
       "      <td>1.994104</td>\n",
       "      <td>1.579330</td>\n",
       "      <td>169.547859</td>\n",
       "      <td>98.792422</td>\n",
       "      <td>2.381418e+05</td>\n",
       "    </tr>\n",
       "    <tr>\n",
       "      <th>std</th>\n",
       "      <td>1.378654</td>\n",
       "      <td>1.120709</td>\n",
       "      <td>0.876066</td>\n",
       "      <td>1349.599775</td>\n",
       "      <td>686.970829</td>\n",
       "      <td>2.862867e+05</td>\n",
       "    </tr>\n",
       "    <tr>\n",
       "      <th>min</th>\n",
       "      <td>1.000000</td>\n",
       "      <td>0.000000</td>\n",
       "      <td>1.000000</td>\n",
       "      <td>10.000000</td>\n",
       "      <td>1.000000</td>\n",
       "      <td>6.000000e+03</td>\n",
       "    </tr>\n",
       "    <tr>\n",
       "      <th>25%</th>\n",
       "      <td>2.000000</td>\n",
       "      <td>1.000000</td>\n",
       "      <td>1.000000</td>\n",
       "      <td>55.000000</td>\n",
       "      <td>49.000000</td>\n",
       "      <td>1.125000e+05</td>\n",
       "    </tr>\n",
       "    <tr>\n",
       "      <th>50%</th>\n",
       "      <td>3.000000</td>\n",
       "      <td>2.000000</td>\n",
       "      <td>1.000000</td>\n",
       "      <td>78.000000</td>\n",
       "      <td>68.000000</td>\n",
       "      <td>1.669000e+05</td>\n",
       "    </tr>\n",
       "    <tr>\n",
       "      <th>75%</th>\n",
       "      <td>4.000000</td>\n",
       "      <td>3.000000</td>\n",
       "      <td>2.000000</td>\n",
       "      <td>122.000000</td>\n",
       "      <td>98.000000</td>\n",
       "      <td>2.650000e+05</td>\n",
       "    </tr>\n",
       "    <tr>\n",
       "      <th>max</th>\n",
       "      <td>35.000000</td>\n",
       "      <td>15.000000</td>\n",
       "      <td>14.000000</td>\n",
       "      <td>169000.000000</td>\n",
       "      <td>126062.000000</td>\n",
       "      <td>3.243423e+07</td>\n",
       "    </tr>\n",
       "  </tbody>\n",
       "</table>\n",
       "</div>"
      ],
      "text/plain": [
       "               rooms       bedrooms      bathrooms  surface_total  \\\n",
       "count  141113.000000  141113.000000  141113.000000  141113.000000   \n",
       "mean        3.089609       1.994104       1.579330     169.547859   \n",
       "std         1.378654       1.120709       0.876066    1349.599775   \n",
       "min         1.000000       0.000000       1.000000      10.000000   \n",
       "25%         2.000000       1.000000       1.000000      55.000000   \n",
       "50%         3.000000       2.000000       1.000000      78.000000   \n",
       "75%         4.000000       3.000000       2.000000     122.000000   \n",
       "max        35.000000      15.000000      14.000000  169000.000000   \n",
       "\n",
       "       surface_covered         price  \n",
       "count    141113.000000  1.411130e+05  \n",
       "mean         98.792422  2.381418e+05  \n",
       "std         686.970829  2.862867e+05  \n",
       "min           1.000000  6.000000e+03  \n",
       "25%          49.000000  1.125000e+05  \n",
       "50%          68.000000  1.669000e+05  \n",
       "75%          98.000000  2.650000e+05  \n",
       "max      126062.000000  3.243423e+07  "
      ]
     },
     "execution_count": 46,
     "metadata": {},
     "output_type": "execute_result"
    }
   ],
   "source": [
    "df.describe()"
   ]
  },
  {
   "cell_type": "code",
   "execution_count": 47,
   "metadata": {},
   "outputs": [
    {
     "name": "stdout",
     "output_type": "stream",
     "text": [
      "avoiding the above dataframe printing\n"
     ]
    }
   ],
   "source": [
    "#We drop the points that seem more distant\n",
    "drop_index_list = df[df['surface_total'] > 79000].index.tolist()\n",
    "df.drop(drop_index_list, inplace=True)\n",
    "print(\"avoiding the above dataframe printing\")"
   ]
  },
  {
   "cell_type": "code",
   "execution_count": 48,
   "metadata": {},
   "outputs": [
    {
     "data": {
      "image/png": "[encoded data removed]",
      "text/plain": [
       "<Figure size 432x288 with 1 Axes>"
      ]
     },
     "metadata": {
      "needs_background": "light"
     },
     "output_type": "display_data"
    }
   ],
   "source": [
    "# Plot again after dropping value\n",
    "\n",
    "plt.scatter(df[\"surface_total\"], df[\"price\"])\n",
    "plt.title(\"After Outliers Removal\")\n",
    "plt.xlabel(\"Sup. Total\")\n",
    "plt.ylabel(\"log10(price)\")\n",
    "plt.xlim(0, 100000)\n",
    "plt.show()"
   ]
  },
  {
   "cell_type": "code",
   "execution_count": 49,
   "metadata": {},
   "outputs": [
    {
     "name": "stdout",
     "output_type": "stream",
     "text": [
      "avoiding the above dataframe printing\n"
     ]
    }
   ],
   "source": [
    "#Now we see one outlier in the price\n",
    "drop_index_list2 = df[df['price'] > 3000000].index.tolist()\n",
    "df.drop(drop_index_list2, inplace=True)\n",
    "print(\"avoiding the above dataframe printing\")"
   ]
  },
  {
   "cell_type": "code",
   "execution_count": 57,
   "metadata": {},
   "outputs": [
    {
     "data": {
      "text/html": [
       "<div>\n",
       "<style scoped>\n",
       "    .dataframe tbody tr th:only-of-type {\n",
       "        vertical-align: middle;\n",
       "    }\n",
       "\n",
       "    .dataframe tbody tr th {\n",
       "        vertical-align: top;\n",
       "    }\n",
       "\n",
       "    .dataframe thead th {\n",
       "        text-align: right;\n",
       "    }\n",
       "</style>\n",
       "<table border=\"1\" class=\"dataframe\">\n",
       "  <thead>\n",
       "    <tr style=\"text-align: right;\">\n",
       "      <th></th>\n",
       "      <th>l2</th>\n",
       "      <th>l3</th>\n",
       "      <th>rooms</th>\n",
       "      <th>bedrooms</th>\n",
       "      <th>bathrooms</th>\n",
       "      <th>surface_total</th>\n",
       "      <th>surface_covered</th>\n",
       "      <th>price</th>\n",
       "      <th>title</th>\n",
       "      <th>property_type</th>\n",
       "    </tr>\n",
       "  </thead>\n",
       "  <tbody>\n",
       "    <tr>\n",
       "      <th>1974</th>\n",
       "      <td>Bs.As. G.B.A. Zona Norte</td>\n",
       "      <td>Pilar</td>\n",
       "      <td>6.0</td>\n",
       "      <td>5.0</td>\n",
       "      <td>5.0</td>\n",
       "      <td>2973.0</td>\n",
       "      <td>2973.0</td>\n",
       "      <td>750000.0</td>\n",
       "      <td>IMPONENTE Casa 6 amb, 5 hab en suite.Mapuche P...</td>\n",
       "      <td>Casa</td>\n",
       "    </tr>\n",
       "    <tr>\n",
       "      <th>62535</th>\n",
       "      <td>Bs.As. G.B.A. Zona Sur</td>\n",
       "      <td>San Vicente</td>\n",
       "      <td>1.0</td>\n",
       "      <td>1.0</td>\n",
       "      <td>1.0</td>\n",
       "      <td>3100.0</td>\n",
       "      <td>3100.0</td>\n",
       "      <td>78600.0</td>\n",
       "      <td>Fracción de 3100 m2 con Quincho y Pileta</td>\n",
       "      <td>Casa</td>\n",
       "    </tr>\n",
       "    <tr>\n",
       "      <th>68094</th>\n",
       "      <td>Bs.As. G.B.A. Zona Sur</td>\n",
       "      <td>San Vicente</td>\n",
       "      <td>1.0</td>\n",
       "      <td>1.0</td>\n",
       "      <td>1.0</td>\n",
       "      <td>3100.0</td>\n",
       "      <td>3100.0</td>\n",
       "      <td>78600.0</td>\n",
       "      <td>Fracción de 3100 m2 con Quincho y Pileta</td>\n",
       "      <td>Casa</td>\n",
       "    </tr>\n",
       "    <tr>\n",
       "      <th>68095</th>\n",
       "      <td>Bs.As. G.B.A. Zona Sur</td>\n",
       "      <td>San Vicente</td>\n",
       "      <td>1.0</td>\n",
       "      <td>1.0</td>\n",
       "      <td>1.0</td>\n",
       "      <td>3100.0</td>\n",
       "      <td>3100.0</td>\n",
       "      <td>78600.0</td>\n",
       "      <td>Fracción de 3100 m2 con Quincho y Pileta</td>\n",
       "      <td>Casa</td>\n",
       "    </tr>\n",
       "    <tr>\n",
       "      <th>119084</th>\n",
       "      <td>Bs.As. G.B.A. Zona Norte</td>\n",
       "      <td>Pilar</td>\n",
       "      <td>6.0</td>\n",
       "      <td>5.0</td>\n",
       "      <td>5.0</td>\n",
       "      <td>2973.0</td>\n",
       "      <td>2973.0</td>\n",
       "      <td>750000.0</td>\n",
       "      <td>IMPONENTE Casa 6 amb, 5 hab en suite.Mapuche P...</td>\n",
       "      <td>Casa</td>\n",
       "    </tr>\n",
       "    <tr>\n",
       "      <th>...</th>\n",
       "      <td>...</td>\n",
       "      <td>...</td>\n",
       "      <td>...</td>\n",
       "      <td>...</td>\n",
       "      <td>...</td>\n",
       "      <td>...</td>\n",
       "      <td>...</td>\n",
       "      <td>...</td>\n",
       "      <td>...</td>\n",
       "      <td>...</td>\n",
       "    </tr>\n",
       "    <tr>\n",
       "      <th>145309</th>\n",
       "      <td>Capital Federal</td>\n",
       "      <td>Villa Lugano</td>\n",
       "      <td>4.0</td>\n",
       "      <td>3.0</td>\n",
       "      <td>1.0</td>\n",
       "      <td>7274.0</td>\n",
       "      <td>7274.0</td>\n",
       "      <td>89000.0</td>\n",
       "      <td>VENTA 4 AMB 73m2 LUMINOSO LUGANO B°NAGERA</td>\n",
       "      <td>Departamento</td>\n",
       "    </tr>\n",
       "    <tr>\n",
       "      <th>16095</th>\n",
       "      <td>Capital Federal</td>\n",
       "      <td>Balvanera</td>\n",
       "      <td>2.0</td>\n",
       "      <td>1.0</td>\n",
       "      <td>1.0</td>\n",
       "      <td>2748.0</td>\n",
       "      <td>2748.0</td>\n",
       "      <td>55000.0</td>\n",
       "      <td>OPORTUNIDAD PH 2 AMBIENTES CON PATIO</td>\n",
       "      <td>PH</td>\n",
       "    </tr>\n",
       "    <tr>\n",
       "      <th>48467</th>\n",
       "      <td>Bs.As. G.B.A. Zona Norte</td>\n",
       "      <td>General San Martín</td>\n",
       "      <td>3.0</td>\n",
       "      <td>2.0</td>\n",
       "      <td>1.0</td>\n",
       "      <td>4483.0</td>\n",
       "      <td>4483.0</td>\n",
       "      <td>68000.0</td>\n",
       "      <td>VENTA PH 3 AMBIENTES VILLA. BALLESTER SAN MARTIN</td>\n",
       "      <td>PH</td>\n",
       "    </tr>\n",
       "    <tr>\n",
       "      <th>52420</th>\n",
       "      <td>Capital Federal</td>\n",
       "      <td>Balvanera</td>\n",
       "      <td>2.0</td>\n",
       "      <td>1.0</td>\n",
       "      <td>1.0</td>\n",
       "      <td>2748.0</td>\n",
       "      <td>2748.0</td>\n",
       "      <td>55000.0</td>\n",
       "      <td>OPORTUNIDAD PH 2 AMBIENTES CON PATIO</td>\n",
       "      <td>PH</td>\n",
       "    </tr>\n",
       "    <tr>\n",
       "      <th>95759</th>\n",
       "      <td>Bs.As. G.B.A. Zona Oeste</td>\n",
       "      <td>Tres de Febrero</td>\n",
       "      <td>2.0</td>\n",
       "      <td>1.0</td>\n",
       "      <td>1.0</td>\n",
       "      <td>6150.0</td>\n",
       "      <td>4350.0</td>\n",
       "      <td>87000.0</td>\n",
       "      <td>Venta PH 2 amb - Saenz Peña</td>\n",
       "      <td>PH</td>\n",
       "    </tr>\n",
       "  </tbody>\n",
       "</table>\n",
       "<p>95 rows × 10 columns</p>\n",
       "</div>"
      ],
      "text/plain": [
       "                              l2                  l3  rooms  bedrooms  \\\n",
       "1974    Bs.As. G.B.A. Zona Norte               Pilar    6.0       5.0   \n",
       "62535     Bs.As. G.B.A. Zona Sur         San Vicente    1.0       1.0   \n",
       "68094     Bs.As. G.B.A. Zona Sur         San Vicente    1.0       1.0   \n",
       "68095     Bs.As. G.B.A. Zona Sur         San Vicente    1.0       1.0   \n",
       "119084  Bs.As. G.B.A. Zona Norte               Pilar    6.0       5.0   \n",
       "...                          ...                 ...    ...       ...   \n",
       "145309           Capital Federal        Villa Lugano    4.0       3.0   \n",
       "16095            Capital Federal           Balvanera    2.0       1.0   \n",
       "48467   Bs.As. G.B.A. Zona Norte  General San Martín    3.0       2.0   \n",
       "52420            Capital Federal           Balvanera    2.0       1.0   \n",
       "95759   Bs.As. G.B.A. Zona Oeste     Tres de Febrero    2.0       1.0   \n",
       "\n",
       "        bathrooms  surface_total  surface_covered     price  \\\n",
       "1974          5.0         2973.0           2973.0  750000.0   \n",
       "62535         1.0         3100.0           3100.0   78600.0   \n",
       "68094         1.0         3100.0           3100.0   78600.0   \n",
       "68095         1.0         3100.0           3100.0   78600.0   \n",
       "119084        5.0         2973.0           2973.0  750000.0   \n",
       "...           ...            ...              ...       ...   \n",
       "145309        1.0         7274.0           7274.0   89000.0   \n",
       "16095         1.0         2748.0           2748.0   55000.0   \n",
       "48467         1.0         4483.0           4483.0   68000.0   \n",
       "52420         1.0         2748.0           2748.0   55000.0   \n",
       "95759         1.0         6150.0           4350.0   87000.0   \n",
       "\n",
       "                                                    title property_type  \n",
       "1974    IMPONENTE Casa 6 amb, 5 hab en suite.Mapuche P...          Casa  \n",
       "62535            Fracción de 3100 m2 con Quincho y Pileta          Casa  \n",
       "68094            Fracción de 3100 m2 con Quincho y Pileta          Casa  \n",
       "68095            Fracción de 3100 m2 con Quincho y Pileta          Casa  \n",
       "119084  IMPONENTE Casa 6 amb, 5 hab en suite.Mapuche P...          Casa  \n",
       "...                                                   ...           ...  \n",
       "145309          VENTA 4 AMB 73m2 LUMINOSO LUGANO B°NAGERA  Departamento  \n",
       "16095                OPORTUNIDAD PH 2 AMBIENTES CON PATIO            PH  \n",
       "48467    VENTA PH 3 AMBIENTES VILLA. BALLESTER SAN MARTIN            PH  \n",
       "52420                OPORTUNIDAD PH 2 AMBIENTES CON PATIO            PH  \n",
       "95759                         Venta PH 2 amb - Saenz Peña            PH  \n",
       "\n",
       "[95 rows x 10 columns]"
      ]
     },
     "execution_count": 57,
     "metadata": {},
     "output_type": "execute_result"
    }
   ],
   "source": [
    "#Are there any house or ph with more than 2000m2 of covered surface?\n",
    "df[df.surface_covered > 2000]\n"
   ]
  },
  {
   "cell_type": "code",
   "execution_count": 58,
   "metadata": {},
   "outputs": [
    {
     "name": "stdout",
     "output_type": "stream",
     "text": [
      "avoiding the above dataframe printing\n"
     ]
    }
   ],
   "source": [
    "#After analyzing the results we see that these properties do not make sense and must be typing errors...\n",
    "drop_index_list = df[df['surface_total'] > 2000].index.tolist()\n",
    "df.drop(drop_index_list, inplace=True)\n",
    "print(\"avoiding the above dataframe printing\")"
   ]
  },
  {
   "cell_type": "code",
   "execution_count": 59,
   "metadata": {},
   "outputs": [
    {
     "data": {
      "image/png": "[encoded data removed]",
      "text/plain": [
       "<Figure size 432x288 with 1 Axes>"
      ]
     },
     "metadata": {
      "needs_background": "light"
     },
     "output_type": "display_data"
    }
   ],
   "source": [
    "plt.scatter(df[\"surface_total\"], df[\"price\"])\n",
    "plt.title(\"After Outliers Removal\")\n",
    "plt.xlabel(\"Sup. Total\")\n",
    "plt.ylabel(\"log10(price)\")\n",
    "plt.xlim(0,20000)\n",
    "plt.show()"
   ]
  },
  {
   "cell_type": "code",
   "execution_count": 60,
   "metadata": {},
   "outputs": [
    {
     "name": "stdout",
     "output_type": "stream",
     "text": [
      "avoiding the above dataframe printing\n"
     ]
    }
   ],
   "source": [
    "#Following this line, we see the mean and the median of the price and drop outliers according these metrics\n",
    "drop_index_list3 = df[df['price'] > 1000000].index.tolist()\n",
    "df.drop(drop_index_list3, inplace=True)\n",
    "print(\"avoiding the above dataframe printing\")"
   ]
  },
  {
   "cell_type": "code",
   "execution_count": 63,
   "metadata": {},
   "outputs": [
    {
     "data": {
      "image/png": "[encoded data removed]",
      "text/plain": [
       "<Figure size 432x288 with 1 Axes>"
      ]
     },
     "metadata": {
      "needs_background": "light"
     },
     "output_type": "display_data"
    }
   ],
   "source": [
    "plt.scatter(df[\"surface_total\"], df[\"price\"])\n",
    "plt.title(\"After Outliers Removal\")\n",
    "plt.xlabel(\"Sup. Total\")\n",
    "plt.ylabel(\"log10(price)\")\n",
    "plt.xlim(0, 2500)\n",
    "plt.show()"
   ]
  },
  {
   "cell_type": "code",
   "execution_count": 90,
   "metadata": {
    "jupyter": {
     "source_hidden": true
    }
   },
   "outputs": [],
   "source": [
    "del(df['Datos_Reescalados'])"
   ]
  },
  {
   "cell_type": "code",
   "execution_count": 65,
   "metadata": {},
   "outputs": [
    {
     "data": {
      "text/html": [
       "<div>\n",
       "<style scoped>\n",
       "    .dataframe tbody tr th:only-of-type {\n",
       "        vertical-align: middle;\n",
       "    }\n",
       "\n",
       "    .dataframe tbody tr th {\n",
       "        vertical-align: top;\n",
       "    }\n",
       "\n",
       "    .dataframe thead th {\n",
       "        text-align: right;\n",
       "    }\n",
       "</style>\n",
       "<table border=\"1\" class=\"dataframe\">\n",
       "  <thead>\n",
       "    <tr style=\"text-align: right;\">\n",
       "      <th></th>\n",
       "      <th>rooms</th>\n",
       "      <th>bedrooms</th>\n",
       "      <th>bathrooms</th>\n",
       "      <th>surface_total</th>\n",
       "      <th>surface_covered</th>\n",
       "      <th>price</th>\n",
       "    </tr>\n",
       "  </thead>\n",
       "  <tbody>\n",
       "    <tr>\n",
       "      <th>rooms</th>\n",
       "      <td>1.000000</td>\n",
       "      <td>0.867432</td>\n",
       "      <td>0.585076</td>\n",
       "      <td>0.487405</td>\n",
       "      <td>0.653887</td>\n",
       "      <td>0.526375</td>\n",
       "    </tr>\n",
       "    <tr>\n",
       "      <th>bedrooms</th>\n",
       "      <td>0.867432</td>\n",
       "      <td>1.000000</td>\n",
       "      <td>0.557310</td>\n",
       "      <td>0.446997</td>\n",
       "      <td>0.617738</td>\n",
       "      <td>0.492754</td>\n",
       "    </tr>\n",
       "    <tr>\n",
       "      <th>bathrooms</th>\n",
       "      <td>0.585076</td>\n",
       "      <td>0.557310</td>\n",
       "      <td>1.000000</td>\n",
       "      <td>0.371048</td>\n",
       "      <td>0.530921</td>\n",
       "      <td>0.637059</td>\n",
       "    </tr>\n",
       "    <tr>\n",
       "      <th>surface_total</th>\n",
       "      <td>0.487405</td>\n",
       "      <td>0.446997</td>\n",
       "      <td>0.371048</td>\n",
       "      <td>1.000000</td>\n",
       "      <td>0.696821</td>\n",
       "      <td>0.311441</td>\n",
       "    </tr>\n",
       "    <tr>\n",
       "      <th>surface_covered</th>\n",
       "      <td>0.653887</td>\n",
       "      <td>0.617738</td>\n",
       "      <td>0.530921</td>\n",
       "      <td>0.696821</td>\n",
       "      <td>1.000000</td>\n",
       "      <td>0.544441</td>\n",
       "    </tr>\n",
       "    <tr>\n",
       "      <th>price</th>\n",
       "      <td>0.526375</td>\n",
       "      <td>0.492754</td>\n",
       "      <td>0.637059</td>\n",
       "      <td>0.311441</td>\n",
       "      <td>0.544441</td>\n",
       "      <td>1.000000</td>\n",
       "    </tr>\n",
       "  </tbody>\n",
       "</table>\n",
       "</div>"
      ],
      "text/plain": [
       "                    rooms  bedrooms  bathrooms  surface_total  \\\n",
       "rooms            1.000000  0.867432   0.585076       0.487405   \n",
       "bedrooms         0.867432  1.000000   0.557310       0.446997   \n",
       "bathrooms        0.585076  0.557310   1.000000       0.371048   \n",
       "surface_total    0.487405  0.446997   0.371048       1.000000   \n",
       "surface_covered  0.653887  0.617738   0.530921       0.696821   \n",
       "price            0.526375  0.492754   0.637059       0.311441   \n",
       "\n",
       "                 surface_covered     price  \n",
       "rooms                   0.653887  0.526375  \n",
       "bedrooms                0.617738  0.492754  \n",
       "bathrooms               0.530921  0.637059  \n",
       "surface_total           0.696821  0.311441  \n",
       "surface_covered         1.000000  0.544441  \n",
       "price                   0.544441  1.000000  "
      ]
     },
     "execution_count": 65,
     "metadata": {},
     "output_type": "execute_result"
    }
   ],
   "source": [
    "#Now, see the correlation\n",
    "df.corr()"
   ]
  },
  {
   "cell_type": "markdown",
   "metadata": {},
   "source": [
    "#### Scale the data "
   ]
  },
  {
   "cell_type": "code",
   "execution_count": 67,
   "metadata": {},
   "outputs": [
    {
     "data": {
      "text/html": [
       "<div>\n",
       "<style scoped>\n",
       "    .dataframe tbody tr th:only-of-type {\n",
       "        vertical-align: middle;\n",
       "    }\n",
       "\n",
       "    .dataframe tbody tr th {\n",
       "        vertical-align: top;\n",
       "    }\n",
       "\n",
       "    .dataframe thead th {\n",
       "        text-align: right;\n",
       "    }\n",
       "</style>\n",
       "<table border=\"1\" class=\"dataframe\">\n",
       "  <thead>\n",
       "    <tr style=\"text-align: right;\">\n",
       "      <th></th>\n",
       "      <th>l2</th>\n",
       "      <th>l3</th>\n",
       "      <th>rooms</th>\n",
       "      <th>bedrooms</th>\n",
       "      <th>bathrooms</th>\n",
       "      <th>surface_total</th>\n",
       "      <th>surface_covered</th>\n",
       "      <th>price</th>\n",
       "      <th>title</th>\n",
       "      <th>property_type</th>\n",
       "      <th>Datos_Reescalados</th>\n",
       "    </tr>\n",
       "  </thead>\n",
       "  <tbody>\n",
       "    <tr>\n",
       "      <th>137</th>\n",
       "      <td>Bs.As. G.B.A. Zona Norte</td>\n",
       "      <td>Tigre</td>\n",
       "      <td>3.0</td>\n",
       "      <td>2.0</td>\n",
       "      <td>2.0</td>\n",
       "      <td>89.0</td>\n",
       "      <td>79.0</td>\n",
       "      <td>219000.0</td>\n",
       "      <td>Venta Duplex super luminoso y comodo en Sender...</td>\n",
       "      <td>Casa</td>\n",
       "      <td>-0.204094</td>\n",
       "    </tr>\n",
       "    <tr>\n",
       "      <th>138</th>\n",
       "      <td>Bs.As. G.B.A. Zona Oeste</td>\n",
       "      <td>Ituzaingó</td>\n",
       "      <td>3.0</td>\n",
       "      <td>2.0</td>\n",
       "      <td>1.0</td>\n",
       "      <td>292.0</td>\n",
       "      <td>90.0</td>\n",
       "      <td>110000.0</td>\n",
       "      <td>CASA 3 AMBIENTES SOBRE LOTE 10 X 20</td>\n",
       "      <td>Casa</td>\n",
       "      <td>1.055179</td>\n",
       "    </tr>\n",
       "    <tr>\n",
       "      <th>252</th>\n",
       "      <td>Bs.As. G.B.A. Zona Sur</td>\n",
       "      <td>La Plata</td>\n",
       "      <td>7.0</td>\n",
       "      <td>3.0</td>\n",
       "      <td>2.0</td>\n",
       "      <td>325.0</td>\n",
       "      <td>325.0</td>\n",
       "      <td>120000.0</td>\n",
       "      <td>12 entre 485 y 486.Casa en venta, Villa Castel...</td>\n",
       "      <td>Casa</td>\n",
       "      <td>1.259889</td>\n",
       "    </tr>\n",
       "    <tr>\n",
       "      <th>253</th>\n",
       "      <td>Bs.As. G.B.A. Zona Sur</td>\n",
       "      <td>La Plata</td>\n",
       "      <td>7.0</td>\n",
       "      <td>3.0</td>\n",
       "      <td>3.0</td>\n",
       "      <td>1023.0</td>\n",
       "      <td>360.0</td>\n",
       "      <td>650000.0</td>\n",
       "      <td>18 entre 491 y 491bis - Casa en Venta en Gonnet</td>\n",
       "      <td>Casa</td>\n",
       "      <td>5.589802</td>\n",
       "    </tr>\n",
       "    <tr>\n",
       "      <th>254</th>\n",
       "      <td>Bs.As. G.B.A. Zona Norte</td>\n",
       "      <td>San Isidro</td>\n",
       "      <td>6.0</td>\n",
       "      <td>3.0</td>\n",
       "      <td>3.0</td>\n",
       "      <td>1000.0</td>\n",
       "      <td>190.0</td>\n",
       "      <td>370000.0</td>\n",
       "      <td>Venta Casa en San Isidro G.B.A. Zona Norte ABR...</td>\n",
       "      <td>Casa</td>\n",
       "      <td>5.447126</td>\n",
       "    </tr>\n",
       "  </tbody>\n",
       "</table>\n",
       "</div>"
      ],
      "text/plain": [
       "                           l2          l3  rooms  bedrooms  bathrooms  \\\n",
       "137  Bs.As. G.B.A. Zona Norte       Tigre    3.0       2.0        2.0   \n",
       "138  Bs.As. G.B.A. Zona Oeste   Ituzaingó    3.0       2.0        1.0   \n",
       "252    Bs.As. G.B.A. Zona Sur    La Plata    7.0       3.0        2.0   \n",
       "253    Bs.As. G.B.A. Zona Sur    La Plata    7.0       3.0        3.0   \n",
       "254  Bs.As. G.B.A. Zona Norte  San Isidro    6.0       3.0        3.0   \n",
       "\n",
       "     surface_total  surface_covered     price  \\\n",
       "137           89.0             79.0  219000.0   \n",
       "138          292.0             90.0  110000.0   \n",
       "252          325.0            325.0  120000.0   \n",
       "253         1023.0            360.0  650000.0   \n",
       "254         1000.0            190.0  370000.0   \n",
       "\n",
       "                                                 title property_type  \\\n",
       "137  Venta Duplex super luminoso y comodo en Sender...          Casa   \n",
       "138                CASA 3 AMBIENTES SOBRE LOTE 10 X 20          Casa   \n",
       "252  12 entre 485 y 486.Casa en venta, Villa Castel...          Casa   \n",
       "253    18 entre 491 y 491bis - Casa en Venta en Gonnet          Casa   \n",
       "254  Venta Casa en San Isidro G.B.A. Zona Norte ABR...          Casa   \n",
       "\n",
       "     Datos_Reescalados  \n",
       "137          -0.204094  \n",
       "138           1.055179  \n",
       "252           1.259889  \n",
       "253           5.589802  \n",
       "254           5.447126  "
      ]
     },
     "execution_count": 67,
     "metadata": {},
     "output_type": "execute_result"
    }
   ],
   "source": [
    "#Scale the surface\n",
    "\n",
    "valor_medio = df.surface_total.mean()\n",
    "std = df.surface_total.std()\n",
    "df['Datos_Reescalados'] = (df.surface_total - valor_medio)/std\n",
    "df.head()"
   ]
  },
  {
   "cell_type": "code",
   "execution_count": 68,
   "metadata": {},
   "outputs": [
    {
     "name": "stderr",
     "output_type": "stream",
     "text": [
      "C:\\Users\\Usuario\\miniconda3\\envs\\datascience\\lib\\site-packages\\seaborn\\distributions.py:2551: FutureWarning: `distplot` is a deprecated function and will be removed in a future version. Please adapt your code to use either `displot` (a figure-level function with similar flexibility) or `histplot` (an axes-level function for histograms).\n",
      "  warnings.warn(msg, FutureWarning)\n",
      "C:\\Users\\Usuario\\miniconda3\\envs\\datascience\\lib\\site-packages\\seaborn\\distributions.py:2551: FutureWarning: `distplot` is a deprecated function and will be removed in a future version. Please adapt your code to use either `displot` (a figure-level function with similar flexibility) or `histplot` (an axes-level function for histograms).\n",
      "  warnings.warn(msg, FutureWarning)\n"
     ]
    },
    {
     "data": {
      "image/png": "[encoded data removed]",
      "text/plain": [
       "<Figure size 432x288 with 1 Axes>"
      ]
     },
     "metadata": {
      "needs_background": "light"
     },
     "output_type": "display_data"
    }
   ],
   "source": [
    "sns.distplot(df.Datos_Reescalados.values, label = 'Datos Reescalados')\n",
    "sns.distplot(df.surface_total.values, label = 'Datos Crudos')\n",
    "plt.legend()\n",
    "plt.show()"
   ]
  },
  {
   "cell_type": "code",
   "execution_count": 69,
   "metadata": {},
   "outputs": [
    {
     "data": {
      "text/html": [
       "<div>\n",
       "<style scoped>\n",
       "    .dataframe tbody tr th:only-of-type {\n",
       "        vertical-align: middle;\n",
       "    }\n",
       "\n",
       "    .dataframe tbody tr th {\n",
       "        vertical-align: top;\n",
       "    }\n",
       "\n",
       "    .dataframe thead th {\n",
       "        text-align: right;\n",
       "    }\n",
       "</style>\n",
       "<table border=\"1\" class=\"dataframe\">\n",
       "  <thead>\n",
       "    <tr style=\"text-align: right;\">\n",
       "      <th></th>\n",
       "      <th>l2</th>\n",
       "      <th>l3</th>\n",
       "      <th>rooms</th>\n",
       "      <th>bedrooms</th>\n",
       "      <th>bathrooms</th>\n",
       "      <th>surface_total</th>\n",
       "      <th>surface_covered</th>\n",
       "      <th>price</th>\n",
       "      <th>title</th>\n",
       "      <th>property_type</th>\n",
       "      <th>Datos_Reescalados</th>\n",
       "      <th>surface_covered_R</th>\n",
       "    </tr>\n",
       "  </thead>\n",
       "  <tbody>\n",
       "    <tr>\n",
       "      <th>137</th>\n",
       "      <td>Bs.As. G.B.A. Zona Norte</td>\n",
       "      <td>Tigre</td>\n",
       "      <td>3.0</td>\n",
       "      <td>2.0</td>\n",
       "      <td>2.0</td>\n",
       "      <td>89.0</td>\n",
       "      <td>79.0</td>\n",
       "      <td>219000.0</td>\n",
       "      <td>Venta Duplex super luminoso y comodo en Sender...</td>\n",
       "      <td>Casa</td>\n",
       "      <td>-0.204094</td>\n",
       "      <td>-0.079608</td>\n",
       "    </tr>\n",
       "    <tr>\n",
       "      <th>138</th>\n",
       "      <td>Bs.As. G.B.A. Zona Oeste</td>\n",
       "      <td>Ituzaingó</td>\n",
       "      <td>3.0</td>\n",
       "      <td>2.0</td>\n",
       "      <td>1.0</td>\n",
       "      <td>292.0</td>\n",
       "      <td>90.0</td>\n",
       "      <td>110000.0</td>\n",
       "      <td>CASA 3 AMBIENTES SOBRE LOTE 10 X 20</td>\n",
       "      <td>Casa</td>\n",
       "      <td>1.055179</td>\n",
       "      <td>0.092215</td>\n",
       "    </tr>\n",
       "    <tr>\n",
       "      <th>252</th>\n",
       "      <td>Bs.As. G.B.A. Zona Sur</td>\n",
       "      <td>La Plata</td>\n",
       "      <td>7.0</td>\n",
       "      <td>3.0</td>\n",
       "      <td>2.0</td>\n",
       "      <td>325.0</td>\n",
       "      <td>325.0</td>\n",
       "      <td>120000.0</td>\n",
       "      <td>12 entre 485 y 486.Casa en venta, Villa Castel...</td>\n",
       "      <td>Casa</td>\n",
       "      <td>1.259889</td>\n",
       "      <td>3.762986</td>\n",
       "    </tr>\n",
       "    <tr>\n",
       "      <th>253</th>\n",
       "      <td>Bs.As. G.B.A. Zona Sur</td>\n",
       "      <td>La Plata</td>\n",
       "      <td>7.0</td>\n",
       "      <td>3.0</td>\n",
       "      <td>3.0</td>\n",
       "      <td>1023.0</td>\n",
       "      <td>360.0</td>\n",
       "      <td>650000.0</td>\n",
       "      <td>18 entre 491 y 491bis - Casa en Venta en Gonnet</td>\n",
       "      <td>Casa</td>\n",
       "      <td>5.589802</td>\n",
       "      <td>4.309697</td>\n",
       "    </tr>\n",
       "    <tr>\n",
       "      <th>254</th>\n",
       "      <td>Bs.As. G.B.A. Zona Norte</td>\n",
       "      <td>San Isidro</td>\n",
       "      <td>6.0</td>\n",
       "      <td>3.0</td>\n",
       "      <td>3.0</td>\n",
       "      <td>1000.0</td>\n",
       "      <td>190.0</td>\n",
       "      <td>370000.0</td>\n",
       "      <td>Venta Casa en San Isidro G.B.A. Zona Norte ABR...</td>\n",
       "      <td>Casa</td>\n",
       "      <td>5.447126</td>\n",
       "      <td>1.654246</td>\n",
       "    </tr>\n",
       "  </tbody>\n",
       "</table>\n",
       "</div>"
      ],
      "text/plain": [
       "                           l2          l3  rooms  bedrooms  bathrooms  \\\n",
       "137  Bs.As. G.B.A. Zona Norte       Tigre    3.0       2.0        2.0   \n",
       "138  Bs.As. G.B.A. Zona Oeste   Ituzaingó    3.0       2.0        1.0   \n",
       "252    Bs.As. G.B.A. Zona Sur    La Plata    7.0       3.0        2.0   \n",
       "253    Bs.As. G.B.A. Zona Sur    La Plata    7.0       3.0        3.0   \n",
       "254  Bs.As. G.B.A. Zona Norte  San Isidro    6.0       3.0        3.0   \n",
       "\n",
       "     surface_total  surface_covered     price  \\\n",
       "137           89.0             79.0  219000.0   \n",
       "138          292.0             90.0  110000.0   \n",
       "252          325.0            325.0  120000.0   \n",
       "253         1023.0            360.0  650000.0   \n",
       "254         1000.0            190.0  370000.0   \n",
       "\n",
       "                                                 title property_type  \\\n",
       "137  Venta Duplex super luminoso y comodo en Sender...          Casa   \n",
       "138                CASA 3 AMBIENTES SOBRE LOTE 10 X 20          Casa   \n",
       "252  12 entre 485 y 486.Casa en venta, Villa Castel...          Casa   \n",
       "253    18 entre 491 y 491bis - Casa en Venta en Gonnet          Casa   \n",
       "254  Venta Casa en San Isidro G.B.A. Zona Norte ABR...          Casa   \n",
       "\n",
       "     Datos_Reescalados  surface_covered_R  \n",
       "137          -0.204094          -0.079608  \n",
       "138           1.055179           0.092215  \n",
       "252           1.259889           3.762986  \n",
       "253           5.589802           4.309697  \n",
       "254           5.447126           1.654246  "
      ]
     },
     "execution_count": 69,
     "metadata": {},
     "output_type": "execute_result"
    }
   ],
   "source": [
    "#Covered surface\n",
    "\n",
    "valor_medio = df.surface_covered.mean()\n",
    "std = df.surface_covered.std()\n",
    "df['surface_covered_R'] = (df.surface_covered - valor_medio)/std\n",
    "df.head()"
   ]
  },
  {
   "cell_type": "code",
   "execution_count": 70,
   "metadata": {},
   "outputs": [
    {
     "name": "stderr",
     "output_type": "stream",
     "text": [
      "C:\\Users\\Usuario\\miniconda3\\envs\\datascience\\lib\\site-packages\\seaborn\\distributions.py:2551: FutureWarning: `distplot` is a deprecated function and will be removed in a future version. Please adapt your code to use either `displot` (a figure-level function with similar flexibility) or `histplot` (an axes-level function for histograms).\n",
      "  warnings.warn(msg, FutureWarning)\n",
      "C:\\Users\\Usuario\\miniconda3\\envs\\datascience\\lib\\site-packages\\seaborn\\distributions.py:2551: FutureWarning: `distplot` is a deprecated function and will be removed in a future version. Please adapt your code to use either `displot` (a figure-level function with similar flexibility) or `histplot` (an axes-level function for histograms).\n",
      "  warnings.warn(msg, FutureWarning)\n"
     ]
    },
    {
     "data": {
      "image/png": "[encoded data removed]",
      "text/plain": [
       "<Figure size 432x288 with 1 Axes>"
      ]
     },
     "metadata": {
      "needs_background": "light"
     },
     "output_type": "display_data"
    }
   ],
   "source": [
    "sns.distplot(df.surface_covered_R.values, label = 'Datos Reescalados')\n",
    "sns.distplot(df.surface_covered.values, label = 'Datos Crudos')\n",
    "plt.legend()\n",
    "plt.show()"
   ]
  },
  {
   "cell_type": "code",
   "execution_count": 71,
   "metadata": {},
   "outputs": [
    {
     "data": {
      "text/html": [
       "<div>\n",
       "<style scoped>\n",
       "    .dataframe tbody tr th:only-of-type {\n",
       "        vertical-align: middle;\n",
       "    }\n",
       "\n",
       "    .dataframe tbody tr th {\n",
       "        vertical-align: top;\n",
       "    }\n",
       "\n",
       "    .dataframe thead th {\n",
       "        text-align: right;\n",
       "    }\n",
       "</style>\n",
       "<table border=\"1\" class=\"dataframe\">\n",
       "  <thead>\n",
       "    <tr style=\"text-align: right;\">\n",
       "      <th></th>\n",
       "      <th>l2</th>\n",
       "      <th>l3</th>\n",
       "      <th>rooms</th>\n",
       "      <th>bedrooms</th>\n",
       "      <th>bathrooms</th>\n",
       "      <th>surface_total</th>\n",
       "      <th>surface_covered</th>\n",
       "      <th>price</th>\n",
       "      <th>title</th>\n",
       "      <th>property_type</th>\n",
       "      <th>Datos_Reescalados</th>\n",
       "      <th>surface_covered_R</th>\n",
       "      <th>bathrooms_R</th>\n",
       "      <th>rooms_R</th>\n",
       "      <th>bedrooms_R</th>\n",
       "    </tr>\n",
       "  </thead>\n",
       "  <tbody>\n",
       "    <tr>\n",
       "      <th>137</th>\n",
       "      <td>Bs.As. G.B.A. Zona Norte</td>\n",
       "      <td>Tigre</td>\n",
       "      <td>3.0</td>\n",
       "      <td>2.0</td>\n",
       "      <td>2.0</td>\n",
       "      <td>89.0</td>\n",
       "      <td>79.0</td>\n",
       "      <td>219000.0</td>\n",
       "      <td>Venta Duplex super luminoso y comodo en Sender...</td>\n",
       "      <td>Casa</td>\n",
       "      <td>-0.204094</td>\n",
       "      <td>-0.079608</td>\n",
       "      <td>0.573044</td>\n",
       "      <td>-0.032344</td>\n",
       "      <td>0.034482</td>\n",
       "    </tr>\n",
       "    <tr>\n",
       "      <th>138</th>\n",
       "      <td>Bs.As. G.B.A. Zona Oeste</td>\n",
       "      <td>Ituzaingó</td>\n",
       "      <td>3.0</td>\n",
       "      <td>2.0</td>\n",
       "      <td>1.0</td>\n",
       "      <td>292.0</td>\n",
       "      <td>90.0</td>\n",
       "      <td>110000.0</td>\n",
       "      <td>CASA 3 AMBIENTES SOBRE LOTE 10 X 20</td>\n",
       "      <td>Casa</td>\n",
       "      <td>1.055179</td>\n",
       "      <td>0.092215</td>\n",
       "      <td>-0.661412</td>\n",
       "      <td>-0.032344</td>\n",
       "      <td>0.034482</td>\n",
       "    </tr>\n",
       "    <tr>\n",
       "      <th>252</th>\n",
       "      <td>Bs.As. G.B.A. Zona Sur</td>\n",
       "      <td>La Plata</td>\n",
       "      <td>7.0</td>\n",
       "      <td>3.0</td>\n",
       "      <td>2.0</td>\n",
       "      <td>325.0</td>\n",
       "      <td>325.0</td>\n",
       "      <td>120000.0</td>\n",
       "      <td>12 entre 485 y 486.Casa en venta, Villa Castel...</td>\n",
       "      <td>Casa</td>\n",
       "      <td>1.259889</td>\n",
       "      <td>3.762986</td>\n",
       "      <td>0.573044</td>\n",
       "      <td>2.975885</td>\n",
       "      <td>0.944297</td>\n",
       "    </tr>\n",
       "    <tr>\n",
       "      <th>253</th>\n",
       "      <td>Bs.As. G.B.A. Zona Sur</td>\n",
       "      <td>La Plata</td>\n",
       "      <td>7.0</td>\n",
       "      <td>3.0</td>\n",
       "      <td>3.0</td>\n",
       "      <td>1023.0</td>\n",
       "      <td>360.0</td>\n",
       "      <td>650000.0</td>\n",
       "      <td>18 entre 491 y 491bis - Casa en Venta en Gonnet</td>\n",
       "      <td>Casa</td>\n",
       "      <td>5.589802</td>\n",
       "      <td>4.309697</td>\n",
       "      <td>1.807499</td>\n",
       "      <td>2.975885</td>\n",
       "      <td>0.944297</td>\n",
       "    </tr>\n",
       "    <tr>\n",
       "      <th>254</th>\n",
       "      <td>Bs.As. G.B.A. Zona Norte</td>\n",
       "      <td>San Isidro</td>\n",
       "      <td>6.0</td>\n",
       "      <td>3.0</td>\n",
       "      <td>3.0</td>\n",
       "      <td>1000.0</td>\n",
       "      <td>190.0</td>\n",
       "      <td>370000.0</td>\n",
       "      <td>Venta Casa en San Isidro G.B.A. Zona Norte ABR...</td>\n",
       "      <td>Casa</td>\n",
       "      <td>5.447126</td>\n",
       "      <td>1.654246</td>\n",
       "      <td>1.807499</td>\n",
       "      <td>2.223827</td>\n",
       "      <td>0.944297</td>\n",
       "    </tr>\n",
       "  </tbody>\n",
       "</table>\n",
       "</div>"
      ],
      "text/plain": [
       "                           l2          l3  rooms  bedrooms  bathrooms  \\\n",
       "137  Bs.As. G.B.A. Zona Norte       Tigre    3.0       2.0        2.0   \n",
       "138  Bs.As. G.B.A. Zona Oeste   Ituzaingó    3.0       2.0        1.0   \n",
       "252    Bs.As. G.B.A. Zona Sur    La Plata    7.0       3.0        2.0   \n",
       "253    Bs.As. G.B.A. Zona Sur    La Plata    7.0       3.0        3.0   \n",
       "254  Bs.As. G.B.A. Zona Norte  San Isidro    6.0       3.0        3.0   \n",
       "\n",
       "     surface_total  surface_covered     price  \\\n",
       "137           89.0             79.0  219000.0   \n",
       "138          292.0             90.0  110000.0   \n",
       "252          325.0            325.0  120000.0   \n",
       "253         1023.0            360.0  650000.0   \n",
       "254         1000.0            190.0  370000.0   \n",
       "\n",
       "                                                 title property_type  \\\n",
       "137  Venta Duplex super luminoso y comodo en Sender...          Casa   \n",
       "138                CASA 3 AMBIENTES SOBRE LOTE 10 X 20          Casa   \n",
       "252  12 entre 485 y 486.Casa en venta, Villa Castel...          Casa   \n",
       "253    18 entre 491 y 491bis - Casa en Venta en Gonnet          Casa   \n",
       "254  Venta Casa en San Isidro G.B.A. Zona Norte ABR...          Casa   \n",
       "\n",
       "     Datos_Reescalados  surface_covered_R  bathrooms_R   rooms_R  bedrooms_R  \n",
       "137          -0.204094          -0.079608     0.573044 -0.032344    0.034482  \n",
       "138           1.055179           0.092215    -0.661412 -0.032344    0.034482  \n",
       "252           1.259889           3.762986     0.573044  2.975885    0.944297  \n",
       "253           5.589802           4.309697     1.807499  2.975885    0.944297  \n",
       "254           5.447126           1.654246     1.807499  2.223827    0.944297  "
      ]
     },
     "execution_count": 71,
     "metadata": {},
     "output_type": "execute_result"
    }
   ],
   "source": [
    "#Bathrooms\n",
    "\n",
    "valor_medio = df.bathrooms.mean()\n",
    "std = df.bathrooms.std()\n",
    "df['bathrooms_R'] = (df.bathrooms - valor_medio)/std\n",
    "df.head()\n",
    "\n",
    "valor_medio1 = df.rooms.mean()\n",
    "std1 = df.rooms.std()\n",
    "df['rooms_R'] = (df.rooms - valor_medio1)/std1\n",
    "df.head()\n",
    "\n",
    "valor_medio2 = df.bedrooms.mean()\n",
    "std2 = df.bedrooms.std()\n",
    "df['bedrooms_R'] = (df.bedrooms - valor_medio2)/std2\n",
    "df.head()"
   ]
  },
  {
   "cell_type": "code",
   "execution_count": 72,
   "metadata": {},
   "outputs": [
    {
     "data": {
      "text/html": [
       "<div>\n",
       "<style scoped>\n",
       "    .dataframe tbody tr th:only-of-type {\n",
       "        vertical-align: middle;\n",
       "    }\n",
       "\n",
       "    .dataframe tbody tr th {\n",
       "        vertical-align: top;\n",
       "    }\n",
       "\n",
       "    .dataframe thead th {\n",
       "        text-align: right;\n",
       "    }\n",
       "</style>\n",
       "<table border=\"1\" class=\"dataframe\">\n",
       "  <thead>\n",
       "    <tr style=\"text-align: right;\">\n",
       "      <th></th>\n",
       "      <th>rooms</th>\n",
       "      <th>bedrooms</th>\n",
       "      <th>bathrooms</th>\n",
       "      <th>surface_total</th>\n",
       "      <th>surface_covered</th>\n",
       "      <th>price</th>\n",
       "      <th>Datos_Reescalados</th>\n",
       "      <th>surface_covered_R</th>\n",
       "      <th>bathrooms_R</th>\n",
       "      <th>rooms_R</th>\n",
       "      <th>bedrooms_R</th>\n",
       "    </tr>\n",
       "  </thead>\n",
       "  <tbody>\n",
       "    <tr>\n",
       "      <th>rooms</th>\n",
       "      <td>1.000000</td>\n",
       "      <td>0.867432</td>\n",
       "      <td>0.585076</td>\n",
       "      <td>0.487405</td>\n",
       "      <td>0.653887</td>\n",
       "      <td>0.526375</td>\n",
       "      <td>0.487405</td>\n",
       "      <td>0.653887</td>\n",
       "      <td>0.585076</td>\n",
       "      <td>1.000000</td>\n",
       "      <td>0.867432</td>\n",
       "    </tr>\n",
       "    <tr>\n",
       "      <th>bedrooms</th>\n",
       "      <td>0.867432</td>\n",
       "      <td>1.000000</td>\n",
       "      <td>0.557310</td>\n",
       "      <td>0.446997</td>\n",
       "      <td>0.617738</td>\n",
       "      <td>0.492754</td>\n",
       "      <td>0.446997</td>\n",
       "      <td>0.617738</td>\n",
       "      <td>0.557310</td>\n",
       "      <td>0.867432</td>\n",
       "      <td>1.000000</td>\n",
       "    </tr>\n",
       "    <tr>\n",
       "      <th>bathrooms</th>\n",
       "      <td>0.585076</td>\n",
       "      <td>0.557310</td>\n",
       "      <td>1.000000</td>\n",
       "      <td>0.371048</td>\n",
       "      <td>0.530921</td>\n",
       "      <td>0.637059</td>\n",
       "      <td>0.371048</td>\n",
       "      <td>0.530921</td>\n",
       "      <td>1.000000</td>\n",
       "      <td>0.585076</td>\n",
       "      <td>0.557310</td>\n",
       "    </tr>\n",
       "    <tr>\n",
       "      <th>surface_total</th>\n",
       "      <td>0.487405</td>\n",
       "      <td>0.446997</td>\n",
       "      <td>0.371048</td>\n",
       "      <td>1.000000</td>\n",
       "      <td>0.696821</td>\n",
       "      <td>0.311441</td>\n",
       "      <td>1.000000</td>\n",
       "      <td>0.696821</td>\n",
       "      <td>0.371048</td>\n",
       "      <td>0.487405</td>\n",
       "      <td>0.446997</td>\n",
       "    </tr>\n",
       "    <tr>\n",
       "      <th>surface_covered</th>\n",
       "      <td>0.653887</td>\n",
       "      <td>0.617738</td>\n",
       "      <td>0.530921</td>\n",
       "      <td>0.696821</td>\n",
       "      <td>1.000000</td>\n",
       "      <td>0.544441</td>\n",
       "      <td>0.696821</td>\n",
       "      <td>1.000000</td>\n",
       "      <td>0.530921</td>\n",
       "      <td>0.653887</td>\n",
       "      <td>0.617738</td>\n",
       "    </tr>\n",
       "    <tr>\n",
       "      <th>price</th>\n",
       "      <td>0.526375</td>\n",
       "      <td>0.492754</td>\n",
       "      <td>0.637059</td>\n",
       "      <td>0.311441</td>\n",
       "      <td>0.544441</td>\n",
       "      <td>1.000000</td>\n",
       "      <td>0.311441</td>\n",
       "      <td>0.544441</td>\n",
       "      <td>0.637059</td>\n",
       "      <td>0.526375</td>\n",
       "      <td>0.492754</td>\n",
       "    </tr>\n",
       "    <tr>\n",
       "      <th>Datos_Reescalados</th>\n",
       "      <td>0.487405</td>\n",
       "      <td>0.446997</td>\n",
       "      <td>0.371048</td>\n",
       "      <td>1.000000</td>\n",
       "      <td>0.696821</td>\n",
       "      <td>0.311441</td>\n",
       "      <td>1.000000</td>\n",
       "      <td>0.696821</td>\n",
       "      <td>0.371048</td>\n",
       "      <td>0.487405</td>\n",
       "      <td>0.446997</td>\n",
       "    </tr>\n",
       "    <tr>\n",
       "      <th>surface_covered_R</th>\n",
       "      <td>0.653887</td>\n",
       "      <td>0.617738</td>\n",
       "      <td>0.530921</td>\n",
       "      <td>0.696821</td>\n",
       "      <td>1.000000</td>\n",
       "      <td>0.544441</td>\n",
       "      <td>0.696821</td>\n",
       "      <td>1.000000</td>\n",
       "      <td>0.530921</td>\n",
       "      <td>0.653887</td>\n",
       "      <td>0.617738</td>\n",
       "    </tr>\n",
       "    <tr>\n",
       "      <th>bathrooms_R</th>\n",
       "      <td>0.585076</td>\n",
       "      <td>0.557310</td>\n",
       "      <td>1.000000</td>\n",
       "      <td>0.371048</td>\n",
       "      <td>0.530921</td>\n",
       "      <td>0.637059</td>\n",
       "      <td>0.371048</td>\n",
       "      <td>0.530921</td>\n",
       "      <td>1.000000</td>\n",
       "      <td>0.585076</td>\n",
       "      <td>0.557310</td>\n",
       "    </tr>\n",
       "    <tr>\n",
       "      <th>rooms_R</th>\n",
       "      <td>1.000000</td>\n",
       "      <td>0.867432</td>\n",
       "      <td>0.585076</td>\n",
       "      <td>0.487405</td>\n",
       "      <td>0.653887</td>\n",
       "      <td>0.526375</td>\n",
       "      <td>0.487405</td>\n",
       "      <td>0.653887</td>\n",
       "      <td>0.585076</td>\n",
       "      <td>1.000000</td>\n",
       "      <td>0.867432</td>\n",
       "    </tr>\n",
       "    <tr>\n",
       "      <th>bedrooms_R</th>\n",
       "      <td>0.867432</td>\n",
       "      <td>1.000000</td>\n",
       "      <td>0.557310</td>\n",
       "      <td>0.446997</td>\n",
       "      <td>0.617738</td>\n",
       "      <td>0.492754</td>\n",
       "      <td>0.446997</td>\n",
       "      <td>0.617738</td>\n",
       "      <td>0.557310</td>\n",
       "      <td>0.867432</td>\n",
       "      <td>1.000000</td>\n",
       "    </tr>\n",
       "  </tbody>\n",
       "</table>\n",
       "</div>"
      ],
      "text/plain": [
       "                      rooms  bedrooms  bathrooms  surface_total  \\\n",
       "rooms              1.000000  0.867432   0.585076       0.487405   \n",
       "bedrooms           0.867432  1.000000   0.557310       0.446997   \n",
       "bathrooms          0.585076  0.557310   1.000000       0.371048   \n",
       "surface_total      0.487405  0.446997   0.371048       1.000000   \n",
       "surface_covered    0.653887  0.617738   0.530921       0.696821   \n",
       "price              0.526375  0.492754   0.637059       0.311441   \n",
       "Datos_Reescalados  0.487405  0.446997   0.371048       1.000000   \n",
       "surface_covered_R  0.653887  0.617738   0.530921       0.696821   \n",
       "bathrooms_R        0.585076  0.557310   1.000000       0.371048   \n",
       "rooms_R            1.000000  0.867432   0.585076       0.487405   \n",
       "bedrooms_R         0.867432  1.000000   0.557310       0.446997   \n",
       "\n",
       "                   surface_covered     price  Datos_Reescalados  \\\n",
       "rooms                     0.653887  0.526375           0.487405   \n",
       "bedrooms                  0.617738  0.492754           0.446997   \n",
       "bathrooms                 0.530921  0.637059           0.371048   \n",
       "surface_total             0.696821  0.311441           1.000000   \n",
       "surface_covered           1.000000  0.544441           0.696821   \n",
       "price                     0.544441  1.000000           0.311441   \n",
       "Datos_Reescalados         0.696821  0.311441           1.000000   \n",
       "surface_covered_R         1.000000  0.544441           0.696821   \n",
       "bathrooms_R               0.530921  0.637059           0.371048   \n",
       "rooms_R                   0.653887  0.526375           0.487405   \n",
       "bedrooms_R                0.617738  0.492754           0.446997   \n",
       "\n",
       "                   surface_covered_R  bathrooms_R   rooms_R  bedrooms_R  \n",
       "rooms                       0.653887     0.585076  1.000000    0.867432  \n",
       "bedrooms                    0.617738     0.557310  0.867432    1.000000  \n",
       "bathrooms                   0.530921     1.000000  0.585076    0.557310  \n",
       "surface_total               0.696821     0.371048  0.487405    0.446997  \n",
       "surface_covered             1.000000     0.530921  0.653887    0.617738  \n",
       "price                       0.544441     0.637059  0.526375    0.492754  \n",
       "Datos_Reescalados           0.696821     0.371048  0.487405    0.446997  \n",
       "surface_covered_R           1.000000     0.530921  0.653887    0.617738  \n",
       "bathrooms_R                 0.530921     1.000000  0.585076    0.557310  \n",
       "rooms_R                     0.653887     0.585076  1.000000    0.867432  \n",
       "bedrooms_R                  0.617738     0.557310  0.867432    1.000000  "
      ]
     },
     "execution_count": 72,
     "metadata": {},
     "output_type": "execute_result"
    }
   ],
   "source": [
    "df.corr()"
   ]
  },
  {
   "cell_type": "code",
   "execution_count": 73,
   "metadata": {},
   "outputs": [],
   "source": [
    "df.drop(['bedrooms', 'bathrooms', 'rooms', 'surface_total','surface_covered'], axis=1, inplace=True)"
   ]
  },
  {
   "cell_type": "markdown",
   "metadata": {},
   "source": [
    "#### Encoding"
   ]
  },
  {
   "cell_type": "code",
   "execution_count": 74,
   "metadata": {},
   "outputs": [],
   "source": [
    "#We want to see if categorical variables have relation with the price"
   ]
  },
  {
   "cell_type": "code",
   "execution_count": 75,
   "metadata": {},
   "outputs": [
    {
     "data": {
      "image/png": "[encoded data removed]",
      "text/plain": [
       "<Figure size 432x288 with 1 Axes>"
      ]
     },
     "metadata": {
      "needs_background": "light"
     },
     "output_type": "display_data"
    },
    {
     "data": {
      "image/png": "[encoded data removed]",
      "text/plain": [
       "<Figure size 432x288 with 1 Axes>"
      ]
     },
     "metadata": {
      "needs_background": "light"
     },
     "output_type": "display_data"
    },
    {
     "data": {
      "image/png": "[encoded data removed]",
      "text/plain": [
       "<Figure size 432x288 with 1 Axes>"
      ]
     },
     "metadata": {
      "needs_background": "light"
     },
     "output_type": "display_data"
    }
   ],
   "source": [
    "few_cat_variables = ['l3', 'property_type', 'l2']\n",
    "\n",
    "#Ploteamos las indicadas\n",
    "for i in range(len(few_cat_variables)):\n",
    "    sns.violinplot(y=few_cat_variables[i], x='price', data=df)\n",
    "    plt.show()"
   ]
  },
  {
   "cell_type": "code",
   "execution_count": 76,
   "metadata": {},
   "outputs": [],
   "source": [
    "del(df['title'])"
   ]
  },
  {
   "cell_type": "code",
   "execution_count": 77,
   "metadata": {},
   "outputs": [],
   "source": [
    "del(df['l3'])"
   ]
  },
  {
   "cell_type": "code",
   "execution_count": 78,
   "metadata": {},
   "outputs": [
    {
     "data": {
      "text/html": [
       "<div>\n",
       "<style scoped>\n",
       "    .dataframe tbody tr th:only-of-type {\n",
       "        vertical-align: middle;\n",
       "    }\n",
       "\n",
       "    .dataframe tbody tr th {\n",
       "        vertical-align: top;\n",
       "    }\n",
       "\n",
       "    .dataframe thead th {\n",
       "        text-align: right;\n",
       "    }\n",
       "</style>\n",
       "<table border=\"1\" class=\"dataframe\">\n",
       "  <thead>\n",
       "    <tr style=\"text-align: right;\">\n",
       "      <th></th>\n",
       "      <th>l2</th>\n",
       "      <th>price</th>\n",
       "      <th>property_type</th>\n",
       "      <th>Datos_Reescalados</th>\n",
       "      <th>surface_covered_R</th>\n",
       "      <th>bathrooms_R</th>\n",
       "      <th>rooms_R</th>\n",
       "      <th>bedrooms_R</th>\n",
       "    </tr>\n",
       "  </thead>\n",
       "  <tbody>\n",
       "    <tr>\n",
       "      <th>137</th>\n",
       "      <td>Bs.As. G.B.A. Zona Norte</td>\n",
       "      <td>219000.0</td>\n",
       "      <td>Casa</td>\n",
       "      <td>-0.204094</td>\n",
       "      <td>-0.079608</td>\n",
       "      <td>0.573044</td>\n",
       "      <td>-0.032344</td>\n",
       "      <td>0.034482</td>\n",
       "    </tr>\n",
       "    <tr>\n",
       "      <th>138</th>\n",
       "      <td>Bs.As. G.B.A. Zona Oeste</td>\n",
       "      <td>110000.0</td>\n",
       "      <td>Casa</td>\n",
       "      <td>1.055179</td>\n",
       "      <td>0.092215</td>\n",
       "      <td>-0.661412</td>\n",
       "      <td>-0.032344</td>\n",
       "      <td>0.034482</td>\n",
       "    </tr>\n",
       "    <tr>\n",
       "      <th>252</th>\n",
       "      <td>Bs.As. G.B.A. Zona Sur</td>\n",
       "      <td>120000.0</td>\n",
       "      <td>Casa</td>\n",
       "      <td>1.259889</td>\n",
       "      <td>3.762986</td>\n",
       "      <td>0.573044</td>\n",
       "      <td>2.975885</td>\n",
       "      <td>0.944297</td>\n",
       "    </tr>\n",
       "    <tr>\n",
       "      <th>253</th>\n",
       "      <td>Bs.As. G.B.A. Zona Sur</td>\n",
       "      <td>650000.0</td>\n",
       "      <td>Casa</td>\n",
       "      <td>5.589802</td>\n",
       "      <td>4.309697</td>\n",
       "      <td>1.807499</td>\n",
       "      <td>2.975885</td>\n",
       "      <td>0.944297</td>\n",
       "    </tr>\n",
       "    <tr>\n",
       "      <th>254</th>\n",
       "      <td>Bs.As. G.B.A. Zona Norte</td>\n",
       "      <td>370000.0</td>\n",
       "      <td>Casa</td>\n",
       "      <td>5.447126</td>\n",
       "      <td>1.654246</td>\n",
       "      <td>1.807499</td>\n",
       "      <td>2.223827</td>\n",
       "      <td>0.944297</td>\n",
       "    </tr>\n",
       "  </tbody>\n",
       "</table>\n",
       "</div>"
      ],
      "text/plain": [
       "                           l2     price property_type  Datos_Reescalados  \\\n",
       "137  Bs.As. G.B.A. Zona Norte  219000.0          Casa          -0.204094   \n",
       "138  Bs.As. G.B.A. Zona Oeste  110000.0          Casa           1.055179   \n",
       "252    Bs.As. G.B.A. Zona Sur  120000.0          Casa           1.259889   \n",
       "253    Bs.As. G.B.A. Zona Sur  650000.0          Casa           5.589802   \n",
       "254  Bs.As. G.B.A. Zona Norte  370000.0          Casa           5.447126   \n",
       "\n",
       "     surface_covered_R  bathrooms_R   rooms_R  bedrooms_R  \n",
       "137          -0.079608     0.573044 -0.032344    0.034482  \n",
       "138           0.092215    -0.661412 -0.032344    0.034482  \n",
       "252           3.762986     0.573044  2.975885    0.944297  \n",
       "253           4.309697     1.807499  2.975885    0.944297  \n",
       "254           1.654246     1.807499  2.223827    0.944297  "
      ]
     },
     "execution_count": 78,
     "metadata": {},
     "output_type": "execute_result"
    }
   ],
   "source": [
    "df.head()"
   ]
  },
  {
   "cell_type": "code",
   "execution_count": 79,
   "metadata": {},
   "outputs": [
    {
     "name": "stdout",
     "output_type": "stream",
     "text": [
      "property_type :  ['Casa' 'Departamento' 'PH']\n",
      "l2 :  ['Bs.As. G.B.A. Zona Norte' 'Bs.As. G.B.A. Zona Oeste'\n",
      " 'Bs.As. G.B.A. Zona Sur' 'Capital Federal']\n"
     ]
    }
   ],
   "source": [
    "important_categorical_vars = ['property_type', 'l2']\n",
    "\n",
    "# Let us once again categories of these important variables\n",
    "for col in important_categorical_vars:\n",
    "    print(col, \": \", df[col].unique())\n",
    "    "
   ]
  },
  {
   "cell_type": "code",
   "execution_count": 80,
   "metadata": {},
   "outputs": [],
   "source": [
    "encoded_columns = pd.get_dummies(df[['property_type', 'l2']]) #Make a numeric column with the property_type"
   ]
  },
  {
   "cell_type": "code",
   "execution_count": 81,
   "metadata": {},
   "outputs": [],
   "source": [
    "df = df.join(encoded_columns).drop('property_type', axis=1) #Add the numerical columns to the dataset"
   ]
  },
  {
   "cell_type": "code",
   "execution_count": 82,
   "metadata": {},
   "outputs": [],
   "source": [
    "df.drop('l2', axis=1, inplace=True)"
   ]
  },
  {
   "cell_type": "code",
   "execution_count": 83,
   "metadata": {},
   "outputs": [
    {
     "data": {
      "text/html": [
       "<div>\n",
       "<style scoped>\n",
       "    .dataframe tbody tr th:only-of-type {\n",
       "        vertical-align: middle;\n",
       "    }\n",
       "\n",
       "    .dataframe tbody tr th {\n",
       "        vertical-align: top;\n",
       "    }\n",
       "\n",
       "    .dataframe thead th {\n",
       "        text-align: right;\n",
       "    }\n",
       "</style>\n",
       "<table border=\"1\" class=\"dataframe\">\n",
       "  <thead>\n",
       "    <tr style=\"text-align: right;\">\n",
       "      <th></th>\n",
       "      <th>price</th>\n",
       "      <th>Datos_Reescalados</th>\n",
       "      <th>surface_covered_R</th>\n",
       "      <th>bathrooms_R</th>\n",
       "      <th>rooms_R</th>\n",
       "      <th>bedrooms_R</th>\n",
       "      <th>property_type_Casa</th>\n",
       "      <th>property_type_Departamento</th>\n",
       "      <th>property_type_PH</th>\n",
       "      <th>l2_Bs.As. G.B.A. Zona Norte</th>\n",
       "      <th>l2_Bs.As. G.B.A. Zona Oeste</th>\n",
       "      <th>l2_Bs.As. G.B.A. Zona Sur</th>\n",
       "      <th>l2_Capital Federal</th>\n",
       "    </tr>\n",
       "  </thead>\n",
       "  <tbody>\n",
       "    <tr>\n",
       "      <th>137</th>\n",
       "      <td>219000.0</td>\n",
       "      <td>-0.204094</td>\n",
       "      <td>-0.079608</td>\n",
       "      <td>0.573044</td>\n",
       "      <td>-0.032344</td>\n",
       "      <td>0.034482</td>\n",
       "      <td>1</td>\n",
       "      <td>0</td>\n",
       "      <td>0</td>\n",
       "      <td>1</td>\n",
       "      <td>0</td>\n",
       "      <td>0</td>\n",
       "      <td>0</td>\n",
       "    </tr>\n",
       "    <tr>\n",
       "      <th>138</th>\n",
       "      <td>110000.0</td>\n",
       "      <td>1.055179</td>\n",
       "      <td>0.092215</td>\n",
       "      <td>-0.661412</td>\n",
       "      <td>-0.032344</td>\n",
       "      <td>0.034482</td>\n",
       "      <td>1</td>\n",
       "      <td>0</td>\n",
       "      <td>0</td>\n",
       "      <td>0</td>\n",
       "      <td>1</td>\n",
       "      <td>0</td>\n",
       "      <td>0</td>\n",
       "    </tr>\n",
       "    <tr>\n",
       "      <th>252</th>\n",
       "      <td>120000.0</td>\n",
       "      <td>1.259889</td>\n",
       "      <td>3.762986</td>\n",
       "      <td>0.573044</td>\n",
       "      <td>2.975885</td>\n",
       "      <td>0.944297</td>\n",
       "      <td>1</td>\n",
       "      <td>0</td>\n",
       "      <td>0</td>\n",
       "      <td>0</td>\n",
       "      <td>0</td>\n",
       "      <td>1</td>\n",
       "      <td>0</td>\n",
       "    </tr>\n",
       "    <tr>\n",
       "      <th>253</th>\n",
       "      <td>650000.0</td>\n",
       "      <td>5.589802</td>\n",
       "      <td>4.309697</td>\n",
       "      <td>1.807499</td>\n",
       "      <td>2.975885</td>\n",
       "      <td>0.944297</td>\n",
       "      <td>1</td>\n",
       "      <td>0</td>\n",
       "      <td>0</td>\n",
       "      <td>0</td>\n",
       "      <td>0</td>\n",
       "      <td>1</td>\n",
       "      <td>0</td>\n",
       "    </tr>\n",
       "    <tr>\n",
       "      <th>254</th>\n",
       "      <td>370000.0</td>\n",
       "      <td>5.447126</td>\n",
       "      <td>1.654246</td>\n",
       "      <td>1.807499</td>\n",
       "      <td>2.223827</td>\n",
       "      <td>0.944297</td>\n",
       "      <td>1</td>\n",
       "      <td>0</td>\n",
       "      <td>0</td>\n",
       "      <td>1</td>\n",
       "      <td>0</td>\n",
       "      <td>0</td>\n",
       "      <td>0</td>\n",
       "    </tr>\n",
       "  </tbody>\n",
       "</table>\n",
       "</div>"
      ],
      "text/plain": [
       "        price  Datos_Reescalados  surface_covered_R  bathrooms_R   rooms_R  \\\n",
       "137  219000.0          -0.204094          -0.079608     0.573044 -0.032344   \n",
       "138  110000.0           1.055179           0.092215    -0.661412 -0.032344   \n",
       "252  120000.0           1.259889           3.762986     0.573044  2.975885   \n",
       "253  650000.0           5.589802           4.309697     1.807499  2.975885   \n",
       "254  370000.0           5.447126           1.654246     1.807499  2.223827   \n",
       "\n",
       "     bedrooms_R  property_type_Casa  property_type_Departamento  \\\n",
       "137    0.034482                   1                           0   \n",
       "138    0.034482                   1                           0   \n",
       "252    0.944297                   1                           0   \n",
       "253    0.944297                   1                           0   \n",
       "254    0.944297                   1                           0   \n",
       "\n",
       "     property_type_PH  l2_Bs.As. G.B.A. Zona Norte  \\\n",
       "137                 0                            1   \n",
       "138                 0                            0   \n",
       "252                 0                            0   \n",
       "253                 0                            0   \n",
       "254                 0                            1   \n",
       "\n",
       "     l2_Bs.As. G.B.A. Zona Oeste  l2_Bs.As. G.B.A. Zona Sur  \\\n",
       "137                            0                          0   \n",
       "138                            1                          0   \n",
       "252                            0                          1   \n",
       "253                            0                          1   \n",
       "254                            0                          0   \n",
       "\n",
       "     l2_Capital Federal  \n",
       "137                   0  \n",
       "138                   0  \n",
       "252                   0  \n",
       "253                   0  \n",
       "254                   0  "
      ]
     },
     "execution_count": 83,
     "metadata": {},
     "output_type": "execute_result"
    }
   ],
   "source": [
    "df.head()"
   ]
  },
  {
   "cell_type": "code",
   "execution_count": 84,
   "metadata": {},
   "outputs": [],
   "source": [
    "df.rename(columns={'Datos_Reescalados':'surface_total_R'}, inplace=True)"
   ]
  },
  {
   "cell_type": "code",
   "execution_count": 85,
   "metadata": {},
   "outputs": [
    {
     "data": {
      "text/html": [
       "<div>\n",
       "<style scoped>\n",
       "    .dataframe tbody tr th:only-of-type {\n",
       "        vertical-align: middle;\n",
       "    }\n",
       "\n",
       "    .dataframe tbody tr th {\n",
       "        vertical-align: top;\n",
       "    }\n",
       "\n",
       "    .dataframe thead th {\n",
       "        text-align: right;\n",
       "    }\n",
       "</style>\n",
       "<table border=\"1\" class=\"dataframe\">\n",
       "  <thead>\n",
       "    <tr style=\"text-align: right;\">\n",
       "      <th></th>\n",
       "      <th>price</th>\n",
       "      <th>surface_total_R</th>\n",
       "      <th>surface_covered_R</th>\n",
       "      <th>bathrooms_R</th>\n",
       "      <th>rooms_R</th>\n",
       "      <th>bedrooms_R</th>\n",
       "      <th>property_type_Casa</th>\n",
       "      <th>property_type_Departamento</th>\n",
       "      <th>property_type_PH</th>\n",
       "      <th>l2_Bs.As. G.B.A. Zona Norte</th>\n",
       "      <th>l2_Bs.As. G.B.A. Zona Oeste</th>\n",
       "      <th>l2_Bs.As. G.B.A. Zona Sur</th>\n",
       "      <th>l2_Capital Federal</th>\n",
       "    </tr>\n",
       "  </thead>\n",
       "  <tbody>\n",
       "    <tr>\n",
       "      <th>price</th>\n",
       "      <td>1.000000</td>\n",
       "      <td>0.311441</td>\n",
       "      <td>0.544441</td>\n",
       "      <td>0.637059</td>\n",
       "      <td>0.526375</td>\n",
       "      <td>0.492754</td>\n",
       "      <td>0.110305</td>\n",
       "      <td>-0.056573</td>\n",
       "      <td>-0.047602</td>\n",
       "      <td>0.037029</td>\n",
       "      <td>-0.135380</td>\n",
       "      <td>-0.092552</td>\n",
       "      <td>0.110516</td>\n",
       "    </tr>\n",
       "    <tr>\n",
       "      <th>surface_total_R</th>\n",
       "      <td>0.311441</td>\n",
       "      <td>1.000000</td>\n",
       "      <td>0.696821</td>\n",
       "      <td>0.371048</td>\n",
       "      <td>0.487405</td>\n",
       "      <td>0.446997</td>\n",
       "      <td>0.551010</td>\n",
       "      <td>-0.456488</td>\n",
       "      <td>0.009666</td>\n",
       "      <td>0.182907</td>\n",
       "      <td>0.076360</td>\n",
       "      <td>0.132824</td>\n",
       "      <td>-0.272673</td>\n",
       "    </tr>\n",
       "    <tr>\n",
       "      <th>surface_covered_R</th>\n",
       "      <td>0.544441</td>\n",
       "      <td>0.696821</td>\n",
       "      <td>1.000000</td>\n",
       "      <td>0.530921</td>\n",
       "      <td>0.653887</td>\n",
       "      <td>0.617738</td>\n",
       "      <td>0.452926</td>\n",
       "      <td>-0.408634</td>\n",
       "      <td>0.055482</td>\n",
       "      <td>0.109291</td>\n",
       "      <td>0.048689</td>\n",
       "      <td>0.085209</td>\n",
       "      <td>-0.168526</td>\n",
       "    </tr>\n",
       "    <tr>\n",
       "      <th>bathrooms_R</th>\n",
       "      <td>0.637059</td>\n",
       "      <td>0.371048</td>\n",
       "      <td>0.530921</td>\n",
       "      <td>1.000000</td>\n",
       "      <td>0.585076</td>\n",
       "      <td>0.557310</td>\n",
       "      <td>0.237105</td>\n",
       "      <td>-0.176208</td>\n",
       "      <td>-0.024620</td>\n",
       "      <td>0.112822</td>\n",
       "      <td>-0.031528</td>\n",
       "      <td>-0.003350</td>\n",
       "      <td>-0.066768</td>\n",
       "    </tr>\n",
       "    <tr>\n",
       "      <th>rooms_R</th>\n",
       "      <td>0.526375</td>\n",
       "      <td>0.487405</td>\n",
       "      <td>0.653887</td>\n",
       "      <td>0.585076</td>\n",
       "      <td>1.000000</td>\n",
       "      <td>0.867432</td>\n",
       "      <td>0.424900</td>\n",
       "      <td>-0.433501</td>\n",
       "      <td>0.123420</td>\n",
       "      <td>0.046003</td>\n",
       "      <td>0.040173</td>\n",
       "      <td>0.111896</td>\n",
       "      <td>-0.132052</td>\n",
       "    </tr>\n",
       "    <tr>\n",
       "      <th>bedrooms_R</th>\n",
       "      <td>0.492754</td>\n",
       "      <td>0.446997</td>\n",
       "      <td>0.617738</td>\n",
       "      <td>0.557310</td>\n",
       "      <td>0.867432</td>\n",
       "      <td>1.000000</td>\n",
       "      <td>0.337554</td>\n",
       "      <td>-0.373787</td>\n",
       "      <td>0.139887</td>\n",
       "      <td>0.047093</td>\n",
       "      <td>0.050374</td>\n",
       "      <td>-0.029451</td>\n",
       "      <td>-0.046469</td>\n",
       "    </tr>\n",
       "    <tr>\n",
       "      <th>property_type_Casa</th>\n",
       "      <td>0.110305</td>\n",
       "      <td>0.551010</td>\n",
       "      <td>0.452926</td>\n",
       "      <td>0.237105</td>\n",
       "      <td>0.424900</td>\n",
       "      <td>0.337554</td>\n",
       "      <td>1.000000</td>\n",
       "      <td>-0.718191</td>\n",
       "      <td>-0.139372</td>\n",
       "      <td>0.140730</td>\n",
       "      <td>0.225234</td>\n",
       "      <td>0.312296</td>\n",
       "      <td>-0.443844</td>\n",
       "    </tr>\n",
       "    <tr>\n",
       "      <th>property_type_Departamento</th>\n",
       "      <td>-0.056573</td>\n",
       "      <td>-0.456488</td>\n",
       "      <td>-0.408634</td>\n",
       "      <td>-0.176208</td>\n",
       "      <td>-0.433501</td>\n",
       "      <td>-0.373787</td>\n",
       "      <td>-0.718191</td>\n",
       "      <td>1.000000</td>\n",
       "      <td>-0.588959</td>\n",
       "      <td>-0.079800</td>\n",
       "      <td>-0.202667</td>\n",
       "      <td>-0.244096</td>\n",
       "      <td>0.339029</td>\n",
       "    </tr>\n",
       "    <tr>\n",
       "      <th>property_type_PH</th>\n",
       "      <td>-0.047602</td>\n",
       "      <td>0.009666</td>\n",
       "      <td>0.055482</td>\n",
       "      <td>-0.024620</td>\n",
       "      <td>0.123420</td>\n",
       "      <td>0.139887</td>\n",
       "      <td>-0.139372</td>\n",
       "      <td>-0.588959</td>\n",
       "      <td>1.000000</td>\n",
       "      <td>-0.049884</td>\n",
       "      <td>0.026822</td>\n",
       "      <td>-0.015338</td>\n",
       "      <td>0.033022</td>\n",
       "    </tr>\n",
       "    <tr>\n",
       "      <th>l2_Bs.As. G.B.A. Zona Norte</th>\n",
       "      <td>0.037029</td>\n",
       "      <td>0.182907</td>\n",
       "      <td>0.109291</td>\n",
       "      <td>0.112822</td>\n",
       "      <td>0.046003</td>\n",
       "      <td>0.047093</td>\n",
       "      <td>0.140730</td>\n",
       "      <td>-0.079800</td>\n",
       "      <td>-0.049884</td>\n",
       "      <td>1.000000</td>\n",
       "      <td>-0.136036</td>\n",
       "      <td>-0.157317</td>\n",
       "      <td>-0.591765</td>\n",
       "    </tr>\n",
       "    <tr>\n",
       "      <th>l2_Bs.As. G.B.A. Zona Oeste</th>\n",
       "      <td>-0.135380</td>\n",
       "      <td>0.076360</td>\n",
       "      <td>0.048689</td>\n",
       "      <td>-0.031528</td>\n",
       "      <td>0.040173</td>\n",
       "      <td>0.050374</td>\n",
       "      <td>0.225234</td>\n",
       "      <td>-0.202667</td>\n",
       "      <td>0.026822</td>\n",
       "      <td>-0.136036</td>\n",
       "      <td>1.000000</td>\n",
       "      <td>-0.107819</td>\n",
       "      <td>-0.405570</td>\n",
       "    </tr>\n",
       "    <tr>\n",
       "      <th>l2_Bs.As. G.B.A. Zona Sur</th>\n",
       "      <td>-0.092552</td>\n",
       "      <td>0.132824</td>\n",
       "      <td>0.085209</td>\n",
       "      <td>-0.003350</td>\n",
       "      <td>0.111896</td>\n",
       "      <td>-0.029451</td>\n",
       "      <td>0.312296</td>\n",
       "      <td>-0.244096</td>\n",
       "      <td>-0.015338</td>\n",
       "      <td>-0.157317</td>\n",
       "      <td>-0.107819</td>\n",
       "      <td>1.000000</td>\n",
       "      <td>-0.469018</td>\n",
       "    </tr>\n",
       "    <tr>\n",
       "      <th>l2_Capital Federal</th>\n",
       "      <td>0.110516</td>\n",
       "      <td>-0.272673</td>\n",
       "      <td>-0.168526</td>\n",
       "      <td>-0.066768</td>\n",
       "      <td>-0.132052</td>\n",
       "      <td>-0.046469</td>\n",
       "      <td>-0.443844</td>\n",
       "      <td>0.339029</td>\n",
       "      <td>0.033022</td>\n",
       "      <td>-0.591765</td>\n",
       "      <td>-0.405570</td>\n",
       "      <td>-0.469018</td>\n",
       "      <td>1.000000</td>\n",
       "    </tr>\n",
       "  </tbody>\n",
       "</table>\n",
       "</div>"
      ],
      "text/plain": [
       "                                price  surface_total_R  surface_covered_R  \\\n",
       "price                        1.000000         0.311441           0.544441   \n",
       "surface_total_R              0.311441         1.000000           0.696821   \n",
       "surface_covered_R            0.544441         0.696821           1.000000   \n",
       "bathrooms_R                  0.637059         0.371048           0.530921   \n",
       "rooms_R                      0.526375         0.487405           0.653887   \n",
       "bedrooms_R                   0.492754         0.446997           0.617738   \n",
       "property_type_Casa           0.110305         0.551010           0.452926   \n",
       "property_type_Departamento  -0.056573        -0.456488          -0.408634   \n",
       "property_type_PH            -0.047602         0.009666           0.055482   \n",
       "l2_Bs.As. G.B.A. Zona Norte  0.037029         0.182907           0.109291   \n",
       "l2_Bs.As. G.B.A. Zona Oeste -0.135380         0.076360           0.048689   \n",
       "l2_Bs.As. G.B.A. Zona Sur   -0.092552         0.132824           0.085209   \n",
       "l2_Capital Federal           0.110516        -0.272673          -0.168526   \n",
       "\n",
       "                             bathrooms_R   rooms_R  bedrooms_R  \\\n",
       "price                           0.637059  0.526375    0.492754   \n",
       "surface_total_R                 0.371048  0.487405    0.446997   \n",
       "surface_covered_R               0.530921  0.653887    0.617738   \n",
       "bathrooms_R                     1.000000  0.585076    0.557310   \n",
       "rooms_R                         0.585076  1.000000    0.867432   \n",
       "bedrooms_R                      0.557310  0.867432    1.000000   \n",
       "property_type_Casa              0.237105  0.424900    0.337554   \n",
       "property_type_Departamento     -0.176208 -0.433501   -0.373787   \n",
       "property_type_PH               -0.024620  0.123420    0.139887   \n",
       "l2_Bs.As. G.B.A. Zona Norte     0.112822  0.046003    0.047093   \n",
       "l2_Bs.As. G.B.A. Zona Oeste    -0.031528  0.040173    0.050374   \n",
       "l2_Bs.As. G.B.A. Zona Sur      -0.003350  0.111896   -0.029451   \n",
       "l2_Capital Federal             -0.066768 -0.132052   -0.046469   \n",
       "\n",
       "                             property_type_Casa  property_type_Departamento  \\\n",
       "price                                  0.110305                   -0.056573   \n",
       "surface_total_R                        0.551010                   -0.456488   \n",
       "surface_covered_R                      0.452926                   -0.408634   \n",
       "bathrooms_R                            0.237105                   -0.176208   \n",
       "rooms_R                                0.424900                   -0.433501   \n",
       "bedrooms_R                             0.337554                   -0.373787   \n",
       "property_type_Casa                     1.000000                   -0.718191   \n",
       "property_type_Departamento            -0.718191                    1.000000   \n",
       "property_type_PH                      -0.139372                   -0.588959   \n",
       "l2_Bs.As. G.B.A. Zona Norte            0.140730                   -0.079800   \n",
       "l2_Bs.As. G.B.A. Zona Oeste            0.225234                   -0.202667   \n",
       "l2_Bs.As. G.B.A. Zona Sur              0.312296                   -0.244096   \n",
       "l2_Capital Federal                    -0.443844                    0.339029   \n",
       "\n",
       "                             property_type_PH  l2_Bs.As. G.B.A. Zona Norte  \\\n",
       "price                               -0.047602                     0.037029   \n",
       "surface_total_R                      0.009666                     0.182907   \n",
       "surface_covered_R                    0.055482                     0.109291   \n",
       "bathrooms_R                         -0.024620                     0.112822   \n",
       "rooms_R                              0.123420                     0.046003   \n",
       "bedrooms_R                           0.139887                     0.047093   \n",
       "property_type_Casa                  -0.139372                     0.140730   \n",
       "property_type_Departamento          -0.588959                    -0.079800   \n",
       "property_type_PH                     1.000000                    -0.049884   \n",
       "l2_Bs.As. G.B.A. Zona Norte         -0.049884                     1.000000   \n",
       "l2_Bs.As. G.B.A. Zona Oeste          0.026822                    -0.136036   \n",
       "l2_Bs.As. G.B.A. Zona Sur           -0.015338                    -0.157317   \n",
       "l2_Capital Federal                   0.033022                    -0.591765   \n",
       "\n",
       "                             l2_Bs.As. G.B.A. Zona Oeste  \\\n",
       "price                                          -0.135380   \n",
       "surface_total_R                                 0.076360   \n",
       "surface_covered_R                               0.048689   \n",
       "bathrooms_R                                    -0.031528   \n",
       "rooms_R                                         0.040173   \n",
       "bedrooms_R                                      0.050374   \n",
       "property_type_Casa                              0.225234   \n",
       "property_type_Departamento                     -0.202667   \n",
       "property_type_PH                                0.026822   \n",
       "l2_Bs.As. G.B.A. Zona Norte                    -0.136036   \n",
       "l2_Bs.As. G.B.A. Zona Oeste                     1.000000   \n",
       "l2_Bs.As. G.B.A. Zona Sur                      -0.107819   \n",
       "l2_Capital Federal                             -0.405570   \n",
       "\n",
       "                             l2_Bs.As. G.B.A. Zona Sur  l2_Capital Federal  \n",
       "price                                        -0.092552            0.110516  \n",
       "surface_total_R                               0.132824           -0.272673  \n",
       "surface_covered_R                             0.085209           -0.168526  \n",
       "bathrooms_R                                  -0.003350           -0.066768  \n",
       "rooms_R                                       0.111896           -0.132052  \n",
       "bedrooms_R                                   -0.029451           -0.046469  \n",
       "property_type_Casa                            0.312296           -0.443844  \n",
       "property_type_Departamento                   -0.244096            0.339029  \n",
       "property_type_PH                             -0.015338            0.033022  \n",
       "l2_Bs.As. G.B.A. Zona Norte                  -0.157317           -0.591765  \n",
       "l2_Bs.As. G.B.A. Zona Oeste                  -0.107819           -0.405570  \n",
       "l2_Bs.As. G.B.A. Zona Sur                     1.000000           -0.469018  \n",
       "l2_Capital Federal                           -0.469018            1.000000  "
      ]
     },
     "execution_count": 85,
     "metadata": {},
     "output_type": "execute_result"
    }
   ],
   "source": [
    "df.corr()"
   ]
  },
  {
   "cell_type": "markdown",
   "metadata": {},
   "source": [
    "### Create benchmarks"
   ]
  },
  {
   "cell_type": "code",
   "execution_count": 87,
   "metadata": {},
   "outputs": [],
   "source": [
    "X = df.drop(['price'], axis = 1) \n",
    "y = df['price'] "
   ]
  },
  {
   "cell_type": "code",
   "execution_count": 88,
   "metadata": {},
   "outputs": [],
   "source": [
    "from sklearn.model_selection import train_test_split\n",
    "trainSize = 0.7\n",
    "\n",
    "X_train, X_test, y_train, y_test = train_test_split(X, y, random_state=0,\n",
    "                                  train_size=trainSize)"
   ]
  },
  {
   "cell_type": "code",
   "execution_count": 90,
   "metadata": {},
   "outputs": [
    {
     "name": "stdout",
     "output_type": "stream",
     "text": [
      "Mean squared error TRAIN: 102202.57899474993\n",
      "Mean squered error TEST: 102108.6539512681\n"
     ]
    }
   ],
   "source": [
    "#Linear Regression\n",
    "from sklearn.linear_model import LinearRegression\n",
    "lin_reg = LinearRegression()\n",
    "\n",
    "lin_reg.fit(X_train, y_train) \n",
    "\n",
    "y_train_pred = lin_reg.predict(X_train) #Predict train\n",
    "y_test_pred = lin_reg.predict(X_test) #Predict test\n",
    "\n",
    "from sklearn.metrics import mean_squared_error\n",
    "reg_lineal_rmse_train = np.sqrt(mean_squared_error(y_train, y_train_pred))\n",
    "reg_lineal_rmse_test = np.sqrt(mean_squared_error(y_test, y_test_pred))\n",
    "print(f'Mean squared error TRAIN: {reg_lineal_rmse_train}')  #Train error\n",
    "print(f'Mean squered error TEST: {reg_lineal_rmse_test}')   #Test error\n",
    "#MSE and RMSE are more sensitive to outliers so we choose them\n"
   ]
  },
  {
   "cell_type": "code",
   "execution_count": 91,
   "metadata": {},
   "outputs": [
    {
     "name": "stdout",
     "output_type": "stream",
     "text": [
      "Mean squared error TRAIN: 63785.20428875642\n",
      "Mean squared error TEST: 79553.43661686665\n"
     ]
    }
   ],
   "source": [
    "#KNN\n",
    "from sklearn.neighbors import KNeighborsRegressor \n",
    "from sklearn.metrics import mean_squared_error\n",
    "from math import sqrt\n",
    "\n",
    "knn_final_model = KNeighborsRegressor(n_neighbors=3) #Create\n",
    "knn_final_model.fit(X_train, y_train) #Train\n",
    "#Predict\n",
    "y_train_pred = knn_final_model.predict(X_train)\n",
    "y_test_pred = knn_final_model.predict(X_test)\n",
    "\n",
    "\n",
    "rmse_train = sqrt(mean_squared_error(y_train, y_train_pred))\n",
    "rmse_test = sqrt(mean_squared_error(y_test, y_test_pred))\n",
    "\n",
    "print(f'Mean squared error TRAIN: {rmse_train}')\n",
    "print(f'Mean squared error TEST: {rmse_test}')\n",
    "\n"
   ]
  },
  {
   "cell_type": "code",
   "execution_count": 92,
   "metadata": {},
   "outputs": [
    {
     "name": "stdout",
     "output_type": "stream",
     "text": [
      "Mean squared error TRAIN: 71843.39881711052\n",
      "Mean squared error TEST: 80595.17383197996\n"
     ]
    }
   ],
   "source": [
    "#Decision Tree Regressor\n",
    "from sklearn.tree import DecisionTreeRegressor\n",
    "\n",
    "tree_final_model = DecisionTreeRegressor(random_state=0, max_depth = 12)\n",
    "#Train/Test\n",
    "X_train, X_test, y_train, y_test = train_test_split(X, y, random_state = 0, train_size = 0.8)\n",
    "#Fit\n",
    "tree_final_model.fit(X_train, y_train)\n",
    "#Predict\n",
    "y_train_pred = tree_final_model.predict(X_train)\n",
    "y_test_pred = tree_final_model.predict(X_test)\n",
    "\n",
    "\n",
    "rmse_train = sqrt(mean_squared_error(y_train, y_train_pred))\n",
    "rmse_test = sqrt(mean_squared_error(y_test, y_test_pred))\n",
    "print(f'Mean squared error TRAIN: {rmse_train}')\n",
    "print(f'Mean squared error TEST: {rmse_test}')\n"
   ]
  },
  {
   "cell_type": "markdown",
   "metadata": {},
   "source": [
    "##### We are satisfied with the results achived.\n",
    "\n",
    "##### We'll try to use more complex models in order to reach better numbers "
   ]
  },
  {
   "cell_type": "markdown",
   "metadata": {},
   "source": [
    "## Part B"
   ]
  },
  {
   "cell_type": "markdown",
   "metadata": {},
   "source": [
    "We'll choose two advanced models.\n",
    "\n",
    "One boosting model and one bagging (both ensemble methods)\n",
    "\n",
    "Ensemble methods are based on the hypothesis that combining multiple models together can ofter produce a much more powerful model. Ensemble learning is a machine learning paradigm where multiple models (often called \"weak learners\") are trained to solve the same problem and combined to get better results. The main hypotesis is that when weak models are correctly combined we can obtain more accurate and robust models. \n",
    "\n",
    "\n",
    "Anyways...\n",
    "\n",
    "Boosting learns the weak learners sequentially in a very adaptative way (a base model depends on the previous ones) and combines them following a deterministic strategy.\n",
    "\n",
    "Bagging learns them independetly from each other in parallel and combines them following some kind of deterministic strategy.\n",
    "\n",
    "\n",
    "We'll train this models with the defaut parameters and then we'll try to optimize the parameters\n",
    "\n",
    "\n",
    "##### Boosting \n",
    "To start, we'll do an Adaboost model to get and idea about model's behavior. This model doesn't have many hiperparameters.\n",
    "Then, we'll try with XGBoost because this model has great accuracy, is flexible and fundamentally, what interests us most, works well in the regression.\n",
    "\n",
    "##### Bagging \n",
    "We'll create a Ramdom Forest because this is a good model to have as a reference, is efficient and effective on large datasets \n"
   ]
  },
  {
   "cell_type": "code",
   "execution_count": 102,
   "metadata": {},
   "outputs": [],
   "source": [
    "from sklearn.ensemble import RandomForestRegressor\n",
    "#import numpy as np\n",
    "#import pandas as pd\n",
    "import scipy as sp\n",
    "\n",
    "#import matplotlib.pyplot as plt\n",
    "#import seaborn as sns\n",
    "#sns.set()\n",
    "\n",
    "#from sklearn.model_selection import train_test_split\n",
    "from sklearn.model_selection import cross_val_score\n",
    "from sklearn.model_selection import cross_validate\n",
    "\n",
    "from sklearn.tree import DecisionTreeRegressor\n",
    "from sklearn.neighbors import KNeighborsRegressor\n",
    "\n",
    "import sklearn.metrics as metrics\n",
    "\n",
    "from sklearn.model_selection import learning_curve\n",
    "from sklearn.ensemble import GradientBoostingRegressor\n",
    "from sklearn.model_selection import RandomizedSearchCV\n",
    "from sklearn.neighbors import KNeighborsClassifier\n",
    "from sklearn.model_selection import GridSearchCV\n",
    "from sklearn.linear_model import LinearRegression\n",
    "from sklearn.model_selection import KFold\n",
    "from sklearn.linear_model import Lasso"
   ]
  },
  {
   "cell_type": "code",
   "execution_count": 93,
   "metadata": {},
   "outputs": [],
   "source": [
    "X = df.drop(['price'], axis=1)\n",
    "y = df['price']\n",
    "\n",
    "# Separamos los datos en train y test (held-out) - Utilice un 30% del dataset como test\n",
    "X_train, X_test, y_train, y_test = train_test_split(X, y, test_size=0.3, random_state=42)"
   ]
  },
  {
   "cell_type": "code",
   "execution_count": 94,
   "metadata": {},
   "outputs": [
    {
     "name": "stdout",
     "output_type": "stream",
     "text": [
      "Mean squared error TRAIN: 121208.78863453431\n",
      "Mean squared error TEST: 120707.64621841747\n"
     ]
    }
   ],
   "source": [
    "#Boosting\n",
    "\n",
    "from sklearn.ensemble import AdaBoostRegressor\n",
    "from sklearn.tree import DecisionTreeRegressor\n",
    "\n",
    "ada_clf = AdaBoostRegressor(DecisionTreeRegressor(max_depth=2), n_estimators=250)\n",
    "#Train the model\n",
    "ada_clf.fit(X_train, y_train)\n",
    "\n",
    "y_train_pred = ada_clf.predict(X_train)\n",
    "y_test_pred = ada_clf.predict(X_test)\n",
    "\n",
    "rmse_train = sqrt(mean_squared_error(y_train, y_train_pred))\n",
    "rmse_test = sqrt(mean_squared_error(y_test, y_test_pred))\n",
    "\n",
    "print(f'Mean squared error TRAIN: {rmse_train}')\n",
    "print(f'Mean squared error TEST: {rmse_test}')\n",
    "\n"
   ]
  },
  {
   "cell_type": "code",
   "execution_count": 95,
   "metadata": {},
   "outputs": [
    {
     "data": {
      "text/plain": [
       "\"\\nHuge errors with this model. We can't work with the hyperparameters so we'll try different models\\n\""
      ]
     },
     "execution_count": 95,
     "metadata": {},
     "output_type": "execute_result"
    }
   ],
   "source": [
    "'''\n",
    "Huge errors with this model. We can't work with the hyperparameters so we'll try different models\n",
    "'''"
   ]
  },
  {
   "cell_type": "code",
   "execution_count": 98,
   "metadata": {},
   "outputs": [],
   "source": [
    "model_1_base = GradientBoostingRegressor() "
   ]
  },
  {
   "cell_type": "code",
   "execution_count": 99,
   "metadata": {},
   "outputs": [
    {
     "data": {
      "text/plain": [
       "GradientBoostingRegressor()"
      ]
     },
     "execution_count": 99,
     "metadata": {},
     "output_type": "execute_result"
    }
   ],
   "source": [
    "model_1_base.fit(X_train, y_train)"
   ]
  },
  {
   "cell_type": "code",
   "execution_count": 100,
   "metadata": {},
   "outputs": [
    {
     "name": "stdout",
     "output_type": "stream",
     "text": [
      "Mean squared error TEST: 85530.19317509176\n",
      "Mean squared error TRAIN: 84291.82177045109\n"
     ]
    }
   ],
   "source": [
    "#Predict \n",
    "prediction_model_1_base_test = model_1_base.predict(X_test)\n",
    "prediction_model_1_base_train = model_1_base.predict(X_train)\n",
    "\n",
    "#Evaluate\n",
    "\n",
    "rmse_test_1_base = sqrt(mean_squared_error(y_test, prediction_model_1_base_test))\n",
    "rmse_train_1_base = sqrt(mean_squared_error(y_train, prediction_model_1_base_train))\n",
    "print(f'Mean squared error TEST: {rmse_test_1_base}')\n",
    "print(f'Mean squared error TRAIN: {rmse_train_1_base}')"
   ]
  },
  {
   "cell_type": "code",
   "execution_count": 103,
   "metadata": {},
   "outputs": [],
   "source": [
    "#Optimaze the hiperparameters\n",
    "\n",
    "model_1 = GradientBoostingRegressor(n_estimators=100) #Create the tree\n",
    "\n",
    "#RANDOM SEARCH \n",
    "param_dist = {'max_depth':sp.stats.randint(1, 30), \n",
    "              'min_samples_split':sp.stats.randint(1, 5),\n",
    "              'min_samples_leaf':sp.stats.randint(1, 5)}\n",
    "\n"
   ]
  },
  {
   "cell_type": "code",
   "execution_count": 48,
   "metadata": {
    "collapsed": true,
    "jupyter": {
     "outputs_hidden": true
    }
   },
   "outputs": [
    {
     "name": "stderr",
     "output_type": "stream",
     "text": [
      "C:\\Users\\Usuario\\miniconda3\\envs\\datascience\\lib\\site-packages\\sklearn\\model_selection\\_validation.py:548: FitFailedWarning: Estimator fit failed. The score on this train-test partition for these parameters will be set to nan. Details: \n",
      "Traceback (most recent call last):\n",
      "  File \"C:\\Users\\Usuario\\miniconda3\\envs\\datascience\\lib\\site-packages\\sklearn\\model_selection\\_validation.py\", line 531, in _fit_and_score\n",
      "    estimator.fit(X_train, y_train, **fit_params)\n",
      "  File \"C:\\Users\\Usuario\\miniconda3\\envs\\datascience\\lib\\site-packages\\sklearn\\ensemble\\_gb.py\", line 498, in fit\n",
      "    n_stages = self._fit_stages(\n",
      "  File \"C:\\Users\\Usuario\\miniconda3\\envs\\datascience\\lib\\site-packages\\sklearn\\ensemble\\_gb.py\", line 555, in _fit_stages\n",
      "    raw_predictions = self._fit_stage(\n",
      "  File \"C:\\Users\\Usuario\\miniconda3\\envs\\datascience\\lib\\site-packages\\sklearn\\ensemble\\_gb.py\", line 211, in _fit_stage\n",
      "    tree.fit(X, residual, sample_weight=sample_weight,\n",
      "  File \"C:\\Users\\Usuario\\miniconda3\\envs\\datascience\\lib\\site-packages\\sklearn\\tree\\_classes.py\", line 1242, in fit\n",
      "    super().fit(\n",
      "  File \"C:\\Users\\Usuario\\miniconda3\\envs\\datascience\\lib\\site-packages\\sklearn\\tree\\_classes.py\", line 228, in fit\n",
      "    raise ValueError(\"min_samples_split must be an integer \"\n",
      "ValueError: min_samples_split must be an integer greater than 1 or a float in (0.0, 1.0]; got the integer 1\n",
      "\n",
      "  warnings.warn(\"Estimator fit failed. The score on this train-test\"\n",
      "C:\\Users\\Usuario\\miniconda3\\envs\\datascience\\lib\\site-packages\\sklearn\\model_selection\\_validation.py:548: FitFailedWarning: Estimator fit failed. The score on this train-test partition for these parameters will be set to nan. Details: \n",
      "Traceback (most recent call last):\n",
      "  File \"C:\\Users\\Usuario\\miniconda3\\envs\\datascience\\lib\\site-packages\\sklearn\\model_selection\\_validation.py\", line 531, in _fit_and_score\n",
      "    estimator.fit(X_train, y_train, **fit_params)\n",
      "  File \"C:\\Users\\Usuario\\miniconda3\\envs\\datascience\\lib\\site-packages\\sklearn\\ensemble\\_gb.py\", line 498, in fit\n",
      "    n_stages = self._fit_stages(\n",
      "  File \"C:\\Users\\Usuario\\miniconda3\\envs\\datascience\\lib\\site-packages\\sklearn\\ensemble\\_gb.py\", line 555, in _fit_stages\n",
      "    raw_predictions = self._fit_stage(\n",
      "  File \"C:\\Users\\Usuario\\miniconda3\\envs\\datascience\\lib\\site-packages\\sklearn\\ensemble\\_gb.py\", line 211, in _fit_stage\n",
      "    tree.fit(X, residual, sample_weight=sample_weight,\n",
      "  File \"C:\\Users\\Usuario\\miniconda3\\envs\\datascience\\lib\\site-packages\\sklearn\\tree\\_classes.py\", line 1242, in fit\n",
      "    super().fit(\n",
      "  File \"C:\\Users\\Usuario\\miniconda3\\envs\\datascience\\lib\\site-packages\\sklearn\\tree\\_classes.py\", line 228, in fit\n",
      "    raise ValueError(\"min_samples_split must be an integer \"\n",
      "ValueError: min_samples_split must be an integer greater than 1 or a float in (0.0, 1.0]; got the integer 1\n",
      "\n",
      "  warnings.warn(\"Estimator fit failed. The score on this train-test\"\n",
      "C:\\Users\\Usuario\\miniconda3\\envs\\datascience\\lib\\site-packages\\sklearn\\model_selection\\_validation.py:548: FitFailedWarning: Estimator fit failed. The score on this train-test partition for these parameters will be set to nan. Details: \n",
      "Traceback (most recent call last):\n",
      "  File \"C:\\Users\\Usuario\\miniconda3\\envs\\datascience\\lib\\site-packages\\sklearn\\model_selection\\_validation.py\", line 531, in _fit_and_score\n",
      "    estimator.fit(X_train, y_train, **fit_params)\n",
      "  File \"C:\\Users\\Usuario\\miniconda3\\envs\\datascience\\lib\\site-packages\\sklearn\\ensemble\\_gb.py\", line 498, in fit\n",
      "    n_stages = self._fit_stages(\n",
      "  File \"C:\\Users\\Usuario\\miniconda3\\envs\\datascience\\lib\\site-packages\\sklearn\\ensemble\\_gb.py\", line 555, in _fit_stages\n",
      "    raw_predictions = self._fit_stage(\n",
      "  File \"C:\\Users\\Usuario\\miniconda3\\envs\\datascience\\lib\\site-packages\\sklearn\\ensemble\\_gb.py\", line 211, in _fit_stage\n",
      "    tree.fit(X, residual, sample_weight=sample_weight,\n",
      "  File \"C:\\Users\\Usuario\\miniconda3\\envs\\datascience\\lib\\site-packages\\sklearn\\tree\\_classes.py\", line 1242, in fit\n",
      "    super().fit(\n",
      "  File \"C:\\Users\\Usuario\\miniconda3\\envs\\datascience\\lib\\site-packages\\sklearn\\tree\\_classes.py\", line 228, in fit\n",
      "    raise ValueError(\"min_samples_split must be an integer \"\n",
      "ValueError: min_samples_split must be an integer greater than 1 or a float in (0.0, 1.0]; got the integer 1\n",
      "\n",
      "  warnings.warn(\"Estimator fit failed. The score on this train-test\"\n",
      "C:\\Users\\Usuario\\miniconda3\\envs\\datascience\\lib\\site-packages\\sklearn\\model_selection\\_validation.py:548: FitFailedWarning: Estimator fit failed. The score on this train-test partition for these parameters will be set to nan. Details: \n",
      "Traceback (most recent call last):\n",
      "  File \"C:\\Users\\Usuario\\miniconda3\\envs\\datascience\\lib\\site-packages\\sklearn\\model_selection\\_validation.py\", line 531, in _fit_and_score\n",
      "    estimator.fit(X_train, y_train, **fit_params)\n",
      "  File \"C:\\Users\\Usuario\\miniconda3\\envs\\datascience\\lib\\site-packages\\sklearn\\ensemble\\_gb.py\", line 498, in fit\n",
      "    n_stages = self._fit_stages(\n",
      "  File \"C:\\Users\\Usuario\\miniconda3\\envs\\datascience\\lib\\site-packages\\sklearn\\ensemble\\_gb.py\", line 555, in _fit_stages\n",
      "    raw_predictions = self._fit_stage(\n",
      "  File \"C:\\Users\\Usuario\\miniconda3\\envs\\datascience\\lib\\site-packages\\sklearn\\ensemble\\_gb.py\", line 211, in _fit_stage\n",
      "    tree.fit(X, residual, sample_weight=sample_weight,\n",
      "  File \"C:\\Users\\Usuario\\miniconda3\\envs\\datascience\\lib\\site-packages\\sklearn\\tree\\_classes.py\", line 1242, in fit\n",
      "    super().fit(\n",
      "  File \"C:\\Users\\Usuario\\miniconda3\\envs\\datascience\\lib\\site-packages\\sklearn\\tree\\_classes.py\", line 228, in fit\n",
      "    raise ValueError(\"min_samples_split must be an integer \"\n",
      "ValueError: min_samples_split must be an integer greater than 1 or a float in (0.0, 1.0]; got the integer 1\n",
      "\n",
      "  warnings.warn(\"Estimator fit failed. The score on this train-test\"\n",
      "C:\\Users\\Usuario\\miniconda3\\envs\\datascience\\lib\\site-packages\\sklearn\\model_selection\\_validation.py:548: FitFailedWarning: Estimator fit failed. The score on this train-test partition for these parameters will be set to nan. Details: \n",
      "Traceback (most recent call last):\n",
      "  File \"C:\\Users\\Usuario\\miniconda3\\envs\\datascience\\lib\\site-packages\\sklearn\\model_selection\\_validation.py\", line 531, in _fit_and_score\n",
      "    estimator.fit(X_train, y_train, **fit_params)\n",
      "  File \"C:\\Users\\Usuario\\miniconda3\\envs\\datascience\\lib\\site-packages\\sklearn\\ensemble\\_gb.py\", line 498, in fit\n",
      "    n_stages = self._fit_stages(\n",
      "  File \"C:\\Users\\Usuario\\miniconda3\\envs\\datascience\\lib\\site-packages\\sklearn\\ensemble\\_gb.py\", line 555, in _fit_stages\n",
      "    raw_predictions = self._fit_stage(\n",
      "  File \"C:\\Users\\Usuario\\miniconda3\\envs\\datascience\\lib\\site-packages\\sklearn\\ensemble\\_gb.py\", line 211, in _fit_stage\n",
      "    tree.fit(X, residual, sample_weight=sample_weight,\n",
      "  File \"C:\\Users\\Usuario\\miniconda3\\envs\\datascience\\lib\\site-packages\\sklearn\\tree\\_classes.py\", line 1242, in fit\n",
      "    super().fit(\n",
      "  File \"C:\\Users\\Usuario\\miniconda3\\envs\\datascience\\lib\\site-packages\\sklearn\\tree\\_classes.py\", line 228, in fit\n",
      "    raise ValueError(\"min_samples_split must be an integer \"\n",
      "ValueError: min_samples_split must be an integer greater than 1 or a float in (0.0, 1.0]; got the integer 1\n",
      "\n",
      "  warnings.warn(\"Estimator fit failed. The score on this train-test\"\n",
      "C:\\Users\\Usuario\\miniconda3\\envs\\datascience\\lib\\site-packages\\sklearn\\model_selection\\_validation.py:548: FitFailedWarning: Estimator fit failed. The score on this train-test partition for these parameters will be set to nan. Details: \n",
      "Traceback (most recent call last):\n",
      "  File \"C:\\Users\\Usuario\\miniconda3\\envs\\datascience\\lib\\site-packages\\sklearn\\model_selection\\_validation.py\", line 531, in _fit_and_score\n",
      "    estimator.fit(X_train, y_train, **fit_params)\n",
      "  File \"C:\\Users\\Usuario\\miniconda3\\envs\\datascience\\lib\\site-packages\\sklearn\\ensemble\\_gb.py\", line 498, in fit\n",
      "    n_stages = self._fit_stages(\n",
      "  File \"C:\\Users\\Usuario\\miniconda3\\envs\\datascience\\lib\\site-packages\\sklearn\\ensemble\\_gb.py\", line 555, in _fit_stages\n",
      "    raw_predictions = self._fit_stage(\n",
      "  File \"C:\\Users\\Usuario\\miniconda3\\envs\\datascience\\lib\\site-packages\\sklearn\\ensemble\\_gb.py\", line 211, in _fit_stage\n",
      "    tree.fit(X, residual, sample_weight=sample_weight,\n",
      "  File \"C:\\Users\\Usuario\\miniconda3\\envs\\datascience\\lib\\site-packages\\sklearn\\tree\\_classes.py\", line 1242, in fit\n",
      "    super().fit(\n",
      "  File \"C:\\Users\\Usuario\\miniconda3\\envs\\datascience\\lib\\site-packages\\sklearn\\tree\\_classes.py\", line 228, in fit\n",
      "    raise ValueError(\"min_samples_split must be an integer \"\n",
      "ValueError: min_samples_split must be an integer greater than 1 or a float in (0.0, 1.0]; got the integer 1\n",
      "\n",
      "  warnings.warn(\"Estimator fit failed. The score on this train-test\"\n",
      "C:\\Users\\Usuario\\miniconda3\\envs\\datascience\\lib\\site-packages\\sklearn\\model_selection\\_validation.py:548: FitFailedWarning: Estimator fit failed. The score on this train-test partition for these parameters will be set to nan. Details: \n",
      "Traceback (most recent call last):\n",
      "  File \"C:\\Users\\Usuario\\miniconda3\\envs\\datascience\\lib\\site-packages\\sklearn\\model_selection\\_validation.py\", line 531, in _fit_and_score\n",
      "    estimator.fit(X_train, y_train, **fit_params)\n",
      "  File \"C:\\Users\\Usuario\\miniconda3\\envs\\datascience\\lib\\site-packages\\sklearn\\ensemble\\_gb.py\", line 498, in fit\n",
      "    n_stages = self._fit_stages(\n",
      "  File \"C:\\Users\\Usuario\\miniconda3\\envs\\datascience\\lib\\site-packages\\sklearn\\ensemble\\_gb.py\", line 555, in _fit_stages\n",
      "    raw_predictions = self._fit_stage(\n",
      "  File \"C:\\Users\\Usuario\\miniconda3\\envs\\datascience\\lib\\site-packages\\sklearn\\ensemble\\_gb.py\", line 211, in _fit_stage\n",
      "    tree.fit(X, residual, sample_weight=sample_weight,\n",
      "  File \"C:\\Users\\Usuario\\miniconda3\\envs\\datascience\\lib\\site-packages\\sklearn\\tree\\_classes.py\", line 1242, in fit\n",
      "    super().fit(\n",
      "  File \"C:\\Users\\Usuario\\miniconda3\\envs\\datascience\\lib\\site-packages\\sklearn\\tree\\_classes.py\", line 228, in fit\n",
      "    raise ValueError(\"min_samples_split must be an integer \"\n",
      "ValueError: min_samples_split must be an integer greater than 1 or a float in (0.0, 1.0]; got the integer 1\n",
      "\n",
      "  warnings.warn(\"Estimator fit failed. The score on this train-test\"\n",
      "C:\\Users\\Usuario\\miniconda3\\envs\\datascience\\lib\\site-packages\\sklearn\\model_selection\\_validation.py:548: FitFailedWarning: Estimator fit failed. The score on this train-test partition for these parameters will be set to nan. Details: \n",
      "Traceback (most recent call last):\n",
      "  File \"C:\\Users\\Usuario\\miniconda3\\envs\\datascience\\lib\\site-packages\\sklearn\\model_selection\\_validation.py\", line 531, in _fit_and_score\n",
      "    estimator.fit(X_train, y_train, **fit_params)\n",
      "  File \"C:\\Users\\Usuario\\miniconda3\\envs\\datascience\\lib\\site-packages\\sklearn\\ensemble\\_gb.py\", line 498, in fit\n",
      "    n_stages = self._fit_stages(\n",
      "  File \"C:\\Users\\Usuario\\miniconda3\\envs\\datascience\\lib\\site-packages\\sklearn\\ensemble\\_gb.py\", line 555, in _fit_stages\n",
      "    raw_predictions = self._fit_stage(\n",
      "  File \"C:\\Users\\Usuario\\miniconda3\\envs\\datascience\\lib\\site-packages\\sklearn\\ensemble\\_gb.py\", line 211, in _fit_stage\n",
      "    tree.fit(X, residual, sample_weight=sample_weight,\n",
      "  File \"C:\\Users\\Usuario\\miniconda3\\envs\\datascience\\lib\\site-packages\\sklearn\\tree\\_classes.py\", line 1242, in fit\n",
      "    super().fit(\n",
      "  File \"C:\\Users\\Usuario\\miniconda3\\envs\\datascience\\lib\\site-packages\\sklearn\\tree\\_classes.py\", line 228, in fit\n",
      "    raise ValueError(\"min_samples_split must be an integer \"\n",
      "ValueError: min_samples_split must be an integer greater than 1 or a float in (0.0, 1.0]; got the integer 1\n",
      "\n",
      "  warnings.warn(\"Estimator fit failed. The score on this train-test\"\n",
      "C:\\Users\\Usuario\\miniconda3\\envs\\datascience\\lib\\site-packages\\sklearn\\model_selection\\_validation.py:548: FitFailedWarning: Estimator fit failed. The score on this train-test partition for these parameters will be set to nan. Details: \n",
      "Traceback (most recent call last):\n",
      "  File \"C:\\Users\\Usuario\\miniconda3\\envs\\datascience\\lib\\site-packages\\sklearn\\model_selection\\_validation.py\", line 531, in _fit_and_score\n",
      "    estimator.fit(X_train, y_train, **fit_params)\n",
      "  File \"C:\\Users\\Usuario\\miniconda3\\envs\\datascience\\lib\\site-packages\\sklearn\\ensemble\\_gb.py\", line 498, in fit\n",
      "    n_stages = self._fit_stages(\n",
      "  File \"C:\\Users\\Usuario\\miniconda3\\envs\\datascience\\lib\\site-packages\\sklearn\\ensemble\\_gb.py\", line 555, in _fit_stages\n",
      "    raw_predictions = self._fit_stage(\n",
      "  File \"C:\\Users\\Usuario\\miniconda3\\envs\\datascience\\lib\\site-packages\\sklearn\\ensemble\\_gb.py\", line 211, in _fit_stage\n",
      "    tree.fit(X, residual, sample_weight=sample_weight,\n",
      "  File \"C:\\Users\\Usuario\\miniconda3\\envs\\datascience\\lib\\site-packages\\sklearn\\tree\\_classes.py\", line 1242, in fit\n",
      "    super().fit(\n",
      "  File \"C:\\Users\\Usuario\\miniconda3\\envs\\datascience\\lib\\site-packages\\sklearn\\tree\\_classes.py\", line 228, in fit\n",
      "    raise ValueError(\"min_samples_split must be an integer \"\n",
      "ValueError: min_samples_split must be an integer greater than 1 or a float in (0.0, 1.0]; got the integer 1\n",
      "\n",
      "  warnings.warn(\"Estimator fit failed. The score on this train-test\"\n",
      "C:\\Users\\Usuario\\miniconda3\\envs\\datascience\\lib\\site-packages\\sklearn\\model_selection\\_validation.py:548: FitFailedWarning: Estimator fit failed. The score on this train-test partition for these parameters will be set to nan. Details: \n",
      "Traceback (most recent call last):\n",
      "  File \"C:\\Users\\Usuario\\miniconda3\\envs\\datascience\\lib\\site-packages\\sklearn\\model_selection\\_validation.py\", line 531, in _fit_and_score\n",
      "    estimator.fit(X_train, y_train, **fit_params)\n",
      "  File \"C:\\Users\\Usuario\\miniconda3\\envs\\datascience\\lib\\site-packages\\sklearn\\ensemble\\_gb.py\", line 498, in fit\n",
      "    n_stages = self._fit_stages(\n",
      "  File \"C:\\Users\\Usuario\\miniconda3\\envs\\datascience\\lib\\site-packages\\sklearn\\ensemble\\_gb.py\", line 555, in _fit_stages\n",
      "    raw_predictions = self._fit_stage(\n",
      "  File \"C:\\Users\\Usuario\\miniconda3\\envs\\datascience\\lib\\site-packages\\sklearn\\ensemble\\_gb.py\", line 211, in _fit_stage\n",
      "    tree.fit(X, residual, sample_weight=sample_weight,\n",
      "  File \"C:\\Users\\Usuario\\miniconda3\\envs\\datascience\\lib\\site-packages\\sklearn\\tree\\_classes.py\", line 1242, in fit\n",
      "    super().fit(\n",
      "  File \"C:\\Users\\Usuario\\miniconda3\\envs\\datascience\\lib\\site-packages\\sklearn\\tree\\_classes.py\", line 228, in fit\n",
      "    raise ValueError(\"min_samples_split must be an integer \"\n",
      "ValueError: min_samples_split must be an integer greater than 1 or a float in (0.0, 1.0]; got the integer 1\n",
      "\n",
      "  warnings.warn(\"Estimator fit failed. The score on this train-test\"\n"
     ]
    },
    {
     "name": "stdout",
     "output_type": "stream",
     "text": [
      "Wall time: 13min 54s\n"
     ]
    },
    {
     "data": {
      "text/plain": [
       "RandomizedSearchCV(cv=5, estimator=GradientBoostingRegressor(),\n",
       "                   param_distributions={'max_depth': <scipy.stats._distn_infrastructure.rv_frozen object at 0x000000292CC6A3D0>,\n",
       "                                        'min_samples_leaf': <scipy.stats._distn_infrastructure.rv_frozen object at 0x00000029286F7BE0>,\n",
       "                                        'min_samples_split': <scipy.stats._distn_infrastructure.rv_frozen object at 0x00000029293A6CA0>},\n",
       "                   random_state=0)"
      ]
     },
     "execution_count": 48,
     "metadata": {},
     "output_type": "execute_result"
    }
   ],
   "source": [
    "%%time\n",
    "# ESTRATEGIA 2: Random Search\n",
    "model1 = RandomizedSearchCV(model_1, param_dist, random_state=0, cv=5)\n",
    "\n",
    "# Entrenamos: con la grilla definida arriba y CV con tamaño de Fold=5\n",
    "model1.fit(X_train, y_train)"
   ]
  },
  {
   "cell_type": "code",
   "execution_count": 49,
   "metadata": {},
   "outputs": [
    {
     "name": "stdout",
     "output_type": "stream",
     "text": [
      "Mejores parametros: {'max_depth': 13, 'min_samples_leaf': 4, 'min_samples_split': 2}\n"
     ]
    }
   ],
   "source": [
    "print(\"Best parameters: \"+str(model1.best_params_))"
   ]
  },
  {
   "cell_type": "code",
   "execution_count": 50,
   "metadata": {},
   "outputs": [
    {
     "name": "stdout",
     "output_type": "stream",
     "text": [
      "Raíz del error cuadrático medio en Test: 72157.03869938057\n",
      "Raíz del error cuadrático medio en Train: 54390.73739944368\n"
     ]
    }
   ],
   "source": [
    "#Predict on test and train\n",
    "prediction_model_1_test = model1.predict(X_test)\n",
    "prediction_model_1_train = model1.predict(X_train)\n",
    "\n",
    "#Evaluate the prediction\n",
    "\n",
    "rmse_test_1 = sqrt(mean_squared_error(y_test, prediction_model_1_test))\n",
    "rmse_train_1 = sqrt(mean_squared_error(y_train, prediction_model_1_train))\n",
    "print(f'Mean squared error TEST: {rmse_test_1}')\n",
    "print(f'Mean squared error TRAIN: {rmse_train_1}')"
   ]
  },
  {
   "cell_type": "code",
   "execution_count": 107,
   "metadata": {},
   "outputs": [
    {
     "data": {
      "text/plain": [
       "RandomForestRegressor()"
      ]
     },
     "execution_count": 107,
     "metadata": {},
     "output_type": "execute_result"
    }
   ],
   "source": [
    "#Now bagging...\n",
    "\n",
    "model_2_base = RandomForestRegressor()\n",
    "model_2_base.fit(X_train, y_train)"
   ]
  },
  {
   "cell_type": "code",
   "execution_count": 108,
   "metadata": {},
   "outputs": [
    {
     "name": "stdout",
     "output_type": "stream",
     "text": [
      "Mean squared error TRAIN: 47958.425653137136\n",
      "Mean squared error TEST: 71143.01697690922\n"
     ]
    }
   ],
   "source": [
    "y_train_model_2_base = model_2_base.predict(X_train)\n",
    "y_test_model_2_base = model_2_base.predict(X_test)\n",
    "\n",
    "rmse_train_2_base = sqrt(mean_squared_error(y_train, y_train_model_2_base))\n",
    "rmse_test_2_base = sqrt(mean_squared_error(y_test, y_test_model_2_base))\n",
    "print(f'Mean squared error TRAIN: {rmse_train_2_base}')\n",
    "print(f'Mean squared error TEST: {rmse_test_2_base}')"
   ]
  },
  {
   "cell_type": "code",
   "execution_count": null,
   "metadata": {},
   "outputs": [],
   "source": [
    "#It works very good from the start but we'll try to optimize it"
   ]
  },
  {
   "cell_type": "code",
   "execution_count": 106,
   "metadata": {},
   "outputs": [],
   "source": [
    "model_2 = RandomForestRegressor(n_estimators=300, n_jobs = -1) #Armo el arbol \n",
    "\n",
    "\n",
    "param_grid = {'max_depth': [22,24,25],   \n",
    "              'min_samples_split':[2,4,6],\n",
    "              'min_samples_leaf':[1,2,5],} \n"
   ]
  },
  {
   "cell_type": "code",
   "execution_count": 54,
   "metadata": {},
   "outputs": [
    {
     "name": "stdout",
     "output_type": "stream",
     "text": [
      "Wall time: 59min 45s\n"
     ]
    },
    {
     "data": {
      "text/plain": [
       "'\\nmodel2_t.fit(X_train, y_train)\\n'"
      ]
     },
     "execution_count": 54,
     "metadata": {},
     "output_type": "execute_result"
    }
   ],
   "source": [
    "%%time\n",
    "\n",
    "# Grid Search\n",
    "model2 = GridSearchCV(model_2, param_grid=param_grid, cv=5)\n",
    "\n",
    "# Train: using the previous grid and CV with fold = 5 \n",
    "model2.fit(X_train, y_train)\n"
   ]
  },
  {
   "cell_type": "code",
   "execution_count": 55,
   "metadata": {},
   "outputs": [
    {
     "name": "stdout",
     "output_type": "stream",
     "text": [
      "Mejores parametros: {'max_depth': 22, 'min_samples_leaf': 1, 'min_samples_split': 2}\n"
     ]
    }
   ],
   "source": [
    "print(\"Best Parameters: \"+str(model2.best_params_))\n",
    "\n",
    "\n",
    "#scores = pd.DataFrame(model2_t.cv_results_) \n",
    "#scores"
   ]
  },
  {
   "cell_type": "code",
   "execution_count": 56,
   "metadata": {},
   "outputs": [
    {
     "data": {
      "text/plain": [
       "'\\npred_train_2t = model2_t.predict(X_train)\\npred_test_2t = model2_t.predict(X_test)\\n'"
      ]
     },
     "execution_count": 56,
     "metadata": {},
     "output_type": "execute_result"
    }
   ],
   "source": [
    "#Predict\n",
    "pred_train_2 = model2.predict(X_train)\n",
    "pred_test_2 = model2.predict(X_test)\n"
   ]
  },
  {
   "cell_type": "code",
   "execution_count": 57,
   "metadata": {},
   "outputs": [
    {
     "name": "stdout",
     "output_type": "stream",
     "text": [
      "Raíz del error cuadrático medio en Test: 70929.1959928595\n",
      "Raíz del error cuadrático medio en Train: 48830.98621501203\n"
     ]
    },
    {
     "data": {
      "text/plain": [
       "\"\\nrmse_test_2t = sqrt(mean_squared_error(y_test, pred_test_2t))\\nrmse_train_2t = sqrt(mean_squared_error(y_train, pred_train_2t))\\nprint(f'Raíz del error cuadrático medio en Test: {rmse_test_2t}')\\nprint(f'Raíz del error cuadrático medio en Train: {rmse_train_2t}')\\n\""
      ]
     },
     "execution_count": 57,
     "metadata": {},
     "output_type": "execute_result"
    }
   ],
   "source": [
    "rmse_test_2 = sqrt(mean_squared_error(y_test, pred_test_2))\n",
    "rmse_train_2 = sqrt(mean_squared_error(y_train, pred_train_2))\n",
    "print(f'Mean squared error TEST: {rmse_test_2}')\n",
    "print(f'Mean squared error TRAIN: {rmse_train_2}')\n"
   ]
  },
  {
   "cell_type": "markdown",
   "metadata": {},
   "source": [
    "We managed to lower the error in the test (which was the really important thing) even though the change was minimal"
   ]
  },
  {
   "cell_type": "markdown",
   "metadata": {},
   "source": [
    "Conclusions Part B:\n",
    "\n",
    "Taking into account the results, we see that Random Forest presents very low errors from the beginning and with its original parameters, which is quite useful.\n",
    "Likewise, although the XG Boost errors are not so low, we see that they are more similar in the train and in the test.\n",
    "\n",
    "On the other hand, and compared to the models in Part A, we see that we managed to lose approximately 10.000USD in both train and test models. \n",
    "\n",
    "As for the ADABoost, we ruled it out from the beginning since we noticed that it does not perform very well."
   ]
  },
  {
   "cell_type": "markdown",
   "metadata": {},
   "source": [
    "## Part C"
   ]
  },
  {
   "cell_type": "code",
   "execution_count": 109,
   "metadata": {},
   "outputs": [
    {
     "data": {
      "text/html": [
       "<div>\n",
       "<style scoped>\n",
       "    .dataframe tbody tr th:only-of-type {\n",
       "        vertical-align: middle;\n",
       "    }\n",
       "\n",
       "    .dataframe tbody tr th {\n",
       "        vertical-align: top;\n",
       "    }\n",
       "\n",
       "    .dataframe thead th {\n",
       "        text-align: right;\n",
       "    }\n",
       "</style>\n",
       "<table border=\"1\" class=\"dataframe\">\n",
       "  <thead>\n",
       "    <tr style=\"text-align: right;\">\n",
       "      <th></th>\n",
       "      <th>price</th>\n",
       "      <th>surface_total_R</th>\n",
       "      <th>surface_covered_R</th>\n",
       "      <th>bathrooms_R</th>\n",
       "      <th>rooms_R</th>\n",
       "      <th>bedrooms_R</th>\n",
       "      <th>property_type_Casa</th>\n",
       "      <th>property_type_Departamento</th>\n",
       "      <th>property_type_PH</th>\n",
       "      <th>l2_Bs.As. G.B.A. Zona Norte</th>\n",
       "      <th>l2_Bs.As. G.B.A. Zona Oeste</th>\n",
       "      <th>l2_Bs.As. G.B.A. Zona Sur</th>\n",
       "      <th>l2_Capital Federal</th>\n",
       "    </tr>\n",
       "  </thead>\n",
       "  <tbody>\n",
       "    <tr>\n",
       "      <th>price</th>\n",
       "      <td>1.000000</td>\n",
       "      <td>0.311441</td>\n",
       "      <td>0.544441</td>\n",
       "      <td>0.637059</td>\n",
       "      <td>0.526375</td>\n",
       "      <td>0.492754</td>\n",
       "      <td>0.110305</td>\n",
       "      <td>-0.056573</td>\n",
       "      <td>-0.047602</td>\n",
       "      <td>0.037029</td>\n",
       "      <td>-0.135380</td>\n",
       "      <td>-0.092552</td>\n",
       "      <td>0.110516</td>\n",
       "    </tr>\n",
       "    <tr>\n",
       "      <th>surface_total_R</th>\n",
       "      <td>0.311441</td>\n",
       "      <td>1.000000</td>\n",
       "      <td>0.696821</td>\n",
       "      <td>0.371048</td>\n",
       "      <td>0.487405</td>\n",
       "      <td>0.446997</td>\n",
       "      <td>0.551010</td>\n",
       "      <td>-0.456488</td>\n",
       "      <td>0.009666</td>\n",
       "      <td>0.182907</td>\n",
       "      <td>0.076360</td>\n",
       "      <td>0.132824</td>\n",
       "      <td>-0.272673</td>\n",
       "    </tr>\n",
       "    <tr>\n",
       "      <th>surface_covered_R</th>\n",
       "      <td>0.544441</td>\n",
       "      <td>0.696821</td>\n",
       "      <td>1.000000</td>\n",
       "      <td>0.530921</td>\n",
       "      <td>0.653887</td>\n",
       "      <td>0.617738</td>\n",
       "      <td>0.452926</td>\n",
       "      <td>-0.408634</td>\n",
       "      <td>0.055482</td>\n",
       "      <td>0.109291</td>\n",
       "      <td>0.048689</td>\n",
       "      <td>0.085209</td>\n",
       "      <td>-0.168526</td>\n",
       "    </tr>\n",
       "    <tr>\n",
       "      <th>bathrooms_R</th>\n",
       "      <td>0.637059</td>\n",
       "      <td>0.371048</td>\n",
       "      <td>0.530921</td>\n",
       "      <td>1.000000</td>\n",
       "      <td>0.585076</td>\n",
       "      <td>0.557310</td>\n",
       "      <td>0.237105</td>\n",
       "      <td>-0.176208</td>\n",
       "      <td>-0.024620</td>\n",
       "      <td>0.112822</td>\n",
       "      <td>-0.031528</td>\n",
       "      <td>-0.003350</td>\n",
       "      <td>-0.066768</td>\n",
       "    </tr>\n",
       "    <tr>\n",
       "      <th>rooms_R</th>\n",
       "      <td>0.526375</td>\n",
       "      <td>0.487405</td>\n",
       "      <td>0.653887</td>\n",
       "      <td>0.585076</td>\n",
       "      <td>1.000000</td>\n",
       "      <td>0.867432</td>\n",
       "      <td>0.424900</td>\n",
       "      <td>-0.433501</td>\n",
       "      <td>0.123420</td>\n",
       "      <td>0.046003</td>\n",
       "      <td>0.040173</td>\n",
       "      <td>0.111896</td>\n",
       "      <td>-0.132052</td>\n",
       "    </tr>\n",
       "    <tr>\n",
       "      <th>bedrooms_R</th>\n",
       "      <td>0.492754</td>\n",
       "      <td>0.446997</td>\n",
       "      <td>0.617738</td>\n",
       "      <td>0.557310</td>\n",
       "      <td>0.867432</td>\n",
       "      <td>1.000000</td>\n",
       "      <td>0.337554</td>\n",
       "      <td>-0.373787</td>\n",
       "      <td>0.139887</td>\n",
       "      <td>0.047093</td>\n",
       "      <td>0.050374</td>\n",
       "      <td>-0.029451</td>\n",
       "      <td>-0.046469</td>\n",
       "    </tr>\n",
       "    <tr>\n",
       "      <th>property_type_Casa</th>\n",
       "      <td>0.110305</td>\n",
       "      <td>0.551010</td>\n",
       "      <td>0.452926</td>\n",
       "      <td>0.237105</td>\n",
       "      <td>0.424900</td>\n",
       "      <td>0.337554</td>\n",
       "      <td>1.000000</td>\n",
       "      <td>-0.718191</td>\n",
       "      <td>-0.139372</td>\n",
       "      <td>0.140730</td>\n",
       "      <td>0.225234</td>\n",
       "      <td>0.312296</td>\n",
       "      <td>-0.443844</td>\n",
       "    </tr>\n",
       "    <tr>\n",
       "      <th>property_type_Departamento</th>\n",
       "      <td>-0.056573</td>\n",
       "      <td>-0.456488</td>\n",
       "      <td>-0.408634</td>\n",
       "      <td>-0.176208</td>\n",
       "      <td>-0.433501</td>\n",
       "      <td>-0.373787</td>\n",
       "      <td>-0.718191</td>\n",
       "      <td>1.000000</td>\n",
       "      <td>-0.588959</td>\n",
       "      <td>-0.079800</td>\n",
       "      <td>-0.202667</td>\n",
       "      <td>-0.244096</td>\n",
       "      <td>0.339029</td>\n",
       "    </tr>\n",
       "    <tr>\n",
       "      <th>property_type_PH</th>\n",
       "      <td>-0.047602</td>\n",
       "      <td>0.009666</td>\n",
       "      <td>0.055482</td>\n",
       "      <td>-0.024620</td>\n",
       "      <td>0.123420</td>\n",
       "      <td>0.139887</td>\n",
       "      <td>-0.139372</td>\n",
       "      <td>-0.588959</td>\n",
       "      <td>1.000000</td>\n",
       "      <td>-0.049884</td>\n",
       "      <td>0.026822</td>\n",
       "      <td>-0.015338</td>\n",
       "      <td>0.033022</td>\n",
       "    </tr>\n",
       "    <tr>\n",
       "      <th>l2_Bs.As. G.B.A. Zona Norte</th>\n",
       "      <td>0.037029</td>\n",
       "      <td>0.182907</td>\n",
       "      <td>0.109291</td>\n",
       "      <td>0.112822</td>\n",
       "      <td>0.046003</td>\n",
       "      <td>0.047093</td>\n",
       "      <td>0.140730</td>\n",
       "      <td>-0.079800</td>\n",
       "      <td>-0.049884</td>\n",
       "      <td>1.000000</td>\n",
       "      <td>-0.136036</td>\n",
       "      <td>-0.157317</td>\n",
       "      <td>-0.591765</td>\n",
       "    </tr>\n",
       "    <tr>\n",
       "      <th>l2_Bs.As. G.B.A. Zona Oeste</th>\n",
       "      <td>-0.135380</td>\n",
       "      <td>0.076360</td>\n",
       "      <td>0.048689</td>\n",
       "      <td>-0.031528</td>\n",
       "      <td>0.040173</td>\n",
       "      <td>0.050374</td>\n",
       "      <td>0.225234</td>\n",
       "      <td>-0.202667</td>\n",
       "      <td>0.026822</td>\n",
       "      <td>-0.136036</td>\n",
       "      <td>1.000000</td>\n",
       "      <td>-0.107819</td>\n",
       "      <td>-0.405570</td>\n",
       "    </tr>\n",
       "    <tr>\n",
       "      <th>l2_Bs.As. G.B.A. Zona Sur</th>\n",
       "      <td>-0.092552</td>\n",
       "      <td>0.132824</td>\n",
       "      <td>0.085209</td>\n",
       "      <td>-0.003350</td>\n",
       "      <td>0.111896</td>\n",
       "      <td>-0.029451</td>\n",
       "      <td>0.312296</td>\n",
       "      <td>-0.244096</td>\n",
       "      <td>-0.015338</td>\n",
       "      <td>-0.157317</td>\n",
       "      <td>-0.107819</td>\n",
       "      <td>1.000000</td>\n",
       "      <td>-0.469018</td>\n",
       "    </tr>\n",
       "    <tr>\n",
       "      <th>l2_Capital Federal</th>\n",
       "      <td>0.110516</td>\n",
       "      <td>-0.272673</td>\n",
       "      <td>-0.168526</td>\n",
       "      <td>-0.066768</td>\n",
       "      <td>-0.132052</td>\n",
       "      <td>-0.046469</td>\n",
       "      <td>-0.443844</td>\n",
       "      <td>0.339029</td>\n",
       "      <td>0.033022</td>\n",
       "      <td>-0.591765</td>\n",
       "      <td>-0.405570</td>\n",
       "      <td>-0.469018</td>\n",
       "      <td>1.000000</td>\n",
       "    </tr>\n",
       "  </tbody>\n",
       "</table>\n",
       "</div>"
      ],
      "text/plain": [
       "                                price  surface_total_R  surface_covered_R  \\\n",
       "price                        1.000000         0.311441           0.544441   \n",
       "surface_total_R              0.311441         1.000000           0.696821   \n",
       "surface_covered_R            0.544441         0.696821           1.000000   \n",
       "bathrooms_R                  0.637059         0.371048           0.530921   \n",
       "rooms_R                      0.526375         0.487405           0.653887   \n",
       "bedrooms_R                   0.492754         0.446997           0.617738   \n",
       "property_type_Casa           0.110305         0.551010           0.452926   \n",
       "property_type_Departamento  -0.056573        -0.456488          -0.408634   \n",
       "property_type_PH            -0.047602         0.009666           0.055482   \n",
       "l2_Bs.As. G.B.A. Zona Norte  0.037029         0.182907           0.109291   \n",
       "l2_Bs.As. G.B.A. Zona Oeste -0.135380         0.076360           0.048689   \n",
       "l2_Bs.As. G.B.A. Zona Sur   -0.092552         0.132824           0.085209   \n",
       "l2_Capital Federal           0.110516        -0.272673          -0.168526   \n",
       "\n",
       "                             bathrooms_R   rooms_R  bedrooms_R  \\\n",
       "price                           0.637059  0.526375    0.492754   \n",
       "surface_total_R                 0.371048  0.487405    0.446997   \n",
       "surface_covered_R               0.530921  0.653887    0.617738   \n",
       "bathrooms_R                     1.000000  0.585076    0.557310   \n",
       "rooms_R                         0.585076  1.000000    0.867432   \n",
       "bedrooms_R                      0.557310  0.867432    1.000000   \n",
       "property_type_Casa              0.237105  0.424900    0.337554   \n",
       "property_type_Departamento     -0.176208 -0.433501   -0.373787   \n",
       "property_type_PH               -0.024620  0.123420    0.139887   \n",
       "l2_Bs.As. G.B.A. Zona Norte     0.112822  0.046003    0.047093   \n",
       "l2_Bs.As. G.B.A. Zona Oeste    -0.031528  0.040173    0.050374   \n",
       "l2_Bs.As. G.B.A. Zona Sur      -0.003350  0.111896   -0.029451   \n",
       "l2_Capital Federal             -0.066768 -0.132052   -0.046469   \n",
       "\n",
       "                             property_type_Casa  property_type_Departamento  \\\n",
       "price                                  0.110305                   -0.056573   \n",
       "surface_total_R                        0.551010                   -0.456488   \n",
       "surface_covered_R                      0.452926                   -0.408634   \n",
       "bathrooms_R                            0.237105                   -0.176208   \n",
       "rooms_R                                0.424900                   -0.433501   \n",
       "bedrooms_R                             0.337554                   -0.373787   \n",
       "property_type_Casa                     1.000000                   -0.718191   \n",
       "property_type_Departamento            -0.718191                    1.000000   \n",
       "property_type_PH                      -0.139372                   -0.588959   \n",
       "l2_Bs.As. G.B.A. Zona Norte            0.140730                   -0.079800   \n",
       "l2_Bs.As. G.B.A. Zona Oeste            0.225234                   -0.202667   \n",
       "l2_Bs.As. G.B.A. Zona Sur              0.312296                   -0.244096   \n",
       "l2_Capital Federal                    -0.443844                    0.339029   \n",
       "\n",
       "                             property_type_PH  l2_Bs.As. G.B.A. Zona Norte  \\\n",
       "price                               -0.047602                     0.037029   \n",
       "surface_total_R                      0.009666                     0.182907   \n",
       "surface_covered_R                    0.055482                     0.109291   \n",
       "bathrooms_R                         -0.024620                     0.112822   \n",
       "rooms_R                              0.123420                     0.046003   \n",
       "bedrooms_R                           0.139887                     0.047093   \n",
       "property_type_Casa                  -0.139372                     0.140730   \n",
       "property_type_Departamento          -0.588959                    -0.079800   \n",
       "property_type_PH                     1.000000                    -0.049884   \n",
       "l2_Bs.As. G.B.A. Zona Norte         -0.049884                     1.000000   \n",
       "l2_Bs.As. G.B.A. Zona Oeste          0.026822                    -0.136036   \n",
       "l2_Bs.As. G.B.A. Zona Sur           -0.015338                    -0.157317   \n",
       "l2_Capital Federal                   0.033022                    -0.591765   \n",
       "\n",
       "                             l2_Bs.As. G.B.A. Zona Oeste  \\\n",
       "price                                          -0.135380   \n",
       "surface_total_R                                 0.076360   \n",
       "surface_covered_R                               0.048689   \n",
       "bathrooms_R                                    -0.031528   \n",
       "rooms_R                                         0.040173   \n",
       "bedrooms_R                                      0.050374   \n",
       "property_type_Casa                              0.225234   \n",
       "property_type_Departamento                     -0.202667   \n",
       "property_type_PH                                0.026822   \n",
       "l2_Bs.As. G.B.A. Zona Norte                    -0.136036   \n",
       "l2_Bs.As. G.B.A. Zona Oeste                     1.000000   \n",
       "l2_Bs.As. G.B.A. Zona Sur                      -0.107819   \n",
       "l2_Capital Federal                             -0.405570   \n",
       "\n",
       "                             l2_Bs.As. G.B.A. Zona Sur  l2_Capital Federal  \n",
       "price                                        -0.092552            0.110516  \n",
       "surface_total_R                               0.132824           -0.272673  \n",
       "surface_covered_R                             0.085209           -0.168526  \n",
       "bathrooms_R                                  -0.003350           -0.066768  \n",
       "rooms_R                                       0.111896           -0.132052  \n",
       "bedrooms_R                                   -0.029451           -0.046469  \n",
       "property_type_Casa                            0.312296           -0.443844  \n",
       "property_type_Departamento                   -0.244096            0.339029  \n",
       "property_type_PH                             -0.015338            0.033022  \n",
       "l2_Bs.As. G.B.A. Zona Norte                  -0.157317           -0.591765  \n",
       "l2_Bs.As. G.B.A. Zona Oeste                  -0.107819           -0.405570  \n",
       "l2_Bs.As. G.B.A. Zona Sur                     1.000000           -0.469018  \n",
       "l2_Capital Federal                           -0.469018            1.000000  "
      ]
     },
     "execution_count": 109,
     "metadata": {},
     "output_type": "execute_result"
    }
   ],
   "source": [
    "df.corr()"
   ]
  },
  {
   "cell_type": "markdown",
   "metadata": {},
   "source": [
    "First, we'll analyze different predictor variables, see the importance of them, etc.\n",
    "\n",
    "Then, we'll test the models by removing some variables.\n",
    "\n",
    "In the last part, we'll analyze the results"
   ]
  },
  {
   "cell_type": "code",
   "execution_count": 110,
   "metadata": {},
   "outputs": [
    {
     "data": {
      "text/plain": [
       "['price',\n",
       " 'surface_total_R',\n",
       " 'surface_covered_R',\n",
       " 'bathrooms_R',\n",
       " 'rooms_R',\n",
       " 'bedrooms_R',\n",
       " 'property_type_Casa',\n",
       " 'property_type_Departamento',\n",
       " 'property_type_PH',\n",
       " 'l2_Bs.As. G.B.A. Zona Norte',\n",
       " 'l2_Bs.As. G.B.A. Zona Oeste',\n",
       " 'l2_Bs.As. G.B.A. Zona Sur',\n",
       " 'l2_Capital Federal']"
      ]
     },
     "execution_count": 110,
     "metadata": {},
     "output_type": "execute_result"
    }
   ],
   "source": [
    "list(df.columns)"
   ]
  },
  {
   "cell_type": "code",
   "execution_count": 111,
   "metadata": {},
   "outputs": [
    {
     "name": "stdout",
     "output_type": "stream",
     "text": [
      "surface_total_R 0\n",
      "surface_covered_R 1\n",
      "bathrooms_R 2\n",
      "rooms_R 3\n",
      "bedrooms_R 4\n",
      "property_type_Casa 5\n",
      "property_type_Departamento 6\n",
      "property_type_PH 7\n",
      "l2_Bs.As. G.B.A. Zona Norte 8\n",
      "l2_Bs.As. G.B.A. Zona Oeste 9\n",
      "l2_Bs.As. G.B.A. Zona Sur 10\n",
      "l2_Capital Federal 11\n"
     ]
    }
   ],
   "source": [
    "lista_columnas = ['surface_total_R', 'surface_covered_R', 'bathrooms_R', 'rooms_R', 'bedrooms_R', 'property_type_Casa', 'property_type_Departamento', 'property_type_PH', 'l2_Bs.As. G.B.A. Zona Norte', 'l2_Bs.As. G.B.A. Zona Oeste', 'l2_Bs.As. G.B.A. Zona Sur', 'l2_Capital Federal' ]\n",
    "i = -1 #Starting on 0\n",
    "\n",
    "for elemento in lista_columnas:    \n",
    "    i = i+1 # Adding one each time\n",
    "    print(elemento, i)\n",
    "    \n",
    "#See the number that should have each variable in the plot "
   ]
  },
  {
   "cell_type": "code",
   "execution_count": 112,
   "metadata": {},
   "outputs": [
    {
     "name": "stdout",
     "output_type": "stream",
     "text": [
      "[0.01539287 0.44074461 0.40300478 0.01467988 0.         0.00384375\n",
      " 0.05170664 0.00121081 0.         0.03512665 0.         0.03429001]\n"
     ]
    }
   ],
   "source": [
    "#Feature importance in ADABoost\n",
    "\n",
    "print(ada_clf.feature_importances_)"
   ]
  },
  {
   "cell_type": "code",
   "execution_count": 113,
   "metadata": {},
   "outputs": [
    {
     "data": {
      "image/png": "[encoded data removed]",
      "text/plain": [
       "<Figure size 432x288 with 1 Axes>"
      ]
     },
     "metadata": {
      "needs_background": "light"
     },
     "output_type": "display_data"
    },
    {
     "data": {
      "text/plain": [
       "<BarContainer object of 12 artists>"
      ]
     },
     "execution_count": 113,
     "metadata": {},
     "output_type": "execute_result"
    },
    {
     "data": {
      "image/png": "[encoded data removed]",
      "text/plain": [
       "<Figure size 432x288 with 1 Axes>"
      ]
     },
     "metadata": {
      "needs_background": "light"
     },
     "output_type": "display_data"
    }
   ],
   "source": [
    "import matplotlib.pyplot as plt\n",
    "\n",
    "# plot\n",
    "plt.bar(range(len(ada_clf.feature_importances_)), ada_clf.feature_importances_)\n",
    "plt.show()\n",
    "plt.title('Feature Importances in ADABOOST')\n",
    "\n",
    "plt.barh(lista_columnas, ada_clf.feature_importances_)"
   ]
  },
  {
   "cell_type": "code",
   "execution_count": 114,
   "metadata": {},
   "outputs": [
    {
     "name": "stdout",
     "output_type": "stream",
     "text": [
      "[0.04083368 0.28614413 0.4813165  0.01657334 0.01114353 0.00247113\n",
      " 0.08884536 0.00365331 0.00560679 0.00490503 0.00184765 0.05665956]\n"
     ]
    }
   ],
   "source": [
    "#Feature importances in XGBoost\n",
    "print(model_1_base.feature_importances_)"
   ]
  },
  {
   "cell_type": "code",
   "execution_count": 115,
   "metadata": {},
   "outputs": [
    {
     "data": {
      "image/png": "[encoded data removed]",
      "text/plain": [
       "<Figure size 432x288 with 1 Axes>"
      ]
     },
     "metadata": {
      "needs_background": "light"
     },
     "output_type": "display_data"
    },
    {
     "data": {
      "text/plain": [
       "Text(0.5, 1.0, 'Feature Importances in XGBOOST')"
      ]
     },
     "execution_count": 115,
     "metadata": {},
     "output_type": "execute_result"
    },
    {
     "data": {
      "image/png": "[encoded data removed]",
      "text/plain": [
       "<Figure size 432x288 with 1 Axes>"
      ]
     },
     "metadata": {
      "needs_background": "light"
     },
     "output_type": "display_data"
    }
   ],
   "source": [
    "import matplotlib.pyplot as plt\n",
    "\n",
    "# plot\n",
    "plt.bar(range(len(model_1_base.feature_importances_)), model_1_base.feature_importances_, color = 'r')\n",
    "plt.show()\n",
    "\n",
    "plt.barh(lista_columnas, model_1_base.feature_importances_, color = 'r')\n",
    "plt.title('Feature Importances in XGBOOST')"
   ]
  },
  {
   "cell_type": "code",
   "execution_count": 107,
   "metadata": {},
   "outputs": [
    {
     "name": "stdout",
     "output_type": "stream",
     "text": [
      "[0.12984727 0.23043833 0.45516466 0.03342305 0.03077634 0.00370056\n",
      " 0.06047327 0.00345588 0.00834299 0.0039734  0.00370398 0.03670027]\n"
     ]
    }
   ],
   "source": [
    "#Feature importances in Random Forest\n",
    "\n",
    "print(model_2_base.feature_importances_)"
   ]
  },
  {
   "cell_type": "code",
   "execution_count": 130,
   "metadata": {},
   "outputs": [
    {
     "data": {
      "image/png": "[encoded data removed]",
      "text/plain": [
       "<Figure size 432x288 with 1 Axes>"
      ]
     },
     "metadata": {},
     "output_type": "display_data"
    },
    {
     "data": {
      "text/plain": [
       "Text(0.5, 1.0, 'Feature Importances in Random Forest')"
      ]
     },
     "execution_count": 130,
     "metadata": {},
     "output_type": "execute_result"
    },
    {
     "data": {
      "image/png": "[encoded data removed]",
      "text/plain": [
       "<Figure size 432x288 with 1 Axes>"
      ]
     },
     "metadata": {},
     "output_type": "display_data"
    }
   ],
   "source": [
    "# plot\n",
    "plt.bar(range(len(model_2_base.feature_importances_)), model_2_base.feature_importances_, color = 'g')\n",
    "plt.show()\n",
    "\n",
    "plt.barh(lista_columnas, model_2_base.feature_importances_, color = 'g')\n",
    "plt.title('Feature Importances in Random Forest')"
   ]
  },
  {
   "cell_type": "code",
   "execution_count": 117,
   "metadata": {},
   "outputs": [],
   "source": [
    "#XGBoost and Random Forest use bathrooms and surface_covered as great predictor variables\n",
    "#On the other hand Rooms and Bethrooms are not good predictor variables"
   ]
  },
  {
   "cell_type": "markdown",
   "metadata": {},
   "source": [
    "Testing this..."
   ]
  },
  {
   "cell_type": "code",
   "execution_count": 118,
   "metadata": {},
   "outputs": [],
   "source": [
    "#Build different trees \n",
    "X = df.drop(['price'], axis=1) \n",
    "y = df['price']\n",
    "\n",
    "# Split \n",
    "X_train, X_test, y_train, y_test = train_test_split(X, y, test_size=0.3, random_state=42)"
   ]
  },
  {
   "cell_type": "code",
   "execution_count": 119,
   "metadata": {},
   "outputs": [
    {
     "name": "stdout",
     "output_type": "stream",
     "text": [
      "Mean Squared Error TEST: 82963.06779380876\n",
      "Mean Squared Error TRAIN: 77648.67782684235\n"
     ]
    }
   ],
   "source": [
    "tree_ex = DecisionTreeRegressor(max_depth = 10, min_samples_split= 4)  \n",
    " \n",
    "tree_ex.fit(X_train, y_train)\n",
    "\n",
    "#Predict\n",
    "prediction_tree_test =tree_ex.predict(X_test)\n",
    "prediction_tree_train = tree_ex.predict(X_train)\n",
    "\n",
    "#Evaluate\n",
    "\n",
    "rmse_test_ex = sqrt(mean_squared_error(y_test, prediction_tree_test))\n",
    "rmse_train_ex= sqrt(mean_squared_error(y_train, prediction_tree_train))\n",
    "print(f'Mean Squared Error TEST: {rmse_test_ex}')\n",
    "print(f'Mean Squared Error TRAIN: {rmse_train_ex}')"
   ]
  },
  {
   "cell_type": "code",
   "execution_count": 120,
   "metadata": {},
   "outputs": [
    {
     "data": {
      "text/plain": [
       "Text(0.5, 1.0, 'Feature Importances in Trees')"
      ]
     },
     "execution_count": 120,
     "metadata": {},
     "output_type": "execute_result"
    },
    {
     "data": {
      "image/png": "[encoded data removed]",
      "text/plain": [
       "<Figure size 432x288 with 1 Axes>"
      ]
     },
     "metadata": {
      "needs_background": "light"
     },
     "output_type": "display_data"
    }
   ],
   "source": [
    "# plot\n",
    "plt.barh(lista_columnas, tree_ex.feature_importances_, color = 'purple')\n",
    "plt.title('Feature Importances in Trees')"
   ]
  },
  {
   "cell_type": "code",
   "execution_count": 121,
   "metadata": {},
   "outputs": [],
   "source": [
    "#Change the variables and see the results\n",
    "\n",
    "X = df.drop(['price', 'rooms_R', 'bedrooms_R'], axis=1) #test drop(['l2_R']) drop('rooms_R', 'bedrooms_R') drop('property_type_R'), etc\n",
    "y = df['price']\n",
    "\n",
    "# Split\n",
    "X_train, X_test, y_train, y_test = train_test_split(X, y, test_size=0.3, random_state=42)"
   ]
  },
  {
   "cell_type": "code",
   "execution_count": 122,
   "metadata": {},
   "outputs": [],
   "source": [
    "model_p = GradientBoostingRegressor()"
   ]
  },
  {
   "cell_type": "code",
   "execution_count": 123,
   "metadata": {},
   "outputs": [
    {
     "name": "stdout",
     "output_type": "stream",
     "text": [
      "Mean Squared Error TEST: 88248.45742305726\n",
      "Mean Squared Error TRAIN: 86936.65412746277\n"
     ]
    }
   ],
   "source": [
    "model_p.fit(X_train, y_train)\n",
    "\n",
    "prediction_model_p_test = model_p.predict(X_test)\n",
    "prediction_model_p_train = model_p.predict(X_train)\n",
    "\n",
    "\n",
    "rmse_test_p = sqrt(mean_squared_error(y_test, prediction_model_p_test))\n",
    "rmse_train_p= sqrt(mean_squared_error(y_train, prediction_model_p_train))\n",
    "print(f'Mean Squared Error TEST: {rmse_test_p}')\n",
    "print(f'Mean Squared Error TRAIN: {rmse_train_p}')"
   ]
  },
  {
   "cell_type": "code",
   "execution_count": 124,
   "metadata": {},
   "outputs": [
    {
     "data": {
      "text/plain": [
       "RandomForestRegressor()"
      ]
     },
     "execution_count": 124,
     "metadata": {},
     "output_type": "execute_result"
    }
   ],
   "source": [
    "model_pp = RandomForestRegressor()\n",
    "model_pp.fit(X_train, y_train)"
   ]
  },
  {
   "cell_type": "code",
   "execution_count": 125,
   "metadata": {},
   "outputs": [
    {
     "name": "stdout",
     "output_type": "stream",
     "text": [
      "Mean Squared Error TRAIN: 57693.726319930065\n",
      "Mean Squared Error TEST: 77763.54235740443\n"
     ]
    }
   ],
   "source": [
    "y_train_model_pp = model_pp.predict(X_train)\n",
    "y_test_model_pp = model_pp.predict(X_test)\n",
    "\n",
    "rmse_train_pp = sqrt(mean_squared_error(y_train, y_train_model_pp))\n",
    "rmse_test_pp = sqrt(mean_squared_error(y_test, y_test_model_pp))\n",
    "print(f'Mean Squared Error TRAIN: {rmse_train_pp}')\n",
    "print(f'Mean Squared Error TEST: {rmse_test_pp}')"
   ]
  },
  {
   "cell_type": "markdown",
   "metadata": {},
   "source": [
    "We'll plot the errors"
   ]
  },
  {
   "cell_type": "code",
   "execution_count": 58,
   "metadata": {},
   "outputs": [
    {
     "name": "stdout",
     "output_type": "stream",
     "text": [
      "Random Forest\n"
     ]
    },
    {
     "name": "stderr",
     "output_type": "stream",
     "text": [
      "C:\\Users\\Usuario\\miniconda3\\envs\\datascience\\lib\\site-packages\\seaborn\\distributions.py:2551: FutureWarning: `distplot` is a deprecated function and will be removed in a future version. Please adapt your code to use either `displot` (a figure-level function with similar flexibility) or `histplot` (an axes-level function for histograms).\n",
      "  warnings.warn(msg, FutureWarning)\n",
      "C:\\Users\\Usuario\\miniconda3\\envs\\datascience\\lib\\site-packages\\seaborn\\distributions.py:2551: FutureWarning: `distplot` is a deprecated function and will be removed in a future version. Please adapt your code to use either `displot` (a figure-level function with similar flexibility) or `histplot` (an axes-level function for histograms).\n",
      "  warnings.warn(msg, FutureWarning)\n"
     ]
    },
    {
     "data": {
      "image/png": "[encoded data removed]",
      "text/plain": [
       "<Figure size 1152x576 with 2 Axes>"
      ]
     },
     "metadata": {},
     "output_type": "display_data"
    }
   ],
   "source": [
    "print(\"Random Forest\")\n",
    "\n",
    "plt.figure(figsize = (16,8))\n",
    "\n",
    "plt.subplot(1,2,1)\n",
    "sns.distplot(y_train - pred_train_2, bins = 100, label = 'train')\n",
    "sns.distplot(y_test - pred_test_2, bins = 100, label = 'test')\n",
    "plt.xlabel('mistakes')\n",
    "plt.legend()\n",
    "\n",
    "\n",
    "ax = plt.subplot(1,2,2)\n",
    "ax.scatter(y_test,pred_test_2, s =2)\n",
    "\n",
    "lims = [\n",
    "np.min([ax.get_xlim(), ax.get_ylim()]),  # min of both axes\n",
    "np.max([ax.get_xlim(), ax.get_ylim()]),  # max of both axes]\n",
    "]\n",
    "\n",
    "ax.plot(lims, lims, 'k-', alpha=0.75, zorder=0)\n",
    "plt.xlabel('y (test)')\n",
    "plt.ylabel('y_pred (test)')\n",
    "\n",
    "plt.tight_layout()\n",
    "plt.show()"
   ]
  },
  {
   "cell_type": "code",
   "execution_count": 52,
   "metadata": {},
   "outputs": [
    {
     "name": "stdout",
     "output_type": "stream",
     "text": [
      "Gradient Boosting\n"
     ]
    },
    {
     "name": "stderr",
     "output_type": "stream",
     "text": [
      "C:\\Users\\Usuario\\miniconda3\\envs\\datascience\\lib\\site-packages\\seaborn\\distributions.py:2551: FutureWarning: `distplot` is a deprecated function and will be removed in a future version. Please adapt your code to use either `displot` (a figure-level function with similar flexibility) or `histplot` (an axes-level function for histograms).\n",
      "  warnings.warn(msg, FutureWarning)\n",
      "C:\\Users\\Usuario\\miniconda3\\envs\\datascience\\lib\\site-packages\\seaborn\\distributions.py:2551: FutureWarning: `distplot` is a deprecated function and will be removed in a future version. Please adapt your code to use either `displot` (a figure-level function with similar flexibility) or `histplot` (an axes-level function for histograms).\n",
      "  warnings.warn(msg, FutureWarning)\n"
     ]
    },
    {
     "data": {
      "image/png": "[encoded data removed]",
      "text/plain": [
       "<Figure size 1152x576 with 2 Axes>"
      ]
     },
     "metadata": {},
     "output_type": "display_data"
    }
   ],
   "source": [
    "print(\"Gradient Boosting\")\n",
    "\n",
    "plt.figure(figsize = (16,8))\n",
    "\n",
    "plt.subplot(1,2,1)\n",
    "sns.distplot(y_train - prediction_model_1_train, bins = 100, label = 'train')\n",
    "sns.distplot(y_test - prediction_model_1_test, bins = 100, label = 'test')\n",
    "plt.xlabel('mistakes')\n",
    "plt.legend()\n",
    "\n",
    "\n",
    "ax = plt.subplot(1,2,2)\n",
    "ax.scatter(y_test,prediction_model_1_test, s =2)\n",
    "\n",
    "'''\n",
    "lims = [\n",
    "np.min([ax.get_xlim(), ax.get_ylim()]),  # min of both axes\n",
    "np.max([ax.get_xlim(), ax.get_ylim()]),  # max of both axes]\n",
    "]\n",
    "'''\n",
    "ax.plot(lims, lims, 'k-', alpha=0.75, zorder=0)\n",
    "plt.xlabel('y (test)')\n",
    "plt.ylabel('y_pred (test)')\n",
    "\n",
    "plt.tight_layout()\n",
    "plt.show()"
   ]
  },
  {
   "cell_type": "markdown",
   "metadata": {},
   "source": [
    "#### Conclusions:\n",
    "\n",
    "First of all, we saw the importance of features in advanced models...\n",
    "In the three models, it coincides that the most important are 'bathrooms' and 'surface_covered'\n",
    "Likewise, it agrees that 'rooms' and 'bedrooms' are of little importance.\n",
    "\n",
    "Then, we were testing several regression trees and we noticed that when they have less depth, they are \"simple\" and concentrate their importance on 'bathrooms' and 'surface_covered'. \n",
    "As they become more complex, the importance of other features increases, as can occur in the case of 'surface_total', neighborhoods of 'L2' or even 'Department' in the type of property.\n",
    "We emphasize that likewise, there comes a time when this growth stops and the model already begins to overfit (for example at depths greater than 30)\n",
    "\n",
    "\n",
    "We test to see the important variables in our models and we analyze the model to see its error when modifying its variables, in order to see the impact it actually has.\n",
    "\n",
    "We managed to notice that eliminating the predictor variables \"bathrooms\" and \"surface covered\" the error goes up USD 10,000 in XG BOOST and USD 16,000 in random forest, it's a lot!\n",
    "At first, we concluded that both were very good predictor variables, which coincides with what was seen \"theoretically\" in the previous point.\n",
    "Likewise, we continued investigating and when we tried to eliminate \"rooms\" and \"bedrooms\" (both at the same time), the errors did not increase as much (approx USD 3,000 in Boosting and USD 6,000 in Bagging), so we cannot consider them to be very relevant variables. However we can not subtract all the importance.\n",
    "\n",
    "We keep trying and completely removing the L2 variable we see that the error goes up to about 5000USD (in Boosting) and the same thing happens when we remove \"property type\". This, then, tells us that discriminating by type of property and by neighborhood is more relevant than having the variables 'Rooms' and 'bathrooms'...\n",
    "\n",
    "We conclude, then, that bathrooms and surfaces are the best variables to predict what we have, and also being able to count on \"L2\" (the neighborhood) and the type of property, both help to reduce this error considerably. We had already noticed this when encoding and testing the models of part A (we tested them before and after doing it). \n",
    "\n",
    "\n",
    "Finally, it is the set of all the variables that helps us to have the lowest possible error, and taking into account that we do an important cleaning of the dataset, it is not cumbersome or annoying for us to be able to use all the variables that we are left with. . Likewise, in the case of Random forest, we can notice with greater emphasis that the errors when modifying the variables increase much more.\n",
    "\n",
    "Looking at the distribution of errors, we notice that it does not seem to be skewed to the right or to the left, it would be more like a \"normal distribution\". We appreciate the peaks in the center that indicate where the errors are concentrated. That is, the errors are concentrated at zero (or around it). It should be noted that in the train, the errors are increasingly concentrated at zero, but both (train and test) have similar distributions. So, the model capture more and more observations when we get closer to zero, however, the error increases in more expensive houses.\n",
    "\n",
    "\n",
    "\n",
    "How to improve the model?\n",
    "\n",
    "Personally, I believe that the model could be improved initially from a better preprocessing. We could try to find a better and greater correlation between the surfaces and the variable to be predicted (price). I also think we could look at the outliers in bathrooms to see if there are any and eliminate them by trying to increase the correlation with the price as well.\n",
    "I believe that the variable L3 could be incorporated, which, although it would enlarge the dataset quite a bit, could help us make our predictions more accurate since it would be each specific neighborhood (and we know that a property does not turn out the same in Palermo as in San Telmo, for example )."
   ]
  },
  {
   "cell_type": "code",
   "execution_count": null,
   "metadata": {},
   "outputs": [],
   "source": []
  }
 ],
 "metadata": {
  "kernelspec": {
   "display_name": "Python 3",
   "language": "python",
   "name": "python3"
  },
  "language_info": {
   "codemirror_mode": {
    "name": "ipython",
    "version": 3
   },
   "file_extension": ".py",
   "mimetype": "text/x-python",
   "name": "python",
   "nbconvert_exporter": "python",
   "pygments_lexer": "ipython3",
   "version": "3.8.5"
  }
 },
 "nbformat": 4,
 "nbformat_minor": 4
}
